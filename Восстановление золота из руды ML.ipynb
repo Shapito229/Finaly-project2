{
 "cells": [
  {
   "cell_type": "markdown",
   "metadata": {
    "toc": true
   },
   "source": [
    "<h1>Содержание<span class=\"tocSkip\"></span></h1>\n",
    "<div class=\"toc\"><ul class=\"toc-item\"><li><span><a href=\"#Подготовка-данных\" data-toc-modified-id=\"Подготовка-данных-1\"><span class=\"toc-item-num\">1&nbsp;&nbsp;</span>Подготовка данных</a></span></li><li><span><a href=\"#Анализ-данных\" data-toc-modified-id=\"Анализ-данных-2\"><span class=\"toc-item-num\">2&nbsp;&nbsp;</span>Анализ данных</a></span><ul class=\"toc-item\"><li><span><a href=\"#Посмотрите,-как-меняется-концентрация-металлов-(Au,-Ag,-Pb)-на-различных-этапах-очистки.-Опишите-выводы.\" data-toc-modified-id=\"Посмотрите,-как-меняется-концентрация-металлов-(Au,-Ag,-Pb)-на-различных-этапах-очистки.-Опишите-выводы.-2.1\"><span class=\"toc-item-num\">2.1&nbsp;&nbsp;</span>Посмотрите, как меняется концентрация металлов (Au, Ag, Pb) на различных этапах очистки. Опишите выводы.</a></span></li><li><span><a href=\"#Сравните-распределения-размеров-гранул-сырья-на-обучающей-и-тестовой-выборках.-Если-распределения-сильно-отличаются-друг-от-друга,-оценка-модели-будет-неправильной.\" data-toc-modified-id=\"Сравните-распределения-размеров-гранул-сырья-на-обучающей-и-тестовой-выборках.-Если-распределения-сильно-отличаются-друг-от-друга,-оценка-модели-будет-неправильной.-2.2\"><span class=\"toc-item-num\">2.2&nbsp;&nbsp;</span>Сравните распределения размеров гранул сырья на обучающей и тестовой выборках. Если распределения сильно отличаются друг от друга, оценка модели будет неправильной.</a></span></li><li><span><a href=\"#Исследуйте-суммарную-концентрацию-всех-веществ-на-разных-стадиях:-в-сырье,-в-черновом-и-финальном-концентратах.\" data-toc-modified-id=\"Исследуйте-суммарную-концентрацию-всех-веществ-на-разных-стадиях:-в-сырье,-в-черновом-и-финальном-концентратах.-2.3\"><span class=\"toc-item-num\">2.3&nbsp;&nbsp;</span>Исследуйте суммарную концентрацию всех веществ на разных стадиях: в сырье, в черновом и финальном концентратах.</a></span></li></ul></li><li><span><a href=\"#Модель\" data-toc-modified-id=\"Модель-3\"><span class=\"toc-item-num\">3&nbsp;&nbsp;</span>Модель</a></span><ul class=\"toc-item\"><li><span><a href=\"#Напишите-функцию-для-вычисления-итоговой-sMAPE\" data-toc-modified-id=\"Напишите-функцию-для-вычисления-итоговой-sMAPE-3.1\"><span class=\"toc-item-num\">3.1&nbsp;&nbsp;</span>Напишите функцию для вычисления итоговой sMAPE</a></span></li><li><span><a href=\"#Обучите-разные-модели-и-оцените-их-качество-кросс-валидацией.-Выберите-лучшую-модель-и-проверьте-её-на-тестовой-выборке.-Опишите-выводы.\" data-toc-modified-id=\"Обучите-разные-модели-и-оцените-их-качество-кросс-валидацией.-Выберите-лучшую-модель-и-проверьте-её-на-тестовой-выборке.-Опишите-выводы.-3.2\"><span class=\"toc-item-num\">3.2&nbsp;&nbsp;</span>Обучите разные модели и оцените их качество кросс-валидацией. Выберите лучшую модель и проверьте её на тестовой выборке. Опишите выводы.</a></span></li></ul></li><li><span><a href=\"#Вывод\" data-toc-modified-id=\"Вывод-4\"><span class=\"toc-item-num\">4&nbsp;&nbsp;</span>Вывод</a></span></li></ul></div>"
   ]
  },
  {
   "cell_type": "markdown",
   "metadata": {},
   "source": [
    "# Восстановление золота из руды"
   ]
  },
  {
   "cell_type": "markdown",
   "metadata": {},
   "source": [
    "Подготовьте прототип модели машинного обучения для «Цифры». Компания разрабатывает решения для эффективной работы промышленных предприятий.\n",
    "\n",
    "Модель должна предсказать коэффициент восстановления золота из золотосодержащей руды. Используйте данные с параметрами добычи и очистки. \n",
    "\n",
    "Модель поможет оптимизировать производство, чтобы не запускать предприятие с убыточными характеристиками.\n",
    "\n",
    "Вам нужно:\n",
    "\n",
    "1. Подготовить данные;\n",
    "2. Провести исследовательский анализ данных - нужно смоделировать процесс восстановления золота из золотосодержащей руды.\n",
    "3. Построить и обучить модель. - для решения задачи, вводим метрику Smape(Она одинаково учитывает масштаб и целевого признака, и предсказания.)\n",
    "\n",
    "Нужно спрогнозировать сразу две величины:\n",
    "1. эффективность обогащения чернового концентрата rougher.output.recovery;\n",
    "2. эффективность обогащения финального концентрата final.output.recovery.\n",
    "\n",
    "Чтобы выполнить проект, обращайтесь к библиотекам *pandas*, *matplotlib* и *sklearn.* Вам поможет их документация."
   ]
  },
  {
   "cell_type": "markdown",
   "metadata": {},
   "source": [
    "## Подготовка данных"
   ]
  },
  {
   "cell_type": "code",
   "execution_count": 1,
   "metadata": {},
   "outputs": [],
   "source": [
    "import pandas as pd\n",
    "import numpy as np\n",
    "import seaborn as sns\n",
    "import matplotlib.pyplot as plt\n",
    "from sklearn.metrics import mean_absolute_error\n",
    "from sklearn.linear_model import LinearRegression\n",
    "from sklearn.tree import DecisionTreeRegressor\n",
    "from sklearn.model_selection import cross_val_score\n",
    "from sklearn.ensemble import RandomForestRegressor\n",
    "from IPython.display import display\n",
    "from sklearn.model_selection import train_test_split\n",
    "import warnings\n",
    "import seaborn as sns\n",
    "import matplotlib.pyplot as plt\n",
    "import pandas as pd\n",
    "from sklearn.model_selection import GridSearchCV\n"
   ]
  },
  {
   "cell_type": "code",
   "execution_count": 2,
   "metadata": {},
   "outputs": [],
   "source": [
    "warnings.filterwarnings(\"ignore\")"
   ]
  },
  {
   "cell_type": "code",
   "execution_count": 3,
   "metadata": {},
   "outputs": [
    {
     "data": {
      "text/html": [
       "<div>\n",
       "<style scoped>\n",
       "    .dataframe tbody tr th:only-of-type {\n",
       "        vertical-align: middle;\n",
       "    }\n",
       "\n",
       "    .dataframe tbody tr th {\n",
       "        vertical-align: top;\n",
       "    }\n",
       "\n",
       "    .dataframe thead th {\n",
       "        text-align: right;\n",
       "    }\n",
       "</style>\n",
       "<table border=\"1\" class=\"dataframe\">\n",
       "  <thead>\n",
       "    <tr style=\"text-align: right;\">\n",
       "      <th></th>\n",
       "      <th>date</th>\n",
       "      <th>final.output.concentrate_ag</th>\n",
       "      <th>final.output.concentrate_pb</th>\n",
       "      <th>final.output.concentrate_sol</th>\n",
       "      <th>final.output.concentrate_au</th>\n",
       "      <th>final.output.recovery</th>\n",
       "      <th>final.output.tail_ag</th>\n",
       "      <th>final.output.tail_pb</th>\n",
       "      <th>final.output.tail_sol</th>\n",
       "      <th>final.output.tail_au</th>\n",
       "      <th>...</th>\n",
       "      <th>secondary_cleaner.state.floatbank4_a_air</th>\n",
       "      <th>secondary_cleaner.state.floatbank4_a_level</th>\n",
       "      <th>secondary_cleaner.state.floatbank4_b_air</th>\n",
       "      <th>secondary_cleaner.state.floatbank4_b_level</th>\n",
       "      <th>secondary_cleaner.state.floatbank5_a_air</th>\n",
       "      <th>secondary_cleaner.state.floatbank5_a_level</th>\n",
       "      <th>secondary_cleaner.state.floatbank5_b_air</th>\n",
       "      <th>secondary_cleaner.state.floatbank5_b_level</th>\n",
       "      <th>secondary_cleaner.state.floatbank6_a_air</th>\n",
       "      <th>secondary_cleaner.state.floatbank6_a_level</th>\n",
       "    </tr>\n",
       "  </thead>\n",
       "  <tbody>\n",
       "    <tr>\n",
       "      <td>0</td>\n",
       "      <td>2016-01-15 00:00:00</td>\n",
       "      <td>6.055403</td>\n",
       "      <td>9.889648</td>\n",
       "      <td>5.507324</td>\n",
       "      <td>42.192020</td>\n",
       "      <td>70.541216</td>\n",
       "      <td>10.411962</td>\n",
       "      <td>0.895447</td>\n",
       "      <td>16.904297</td>\n",
       "      <td>2.143149</td>\n",
       "      <td>...</td>\n",
       "      <td>14.016835</td>\n",
       "      <td>-502.488007</td>\n",
       "      <td>12.099931</td>\n",
       "      <td>-504.715942</td>\n",
       "      <td>9.925633</td>\n",
       "      <td>-498.310211</td>\n",
       "      <td>8.079666</td>\n",
       "      <td>-500.470978</td>\n",
       "      <td>14.151341</td>\n",
       "      <td>-605.841980</td>\n",
       "    </tr>\n",
       "    <tr>\n",
       "      <td>1</td>\n",
       "      <td>2016-01-15 01:00:00</td>\n",
       "      <td>6.029369</td>\n",
       "      <td>9.968944</td>\n",
       "      <td>5.257781</td>\n",
       "      <td>42.701629</td>\n",
       "      <td>69.266198</td>\n",
       "      <td>10.462676</td>\n",
       "      <td>0.927452</td>\n",
       "      <td>16.634514</td>\n",
       "      <td>2.224930</td>\n",
       "      <td>...</td>\n",
       "      <td>13.992281</td>\n",
       "      <td>-505.503262</td>\n",
       "      <td>11.950531</td>\n",
       "      <td>-501.331529</td>\n",
       "      <td>10.039245</td>\n",
       "      <td>-500.169983</td>\n",
       "      <td>7.984757</td>\n",
       "      <td>-500.582168</td>\n",
       "      <td>13.998353</td>\n",
       "      <td>-599.787184</td>\n",
       "    </tr>\n",
       "    <tr>\n",
       "      <td>2</td>\n",
       "      <td>2016-01-15 02:00:00</td>\n",
       "      <td>6.055926</td>\n",
       "      <td>10.213995</td>\n",
       "      <td>5.383759</td>\n",
       "      <td>42.657501</td>\n",
       "      <td>68.116445</td>\n",
       "      <td>10.507046</td>\n",
       "      <td>0.953716</td>\n",
       "      <td>16.208849</td>\n",
       "      <td>2.257889</td>\n",
       "      <td>...</td>\n",
       "      <td>14.015015</td>\n",
       "      <td>-502.520901</td>\n",
       "      <td>11.912783</td>\n",
       "      <td>-501.133383</td>\n",
       "      <td>10.070913</td>\n",
       "      <td>-500.129135</td>\n",
       "      <td>8.013877</td>\n",
       "      <td>-500.517572</td>\n",
       "      <td>14.028663</td>\n",
       "      <td>-601.427363</td>\n",
       "    </tr>\n",
       "    <tr>\n",
       "      <td>3</td>\n",
       "      <td>2016-01-15 03:00:00</td>\n",
       "      <td>6.047977</td>\n",
       "      <td>9.977019</td>\n",
       "      <td>4.858634</td>\n",
       "      <td>42.689819</td>\n",
       "      <td>68.347543</td>\n",
       "      <td>10.422762</td>\n",
       "      <td>0.883763</td>\n",
       "      <td>16.532835</td>\n",
       "      <td>2.146849</td>\n",
       "      <td>...</td>\n",
       "      <td>14.036510</td>\n",
       "      <td>-500.857308</td>\n",
       "      <td>11.999550</td>\n",
       "      <td>-501.193686</td>\n",
       "      <td>9.970366</td>\n",
       "      <td>-499.201640</td>\n",
       "      <td>7.977324</td>\n",
       "      <td>-500.255908</td>\n",
       "      <td>14.005551</td>\n",
       "      <td>-599.996129</td>\n",
       "    </tr>\n",
       "    <tr>\n",
       "      <td>4</td>\n",
       "      <td>2016-01-15 04:00:00</td>\n",
       "      <td>6.148599</td>\n",
       "      <td>10.142511</td>\n",
       "      <td>4.939416</td>\n",
       "      <td>42.774141</td>\n",
       "      <td>66.927016</td>\n",
       "      <td>10.360302</td>\n",
       "      <td>0.792826</td>\n",
       "      <td>16.525686</td>\n",
       "      <td>2.055292</td>\n",
       "      <td>...</td>\n",
       "      <td>14.027298</td>\n",
       "      <td>-499.838632</td>\n",
       "      <td>11.953070</td>\n",
       "      <td>-501.053894</td>\n",
       "      <td>9.925709</td>\n",
       "      <td>-501.686727</td>\n",
       "      <td>7.894242</td>\n",
       "      <td>-500.356035</td>\n",
       "      <td>13.996647</td>\n",
       "      <td>-601.496691</td>\n",
       "    </tr>\n",
       "  </tbody>\n",
       "</table>\n",
       "<p>5 rows × 87 columns</p>\n",
       "</div>"
      ],
      "text/plain": [
       "                  date  final.output.concentrate_ag  \\\n",
       "0  2016-01-15 00:00:00                     6.055403   \n",
       "1  2016-01-15 01:00:00                     6.029369   \n",
       "2  2016-01-15 02:00:00                     6.055926   \n",
       "3  2016-01-15 03:00:00                     6.047977   \n",
       "4  2016-01-15 04:00:00                     6.148599   \n",
       "\n",
       "   final.output.concentrate_pb  final.output.concentrate_sol  \\\n",
       "0                     9.889648                      5.507324   \n",
       "1                     9.968944                      5.257781   \n",
       "2                    10.213995                      5.383759   \n",
       "3                     9.977019                      4.858634   \n",
       "4                    10.142511                      4.939416   \n",
       "\n",
       "   final.output.concentrate_au  final.output.recovery  final.output.tail_ag  \\\n",
       "0                    42.192020              70.541216             10.411962   \n",
       "1                    42.701629              69.266198             10.462676   \n",
       "2                    42.657501              68.116445             10.507046   \n",
       "3                    42.689819              68.347543             10.422762   \n",
       "4                    42.774141              66.927016             10.360302   \n",
       "\n",
       "   final.output.tail_pb  final.output.tail_sol  final.output.tail_au  ...  \\\n",
       "0              0.895447              16.904297              2.143149  ...   \n",
       "1              0.927452              16.634514              2.224930  ...   \n",
       "2              0.953716              16.208849              2.257889  ...   \n",
       "3              0.883763              16.532835              2.146849  ...   \n",
       "4              0.792826              16.525686              2.055292  ...   \n",
       "\n",
       "   secondary_cleaner.state.floatbank4_a_air  \\\n",
       "0                                 14.016835   \n",
       "1                                 13.992281   \n",
       "2                                 14.015015   \n",
       "3                                 14.036510   \n",
       "4                                 14.027298   \n",
       "\n",
       "   secondary_cleaner.state.floatbank4_a_level  \\\n",
       "0                                 -502.488007   \n",
       "1                                 -505.503262   \n",
       "2                                 -502.520901   \n",
       "3                                 -500.857308   \n",
       "4                                 -499.838632   \n",
       "\n",
       "   secondary_cleaner.state.floatbank4_b_air  \\\n",
       "0                                 12.099931   \n",
       "1                                 11.950531   \n",
       "2                                 11.912783   \n",
       "3                                 11.999550   \n",
       "4                                 11.953070   \n",
       "\n",
       "   secondary_cleaner.state.floatbank4_b_level  \\\n",
       "0                                 -504.715942   \n",
       "1                                 -501.331529   \n",
       "2                                 -501.133383   \n",
       "3                                 -501.193686   \n",
       "4                                 -501.053894   \n",
       "\n",
       "   secondary_cleaner.state.floatbank5_a_air  \\\n",
       "0                                  9.925633   \n",
       "1                                 10.039245   \n",
       "2                                 10.070913   \n",
       "3                                  9.970366   \n",
       "4                                  9.925709   \n",
       "\n",
       "   secondary_cleaner.state.floatbank5_a_level  \\\n",
       "0                                 -498.310211   \n",
       "1                                 -500.169983   \n",
       "2                                 -500.129135   \n",
       "3                                 -499.201640   \n",
       "4                                 -501.686727   \n",
       "\n",
       "   secondary_cleaner.state.floatbank5_b_air  \\\n",
       "0                                  8.079666   \n",
       "1                                  7.984757   \n",
       "2                                  8.013877   \n",
       "3                                  7.977324   \n",
       "4                                  7.894242   \n",
       "\n",
       "   secondary_cleaner.state.floatbank5_b_level  \\\n",
       "0                                 -500.470978   \n",
       "1                                 -500.582168   \n",
       "2                                 -500.517572   \n",
       "3                                 -500.255908   \n",
       "4                                 -500.356035   \n",
       "\n",
       "   secondary_cleaner.state.floatbank6_a_air  \\\n",
       "0                                 14.151341   \n",
       "1                                 13.998353   \n",
       "2                                 14.028663   \n",
       "3                                 14.005551   \n",
       "4                                 13.996647   \n",
       "\n",
       "   secondary_cleaner.state.floatbank6_a_level  \n",
       "0                                 -605.841980  \n",
       "1                                 -599.787184  \n",
       "2                                 -601.427363  \n",
       "3                                 -599.996129  \n",
       "4                                 -601.496691  \n",
       "\n",
       "[5 rows x 87 columns]"
      ]
     },
     "metadata": {},
     "output_type": "display_data"
    }
   ],
   "source": [
    "data_train=pd.read_csv('/datasets/gold_recovery_train_new.csv')\n",
    "display(data_train.head())"
   ]
  },
  {
   "cell_type": "code",
   "execution_count": 4,
   "metadata": {},
   "outputs": [
    {
     "data": {
      "text/html": [
       "<div>\n",
       "<style scoped>\n",
       "    .dataframe tbody tr th:only-of-type {\n",
       "        vertical-align: middle;\n",
       "    }\n",
       "\n",
       "    .dataframe tbody tr th {\n",
       "        vertical-align: top;\n",
       "    }\n",
       "\n",
       "    .dataframe thead th {\n",
       "        text-align: right;\n",
       "    }\n",
       "</style>\n",
       "<table border=\"1\" class=\"dataframe\">\n",
       "  <thead>\n",
       "    <tr style=\"text-align: right;\">\n",
       "      <th></th>\n",
       "      <th>date</th>\n",
       "      <th>primary_cleaner.input.sulfate</th>\n",
       "      <th>primary_cleaner.input.depressant</th>\n",
       "      <th>primary_cleaner.input.feed_size</th>\n",
       "      <th>primary_cleaner.input.xanthate</th>\n",
       "      <th>primary_cleaner.state.floatbank8_a_air</th>\n",
       "      <th>primary_cleaner.state.floatbank8_a_level</th>\n",
       "      <th>primary_cleaner.state.floatbank8_b_air</th>\n",
       "      <th>primary_cleaner.state.floatbank8_b_level</th>\n",
       "      <th>primary_cleaner.state.floatbank8_c_air</th>\n",
       "      <th>...</th>\n",
       "      <th>secondary_cleaner.state.floatbank4_a_air</th>\n",
       "      <th>secondary_cleaner.state.floatbank4_a_level</th>\n",
       "      <th>secondary_cleaner.state.floatbank4_b_air</th>\n",
       "      <th>secondary_cleaner.state.floatbank4_b_level</th>\n",
       "      <th>secondary_cleaner.state.floatbank5_a_air</th>\n",
       "      <th>secondary_cleaner.state.floatbank5_a_level</th>\n",
       "      <th>secondary_cleaner.state.floatbank5_b_air</th>\n",
       "      <th>secondary_cleaner.state.floatbank5_b_level</th>\n",
       "      <th>secondary_cleaner.state.floatbank6_a_air</th>\n",
       "      <th>secondary_cleaner.state.floatbank6_a_level</th>\n",
       "    </tr>\n",
       "  </thead>\n",
       "  <tbody>\n",
       "    <tr>\n",
       "      <td>0</td>\n",
       "      <td>2016-09-01 00:59:59</td>\n",
       "      <td>210.800909</td>\n",
       "      <td>14.993118</td>\n",
       "      <td>8.080000</td>\n",
       "      <td>1.005021</td>\n",
       "      <td>1398.981301</td>\n",
       "      <td>-500.225577</td>\n",
       "      <td>1399.144926</td>\n",
       "      <td>-499.919735</td>\n",
       "      <td>1400.102998</td>\n",
       "      <td>...</td>\n",
       "      <td>12.023554</td>\n",
       "      <td>-497.795834</td>\n",
       "      <td>8.016656</td>\n",
       "      <td>-501.289139</td>\n",
       "      <td>7.946562</td>\n",
       "      <td>-432.317850</td>\n",
       "      <td>4.872511</td>\n",
       "      <td>-500.037437</td>\n",
       "      <td>26.705889</td>\n",
       "      <td>-499.709414</td>\n",
       "    </tr>\n",
       "    <tr>\n",
       "      <td>1</td>\n",
       "      <td>2016-09-01 01:59:59</td>\n",
       "      <td>215.392455</td>\n",
       "      <td>14.987471</td>\n",
       "      <td>8.080000</td>\n",
       "      <td>0.990469</td>\n",
       "      <td>1398.777912</td>\n",
       "      <td>-500.057435</td>\n",
       "      <td>1398.055362</td>\n",
       "      <td>-499.778182</td>\n",
       "      <td>1396.151033</td>\n",
       "      <td>...</td>\n",
       "      <td>12.058140</td>\n",
       "      <td>-498.695773</td>\n",
       "      <td>8.130979</td>\n",
       "      <td>-499.634209</td>\n",
       "      <td>7.958270</td>\n",
       "      <td>-525.839648</td>\n",
       "      <td>4.878850</td>\n",
       "      <td>-500.162375</td>\n",
       "      <td>25.019940</td>\n",
       "      <td>-499.819438</td>\n",
       "    </tr>\n",
       "    <tr>\n",
       "      <td>2</td>\n",
       "      <td>2016-09-01 02:59:59</td>\n",
       "      <td>215.259946</td>\n",
       "      <td>12.884934</td>\n",
       "      <td>7.786667</td>\n",
       "      <td>0.996043</td>\n",
       "      <td>1398.493666</td>\n",
       "      <td>-500.868360</td>\n",
       "      <td>1398.860436</td>\n",
       "      <td>-499.764529</td>\n",
       "      <td>1398.075709</td>\n",
       "      <td>...</td>\n",
       "      <td>11.962366</td>\n",
       "      <td>-498.767484</td>\n",
       "      <td>8.096893</td>\n",
       "      <td>-500.827423</td>\n",
       "      <td>8.071056</td>\n",
       "      <td>-500.801673</td>\n",
       "      <td>4.905125</td>\n",
       "      <td>-499.828510</td>\n",
       "      <td>24.994862</td>\n",
       "      <td>-500.622559</td>\n",
       "    </tr>\n",
       "    <tr>\n",
       "      <td>3</td>\n",
       "      <td>2016-09-01 03:59:59</td>\n",
       "      <td>215.336236</td>\n",
       "      <td>12.006805</td>\n",
       "      <td>7.640000</td>\n",
       "      <td>0.863514</td>\n",
       "      <td>1399.618111</td>\n",
       "      <td>-498.863574</td>\n",
       "      <td>1397.440120</td>\n",
       "      <td>-499.211024</td>\n",
       "      <td>1400.129303</td>\n",
       "      <td>...</td>\n",
       "      <td>12.033091</td>\n",
       "      <td>-498.350935</td>\n",
       "      <td>8.074946</td>\n",
       "      <td>-499.474407</td>\n",
       "      <td>7.897085</td>\n",
       "      <td>-500.868509</td>\n",
       "      <td>4.931400</td>\n",
       "      <td>-499.963623</td>\n",
       "      <td>24.948919</td>\n",
       "      <td>-498.709987</td>\n",
       "    </tr>\n",
       "    <tr>\n",
       "      <td>4</td>\n",
       "      <td>2016-09-01 04:59:59</td>\n",
       "      <td>199.099327</td>\n",
       "      <td>10.682530</td>\n",
       "      <td>7.530000</td>\n",
       "      <td>0.805575</td>\n",
       "      <td>1401.268123</td>\n",
       "      <td>-500.808305</td>\n",
       "      <td>1398.128818</td>\n",
       "      <td>-499.504543</td>\n",
       "      <td>1402.172226</td>\n",
       "      <td>...</td>\n",
       "      <td>12.025367</td>\n",
       "      <td>-500.786497</td>\n",
       "      <td>8.054678</td>\n",
       "      <td>-500.397500</td>\n",
       "      <td>8.107890</td>\n",
       "      <td>-509.526725</td>\n",
       "      <td>4.957674</td>\n",
       "      <td>-500.360026</td>\n",
       "      <td>25.003331</td>\n",
       "      <td>-500.856333</td>\n",
       "    </tr>\n",
       "  </tbody>\n",
       "</table>\n",
       "<p>5 rows × 53 columns</p>\n",
       "</div>"
      ],
      "text/plain": [
       "                  date  primary_cleaner.input.sulfate  \\\n",
       "0  2016-09-01 00:59:59                     210.800909   \n",
       "1  2016-09-01 01:59:59                     215.392455   \n",
       "2  2016-09-01 02:59:59                     215.259946   \n",
       "3  2016-09-01 03:59:59                     215.336236   \n",
       "4  2016-09-01 04:59:59                     199.099327   \n",
       "\n",
       "   primary_cleaner.input.depressant  primary_cleaner.input.feed_size  \\\n",
       "0                         14.993118                         8.080000   \n",
       "1                         14.987471                         8.080000   \n",
       "2                         12.884934                         7.786667   \n",
       "3                         12.006805                         7.640000   \n",
       "4                         10.682530                         7.530000   \n",
       "\n",
       "   primary_cleaner.input.xanthate  primary_cleaner.state.floatbank8_a_air  \\\n",
       "0                        1.005021                             1398.981301   \n",
       "1                        0.990469                             1398.777912   \n",
       "2                        0.996043                             1398.493666   \n",
       "3                        0.863514                             1399.618111   \n",
       "4                        0.805575                             1401.268123   \n",
       "\n",
       "   primary_cleaner.state.floatbank8_a_level  \\\n",
       "0                               -500.225577   \n",
       "1                               -500.057435   \n",
       "2                               -500.868360   \n",
       "3                               -498.863574   \n",
       "4                               -500.808305   \n",
       "\n",
       "   primary_cleaner.state.floatbank8_b_air  \\\n",
       "0                             1399.144926   \n",
       "1                             1398.055362   \n",
       "2                             1398.860436   \n",
       "3                             1397.440120   \n",
       "4                             1398.128818   \n",
       "\n",
       "   primary_cleaner.state.floatbank8_b_level  \\\n",
       "0                               -499.919735   \n",
       "1                               -499.778182   \n",
       "2                               -499.764529   \n",
       "3                               -499.211024   \n",
       "4                               -499.504543   \n",
       "\n",
       "   primary_cleaner.state.floatbank8_c_air  ...  \\\n",
       "0                             1400.102998  ...   \n",
       "1                             1396.151033  ...   \n",
       "2                             1398.075709  ...   \n",
       "3                             1400.129303  ...   \n",
       "4                             1402.172226  ...   \n",
       "\n",
       "   secondary_cleaner.state.floatbank4_a_air  \\\n",
       "0                                 12.023554   \n",
       "1                                 12.058140   \n",
       "2                                 11.962366   \n",
       "3                                 12.033091   \n",
       "4                                 12.025367   \n",
       "\n",
       "   secondary_cleaner.state.floatbank4_a_level  \\\n",
       "0                                 -497.795834   \n",
       "1                                 -498.695773   \n",
       "2                                 -498.767484   \n",
       "3                                 -498.350935   \n",
       "4                                 -500.786497   \n",
       "\n",
       "   secondary_cleaner.state.floatbank4_b_air  \\\n",
       "0                                  8.016656   \n",
       "1                                  8.130979   \n",
       "2                                  8.096893   \n",
       "3                                  8.074946   \n",
       "4                                  8.054678   \n",
       "\n",
       "   secondary_cleaner.state.floatbank4_b_level  \\\n",
       "0                                 -501.289139   \n",
       "1                                 -499.634209   \n",
       "2                                 -500.827423   \n",
       "3                                 -499.474407   \n",
       "4                                 -500.397500   \n",
       "\n",
       "   secondary_cleaner.state.floatbank5_a_air  \\\n",
       "0                                  7.946562   \n",
       "1                                  7.958270   \n",
       "2                                  8.071056   \n",
       "3                                  7.897085   \n",
       "4                                  8.107890   \n",
       "\n",
       "   secondary_cleaner.state.floatbank5_a_level  \\\n",
       "0                                 -432.317850   \n",
       "1                                 -525.839648   \n",
       "2                                 -500.801673   \n",
       "3                                 -500.868509   \n",
       "4                                 -509.526725   \n",
       "\n",
       "   secondary_cleaner.state.floatbank5_b_air  \\\n",
       "0                                  4.872511   \n",
       "1                                  4.878850   \n",
       "2                                  4.905125   \n",
       "3                                  4.931400   \n",
       "4                                  4.957674   \n",
       "\n",
       "   secondary_cleaner.state.floatbank5_b_level  \\\n",
       "0                                 -500.037437   \n",
       "1                                 -500.162375   \n",
       "2                                 -499.828510   \n",
       "3                                 -499.963623   \n",
       "4                                 -500.360026   \n",
       "\n",
       "   secondary_cleaner.state.floatbank6_a_air  \\\n",
       "0                                 26.705889   \n",
       "1                                 25.019940   \n",
       "2                                 24.994862   \n",
       "3                                 24.948919   \n",
       "4                                 25.003331   \n",
       "\n",
       "   secondary_cleaner.state.floatbank6_a_level  \n",
       "0                                 -499.709414  \n",
       "1                                 -499.819438  \n",
       "2                                 -500.622559  \n",
       "3                                 -498.709987  \n",
       "4                                 -500.856333  \n",
       "\n",
       "[5 rows x 53 columns]"
      ]
     },
     "metadata": {},
     "output_type": "display_data"
    }
   ],
   "source": [
    "data_test=pd.read_csv('/datasets/gold_recovery_test_new.csv')\n",
    "display(data_test.head())"
   ]
  },
  {
   "cell_type": "code",
   "execution_count": 5,
   "metadata": {},
   "outputs": [
    {
     "data": {
      "text/html": [
       "<div>\n",
       "<style scoped>\n",
       "    .dataframe tbody tr th:only-of-type {\n",
       "        vertical-align: middle;\n",
       "    }\n",
       "\n",
       "    .dataframe tbody tr th {\n",
       "        vertical-align: top;\n",
       "    }\n",
       "\n",
       "    .dataframe thead th {\n",
       "        text-align: right;\n",
       "    }\n",
       "</style>\n",
       "<table border=\"1\" class=\"dataframe\">\n",
       "  <thead>\n",
       "    <tr style=\"text-align: right;\">\n",
       "      <th></th>\n",
       "      <th>date</th>\n",
       "      <th>final.output.concentrate_ag</th>\n",
       "      <th>final.output.concentrate_pb</th>\n",
       "      <th>final.output.concentrate_sol</th>\n",
       "      <th>final.output.concentrate_au</th>\n",
       "      <th>final.output.recovery</th>\n",
       "      <th>final.output.tail_ag</th>\n",
       "      <th>final.output.tail_pb</th>\n",
       "      <th>final.output.tail_sol</th>\n",
       "      <th>final.output.tail_au</th>\n",
       "      <th>...</th>\n",
       "      <th>secondary_cleaner.state.floatbank4_a_air</th>\n",
       "      <th>secondary_cleaner.state.floatbank4_a_level</th>\n",
       "      <th>secondary_cleaner.state.floatbank4_b_air</th>\n",
       "      <th>secondary_cleaner.state.floatbank4_b_level</th>\n",
       "      <th>secondary_cleaner.state.floatbank5_a_air</th>\n",
       "      <th>secondary_cleaner.state.floatbank5_a_level</th>\n",
       "      <th>secondary_cleaner.state.floatbank5_b_air</th>\n",
       "      <th>secondary_cleaner.state.floatbank5_b_level</th>\n",
       "      <th>secondary_cleaner.state.floatbank6_a_air</th>\n",
       "      <th>secondary_cleaner.state.floatbank6_a_level</th>\n",
       "    </tr>\n",
       "  </thead>\n",
       "  <tbody>\n",
       "    <tr>\n",
       "      <td>0</td>\n",
       "      <td>2016-01-15 00:00:00</td>\n",
       "      <td>6.055403</td>\n",
       "      <td>9.889648</td>\n",
       "      <td>5.507324</td>\n",
       "      <td>42.192020</td>\n",
       "      <td>70.541216</td>\n",
       "      <td>10.411962</td>\n",
       "      <td>0.895447</td>\n",
       "      <td>16.904297</td>\n",
       "      <td>2.143149</td>\n",
       "      <td>...</td>\n",
       "      <td>14.016835</td>\n",
       "      <td>-502.488007</td>\n",
       "      <td>12.099931</td>\n",
       "      <td>-504.715942</td>\n",
       "      <td>9.925633</td>\n",
       "      <td>-498.310211</td>\n",
       "      <td>8.079666</td>\n",
       "      <td>-500.470978</td>\n",
       "      <td>14.151341</td>\n",
       "      <td>-605.841980</td>\n",
       "    </tr>\n",
       "    <tr>\n",
       "      <td>1</td>\n",
       "      <td>2016-01-15 01:00:00</td>\n",
       "      <td>6.029369</td>\n",
       "      <td>9.968944</td>\n",
       "      <td>5.257781</td>\n",
       "      <td>42.701629</td>\n",
       "      <td>69.266198</td>\n",
       "      <td>10.462676</td>\n",
       "      <td>0.927452</td>\n",
       "      <td>16.634514</td>\n",
       "      <td>2.224930</td>\n",
       "      <td>...</td>\n",
       "      <td>13.992281</td>\n",
       "      <td>-505.503262</td>\n",
       "      <td>11.950531</td>\n",
       "      <td>-501.331529</td>\n",
       "      <td>10.039245</td>\n",
       "      <td>-500.169983</td>\n",
       "      <td>7.984757</td>\n",
       "      <td>-500.582168</td>\n",
       "      <td>13.998353</td>\n",
       "      <td>-599.787184</td>\n",
       "    </tr>\n",
       "    <tr>\n",
       "      <td>2</td>\n",
       "      <td>2016-01-15 02:00:00</td>\n",
       "      <td>6.055926</td>\n",
       "      <td>10.213995</td>\n",
       "      <td>5.383759</td>\n",
       "      <td>42.657501</td>\n",
       "      <td>68.116445</td>\n",
       "      <td>10.507046</td>\n",
       "      <td>0.953716</td>\n",
       "      <td>16.208849</td>\n",
       "      <td>2.257889</td>\n",
       "      <td>...</td>\n",
       "      <td>14.015015</td>\n",
       "      <td>-502.520901</td>\n",
       "      <td>11.912783</td>\n",
       "      <td>-501.133383</td>\n",
       "      <td>10.070913</td>\n",
       "      <td>-500.129135</td>\n",
       "      <td>8.013877</td>\n",
       "      <td>-500.517572</td>\n",
       "      <td>14.028663</td>\n",
       "      <td>-601.427363</td>\n",
       "    </tr>\n",
       "    <tr>\n",
       "      <td>3</td>\n",
       "      <td>2016-01-15 03:00:00</td>\n",
       "      <td>6.047977</td>\n",
       "      <td>9.977019</td>\n",
       "      <td>4.858634</td>\n",
       "      <td>42.689819</td>\n",
       "      <td>68.347543</td>\n",
       "      <td>10.422762</td>\n",
       "      <td>0.883763</td>\n",
       "      <td>16.532835</td>\n",
       "      <td>2.146849</td>\n",
       "      <td>...</td>\n",
       "      <td>14.036510</td>\n",
       "      <td>-500.857308</td>\n",
       "      <td>11.999550</td>\n",
       "      <td>-501.193686</td>\n",
       "      <td>9.970366</td>\n",
       "      <td>-499.201640</td>\n",
       "      <td>7.977324</td>\n",
       "      <td>-500.255908</td>\n",
       "      <td>14.005551</td>\n",
       "      <td>-599.996129</td>\n",
       "    </tr>\n",
       "    <tr>\n",
       "      <td>4</td>\n",
       "      <td>2016-01-15 04:00:00</td>\n",
       "      <td>6.148599</td>\n",
       "      <td>10.142511</td>\n",
       "      <td>4.939416</td>\n",
       "      <td>42.774141</td>\n",
       "      <td>66.927016</td>\n",
       "      <td>10.360302</td>\n",
       "      <td>0.792826</td>\n",
       "      <td>16.525686</td>\n",
       "      <td>2.055292</td>\n",
       "      <td>...</td>\n",
       "      <td>14.027298</td>\n",
       "      <td>-499.838632</td>\n",
       "      <td>11.953070</td>\n",
       "      <td>-501.053894</td>\n",
       "      <td>9.925709</td>\n",
       "      <td>-501.686727</td>\n",
       "      <td>7.894242</td>\n",
       "      <td>-500.356035</td>\n",
       "      <td>13.996647</td>\n",
       "      <td>-601.496691</td>\n",
       "    </tr>\n",
       "  </tbody>\n",
       "</table>\n",
       "<p>5 rows × 87 columns</p>\n",
       "</div>"
      ],
      "text/plain": [
       "                  date  final.output.concentrate_ag  \\\n",
       "0  2016-01-15 00:00:00                     6.055403   \n",
       "1  2016-01-15 01:00:00                     6.029369   \n",
       "2  2016-01-15 02:00:00                     6.055926   \n",
       "3  2016-01-15 03:00:00                     6.047977   \n",
       "4  2016-01-15 04:00:00                     6.148599   \n",
       "\n",
       "   final.output.concentrate_pb  final.output.concentrate_sol  \\\n",
       "0                     9.889648                      5.507324   \n",
       "1                     9.968944                      5.257781   \n",
       "2                    10.213995                      5.383759   \n",
       "3                     9.977019                      4.858634   \n",
       "4                    10.142511                      4.939416   \n",
       "\n",
       "   final.output.concentrate_au  final.output.recovery  final.output.tail_ag  \\\n",
       "0                    42.192020              70.541216             10.411962   \n",
       "1                    42.701629              69.266198             10.462676   \n",
       "2                    42.657501              68.116445             10.507046   \n",
       "3                    42.689819              68.347543             10.422762   \n",
       "4                    42.774141              66.927016             10.360302   \n",
       "\n",
       "   final.output.tail_pb  final.output.tail_sol  final.output.tail_au  ...  \\\n",
       "0              0.895447              16.904297              2.143149  ...   \n",
       "1              0.927452              16.634514              2.224930  ...   \n",
       "2              0.953716              16.208849              2.257889  ...   \n",
       "3              0.883763              16.532835              2.146849  ...   \n",
       "4              0.792826              16.525686              2.055292  ...   \n",
       "\n",
       "   secondary_cleaner.state.floatbank4_a_air  \\\n",
       "0                                 14.016835   \n",
       "1                                 13.992281   \n",
       "2                                 14.015015   \n",
       "3                                 14.036510   \n",
       "4                                 14.027298   \n",
       "\n",
       "   secondary_cleaner.state.floatbank4_a_level  \\\n",
       "0                                 -502.488007   \n",
       "1                                 -505.503262   \n",
       "2                                 -502.520901   \n",
       "3                                 -500.857308   \n",
       "4                                 -499.838632   \n",
       "\n",
       "   secondary_cleaner.state.floatbank4_b_air  \\\n",
       "0                                 12.099931   \n",
       "1                                 11.950531   \n",
       "2                                 11.912783   \n",
       "3                                 11.999550   \n",
       "4                                 11.953070   \n",
       "\n",
       "   secondary_cleaner.state.floatbank4_b_level  \\\n",
       "0                                 -504.715942   \n",
       "1                                 -501.331529   \n",
       "2                                 -501.133383   \n",
       "3                                 -501.193686   \n",
       "4                                 -501.053894   \n",
       "\n",
       "   secondary_cleaner.state.floatbank5_a_air  \\\n",
       "0                                  9.925633   \n",
       "1                                 10.039245   \n",
       "2                                 10.070913   \n",
       "3                                  9.970366   \n",
       "4                                  9.925709   \n",
       "\n",
       "   secondary_cleaner.state.floatbank5_a_level  \\\n",
       "0                                 -498.310211   \n",
       "1                                 -500.169983   \n",
       "2                                 -500.129135   \n",
       "3                                 -499.201640   \n",
       "4                                 -501.686727   \n",
       "\n",
       "   secondary_cleaner.state.floatbank5_b_air  \\\n",
       "0                                  8.079666   \n",
       "1                                  7.984757   \n",
       "2                                  8.013877   \n",
       "3                                  7.977324   \n",
       "4                                  7.894242   \n",
       "\n",
       "   secondary_cleaner.state.floatbank5_b_level  \\\n",
       "0                                 -500.470978   \n",
       "1                                 -500.582168   \n",
       "2                                 -500.517572   \n",
       "3                                 -500.255908   \n",
       "4                                 -500.356035   \n",
       "\n",
       "   secondary_cleaner.state.floatbank6_a_air  \\\n",
       "0                                 14.151341   \n",
       "1                                 13.998353   \n",
       "2                                 14.028663   \n",
       "3                                 14.005551   \n",
       "4                                 13.996647   \n",
       "\n",
       "   secondary_cleaner.state.floatbank6_a_level  \n",
       "0                                 -605.841980  \n",
       "1                                 -599.787184  \n",
       "2                                 -601.427363  \n",
       "3                                 -599.996129  \n",
       "4                                 -601.496691  \n",
       "\n",
       "[5 rows x 87 columns]"
      ]
     },
     "metadata": {},
     "output_type": "display_data"
    }
   ],
   "source": [
    "data_full=pd.read_csv('/datasets/gold_recovery_full_new.csv')\n",
    "display(data_full.head())"
   ]
  },
  {
   "cell_type": "code",
   "execution_count": 6,
   "metadata": {},
   "outputs": [
    {
     "name": "stdout",
     "output_type": "stream",
     "text": [
      "**Общая информация датафрейма**\n",
      "<class 'pandas.core.frame.DataFrame'>\n",
      "RangeIndex: 14149 entries, 0 to 14148\n",
      "Data columns (total 87 columns):\n",
      "date                                                  14149 non-null object\n",
      "final.output.concentrate_ag                           14148 non-null float64\n",
      "final.output.concentrate_pb                           14148 non-null float64\n",
      "final.output.concentrate_sol                          13938 non-null float64\n",
      "final.output.concentrate_au                           14149 non-null float64\n",
      "final.output.recovery                                 14149 non-null float64\n",
      "final.output.tail_ag                                  14149 non-null float64\n",
      "final.output.tail_pb                                  14049 non-null float64\n",
      "final.output.tail_sol                                 14144 non-null float64\n",
      "final.output.tail_au                                  14149 non-null float64\n",
      "primary_cleaner.input.sulfate                         14129 non-null float64\n",
      "primary_cleaner.input.depressant                      14117 non-null float64\n",
      "primary_cleaner.input.feed_size                       14149 non-null float64\n",
      "primary_cleaner.input.xanthate                        14049 non-null float64\n",
      "primary_cleaner.output.concentrate_ag                 14149 non-null float64\n",
      "primary_cleaner.output.concentrate_pb                 14063 non-null float64\n",
      "primary_cleaner.output.concentrate_sol                13863 non-null float64\n",
      "primary_cleaner.output.concentrate_au                 14149 non-null float64\n",
      "primary_cleaner.output.tail_ag                        14148 non-null float64\n",
      "primary_cleaner.output.tail_pb                        14134 non-null float64\n",
      "primary_cleaner.output.tail_sol                       14103 non-null float64\n",
      "primary_cleaner.output.tail_au                        14149 non-null float64\n",
      "primary_cleaner.state.floatbank8_a_air                14145 non-null float64\n",
      "primary_cleaner.state.floatbank8_a_level              14148 non-null float64\n",
      "primary_cleaner.state.floatbank8_b_air                14145 non-null float64\n",
      "primary_cleaner.state.floatbank8_b_level              14148 non-null float64\n",
      "primary_cleaner.state.floatbank8_c_air                14147 non-null float64\n",
      "primary_cleaner.state.floatbank8_c_level              14148 non-null float64\n",
      "primary_cleaner.state.floatbank8_d_air                14146 non-null float64\n",
      "primary_cleaner.state.floatbank8_d_level              14148 non-null float64\n",
      "rougher.calculation.sulfate_to_au_concentrate         14148 non-null float64\n",
      "rougher.calculation.floatbank10_sulfate_to_au_feed    14148 non-null float64\n",
      "rougher.calculation.floatbank11_sulfate_to_au_feed    14148 non-null float64\n",
      "rougher.calculation.au_pb_ratio                       14149 non-null float64\n",
      "rougher.input.feed_ag                                 14149 non-null float64\n",
      "rougher.input.feed_pb                                 14049 non-null float64\n",
      "rougher.input.feed_rate                               14141 non-null float64\n",
      "rougher.input.feed_size                               14005 non-null float64\n",
      "rougher.input.feed_sol                                14071 non-null float64\n",
      "rougher.input.feed_au                                 14149 non-null float64\n",
      "rougher.input.floatbank10_sulfate                     14120 non-null float64\n",
      "rougher.input.floatbank10_xanthate                    14141 non-null float64\n",
      "rougher.input.floatbank11_sulfate                     14113 non-null float64\n",
      "rougher.input.floatbank11_xanthate                    13721 non-null float64\n",
      "rougher.output.concentrate_ag                         14149 non-null float64\n",
      "rougher.output.concentrate_pb                         14149 non-null float64\n",
      "rougher.output.concentrate_sol                        14127 non-null float64\n",
      "rougher.output.concentrate_au                         14149 non-null float64\n",
      "rougher.output.recovery                               14149 non-null float64\n",
      "rougher.output.tail_ag                                14148 non-null float64\n",
      "rougher.output.tail_pb                                14149 non-null float64\n",
      "rougher.output.tail_sol                               14149 non-null float64\n",
      "rougher.output.tail_au                                14149 non-null float64\n",
      "rougher.state.floatbank10_a_air                       14148 non-null float64\n",
      "rougher.state.floatbank10_a_level                     14148 non-null float64\n",
      "rougher.state.floatbank10_b_air                       14148 non-null float64\n",
      "rougher.state.floatbank10_b_level                     14148 non-null float64\n",
      "rougher.state.floatbank10_c_air                       14148 non-null float64\n",
      "rougher.state.floatbank10_c_level                     14148 non-null float64\n",
      "rougher.state.floatbank10_d_air                       14149 non-null float64\n",
      "rougher.state.floatbank10_d_level                     14149 non-null float64\n",
      "rougher.state.floatbank10_e_air                       13713 non-null float64\n",
      "rougher.state.floatbank10_e_level                     14149 non-null float64\n",
      "rougher.state.floatbank10_f_air                       14149 non-null float64\n",
      "rougher.state.floatbank10_f_level                     14149 non-null float64\n",
      "secondary_cleaner.output.tail_ag                      14147 non-null float64\n",
      "secondary_cleaner.output.tail_pb                      14139 non-null float64\n",
      "secondary_cleaner.output.tail_sol                     12544 non-null float64\n",
      "secondary_cleaner.output.tail_au                      14149 non-null float64\n",
      "secondary_cleaner.state.floatbank2_a_air              13932 non-null float64\n",
      "secondary_cleaner.state.floatbank2_a_level            14148 non-null float64\n",
      "secondary_cleaner.state.floatbank2_b_air              14128 non-null float64\n",
      "secondary_cleaner.state.floatbank2_b_level            14148 non-null float64\n",
      "secondary_cleaner.state.floatbank3_a_air              14145 non-null float64\n",
      "secondary_cleaner.state.floatbank3_a_level            14148 non-null float64\n",
      "secondary_cleaner.state.floatbank3_b_air              14148 non-null float64\n",
      "secondary_cleaner.state.floatbank3_b_level            14148 non-null float64\n",
      "secondary_cleaner.state.floatbank4_a_air              14143 non-null float64\n",
      "secondary_cleaner.state.floatbank4_a_level            14148 non-null float64\n",
      "secondary_cleaner.state.floatbank4_b_air              14148 non-null float64\n",
      "secondary_cleaner.state.floatbank4_b_level            14148 non-null float64\n",
      "secondary_cleaner.state.floatbank5_a_air              14148 non-null float64\n",
      "secondary_cleaner.state.floatbank5_a_level            14148 non-null float64\n",
      "secondary_cleaner.state.floatbank5_b_air              14148 non-null float64\n",
      "secondary_cleaner.state.floatbank5_b_level            14148 non-null float64\n",
      "secondary_cleaner.state.floatbank6_a_air              14147 non-null float64\n",
      "secondary_cleaner.state.floatbank6_a_level            14148 non-null float64\n",
      "dtypes: float64(86), object(1)\n",
      "memory usage: 9.4+ MB\n",
      "None\n",
      "-------------------------------------------------------------------------------------------------------------\n",
      "**Просмотр статистических данных**\n",
      "       final.output.concentrate_ag  final.output.concentrate_pb  \\\n",
      "count                 14148.000000                 14148.000000   \n",
      "mean                      5.142034                    10.132960   \n",
      "std                       1.369586                     1.654930   \n",
      "min                       0.000000                     0.000000   \n",
      "25%                       4.211620                     9.297355   \n",
      "50%                       4.994652                    10.297144   \n",
      "75%                       5.859540                    11.170603   \n",
      "max                      16.001945                    17.031899   \n",
      "\n",
      "       final.output.concentrate_sol  final.output.concentrate_au  \\\n",
      "count                  13938.000000                 14149.000000   \n",
      "mean                       9.202849                    44.003792   \n",
      "std                        2.790516                     4.905261   \n",
      "min                        0.000000                     0.000000   \n",
      "25%                        7.484645                    43.276111   \n",
      "50%                        8.845462                    44.872436   \n",
      "75%                       10.487508                    46.166425   \n",
      "max                       18.124851                    52.756638   \n",
      "\n",
      "       final.output.recovery  final.output.tail_ag  final.output.tail_pb  \\\n",
      "count           14149.000000          14149.000000          14049.000000   \n",
      "mean               66.518832              9.607035              2.597298   \n",
      "std                10.295402              2.319069              0.971843   \n",
      "min                 0.000000              0.000000              0.000000   \n",
      "25%                62.545817              7.997429              1.905973   \n",
      "50%                67.432775              9.480270              2.592022   \n",
      "75%                72.346428             11.003707              3.241723   \n",
      "max               100.000000             19.552149              5.639565   \n",
      "\n",
      "       final.output.tail_sol  final.output.tail_au  \\\n",
      "count           14144.000000          14149.000000   \n",
      "mean               10.512122              2.918421   \n",
      "std                 3.003617              0.903712   \n",
      "min                 0.000000              0.000000   \n",
      "25%                 8.811324              2.368607   \n",
      "50%                10.514621              2.851025   \n",
      "75%                11.933009              3.434764   \n",
      "max                22.317730              8.197408   \n",
      "\n",
      "       primary_cleaner.input.sulfate  ...  \\\n",
      "count                   14129.000000  ...   \n",
      "mean                      133.320659  ...   \n",
      "std                        39.431659  ...   \n",
      "min                         0.003112  ...   \n",
      "25%                       107.006651  ...   \n",
      "50%                       133.018328  ...   \n",
      "75%                       159.825396  ...   \n",
      "max                       250.127834  ...   \n",
      "\n",
      "       secondary_cleaner.state.floatbank4_a_air  \\\n",
      "count                              14143.000000   \n",
      "mean                                  19.985454   \n",
      "std                                    5.657723   \n",
      "min                                    0.000000   \n",
      "25%                                   14.990775   \n",
      "50%                                   20.001789   \n",
      "75%                                   24.990826   \n",
      "max                                   30.115735   \n",
      "\n",
      "       secondary_cleaner.state.floatbank4_a_level  \\\n",
      "count                                14148.000000   \n",
      "mean                                  -478.696836   \n",
      "std                                     50.736021   \n",
      "min                                   -799.709069   \n",
      "25%                                   -500.628656   \n",
      "50%                                   -499.681450   \n",
      "75%                                   -477.472413   \n",
      "max                                   -245.239184   \n",
      "\n",
      "       secondary_cleaner.state.floatbank4_b_air  \\\n",
      "count                              14148.000000   \n",
      "mean                                  15.487065   \n",
      "std                                    5.255655   \n",
      "min                                    0.000000   \n",
      "25%                                   11.894558   \n",
      "50%                                   14.975536   \n",
      "75%                                   20.059375   \n",
      "max                                   24.007913   \n",
      "\n",
      "       secondary_cleaner.state.floatbank4_b_level  \\\n",
      "count                                14148.000000   \n",
      "mean                                  -460.229416   \n",
      "std                                     58.843586   \n",
      "min                                   -799.889113   \n",
      "25%                                   -500.149000   \n",
      "50%                                   -499.388738   \n",
      "75%                                   -400.039008   \n",
      "max                                   -145.071088   \n",
      "\n",
      "       secondary_cleaner.state.floatbank5_a_air  \\\n",
      "count                              14148.000000   \n",
      "mean                                  16.775136   \n",
      "std                                    5.831906   \n",
      "min                                   -0.372054   \n",
      "25%                                   11.083980   \n",
      "50%                                   17.932223   \n",
      "75%                                   21.346550   \n",
      "max                                   43.709931   \n",
      "\n",
      "       secondary_cleaner.state.floatbank5_a_level  \\\n",
      "count                                14148.000000   \n",
      "mean                                  -483.956022   \n",
      "std                                     37.892788   \n",
      "min                                   -797.142475   \n",
      "25%                                   -500.363177   \n",
      "50%                                   -499.702452   \n",
      "75%                                   -487.712108   \n",
      "max                                   -275.073125   \n",
      "\n",
      "       secondary_cleaner.state.floatbank5_b_air  \\\n",
      "count                              14148.000000   \n",
      "mean                                  13.064590   \n",
      "std                                    5.765617   \n",
      "min                                    0.646208   \n",
      "25%                                    8.994405   \n",
      "50%                                   11.997547   \n",
      "75%                                   17.982903   \n",
      "max                                   27.926001   \n",
      "\n",
      "       secondary_cleaner.state.floatbank5_b_level  \\\n",
      "count                                14148.000000   \n",
      "mean                                  -483.966564   \n",
      "std                                     39.207913   \n",
      "min                                   -800.006180   \n",
      "25%                                   -500.105994   \n",
      "50%                                   -499.914556   \n",
      "75%                                   -453.186936   \n",
      "max                                   -157.396071   \n",
      "\n",
      "       secondary_cleaner.state.floatbank6_a_air  \\\n",
      "count                              14147.000000   \n",
      "mean                                  19.577539   \n",
      "std                                    5.764417   \n",
      "min                                    0.195324   \n",
      "25%                                   14.989304   \n",
      "50%                                   19.984175   \n",
      "75%                                   24.991623   \n",
      "max                                   32.188906   \n",
      "\n",
      "       secondary_cleaner.state.floatbank6_a_level  \n",
      "count                                14148.000000  \n",
      "mean                                  -506.798480  \n",
      "std                                     37.079249  \n",
      "min                                   -809.398668  \n",
      "25%                                   -500.745104  \n",
      "50%                                   -500.061431  \n",
      "75%                                   -499.536466  \n",
      "max                                   -104.427459  \n",
      "\n",
      "[8 rows x 86 columns]\n",
      "-------------------------------------------------------------------------------------------------------------\n",
      "**Вывод рандомных строк датафрейма**\n",
      "                     date  final.output.concentrate_ag  \\\n",
      "724   2016-02-17 03:00:00                     6.543601   \n",
      "3283  2016-06-26 09:59:59                     5.520221   \n",
      "4013  2016-08-01 22:59:59                     4.083582   \n",
      "\n",
      "      final.output.concentrate_pb  final.output.concentrate_sol  \\\n",
      "724                     10.115102                      6.397932   \n",
      "3283                     9.110309                      8.901629   \n",
      "4013                    12.443361                      7.833919   \n",
      "\n",
      "      final.output.concentrate_au  final.output.recovery  \\\n",
      "724                     41.680285              62.891015   \n",
      "3283                    44.514937              66.179884   \n",
      "4013                    43.824282              50.521837   \n",
      "\n",
      "      final.output.tail_ag  final.output.tail_pb  final.output.tail_sol  \\\n",
      "724              10.964731              1.339329              13.344401   \n",
      "3283              7.744618              1.158771              12.529419   \n",
      "4013              6.944819              3.088584              11.555775   \n",
      "\n",
      "      final.output.tail_au  ...  secondary_cleaner.state.floatbank4_a_air  \\\n",
      "724               2.424663  ...                                 18.000318   \n",
      "3283              1.903263  ...                                 15.967248   \n",
      "4013              3.916234  ...                                 20.009377   \n",
      "\n",
      "      secondary_cleaner.state.floatbank4_a_level  \\\n",
      "724                                  -499.536191   \n",
      "3283                                 -500.043142   \n",
      "4013                                 -398.989701   \n",
      "\n",
      "      secondary_cleaner.state.floatbank4_b_air  \\\n",
      "724                                  15.943132   \n",
      "3283                                  7.890982   \n",
      "4013                                  9.974793   \n",
      "\n",
      "      secondary_cleaner.state.floatbank4_b_level  \\\n",
      "724                                  -509.454741   \n",
      "3283                                 -499.735917   \n",
      "4013                                 -399.296306   \n",
      "\n",
      "      secondary_cleaner.state.floatbank5_a_air  \\\n",
      "724                                  16.033418   \n",
      "3283                                 15.960116   \n",
      "4013                                  9.970410   \n",
      "\n",
      "      secondary_cleaner.state.floatbank5_a_level  \\\n",
      "724                                  -499.455877   \n",
      "3283                                 -499.979137   \n",
      "4013                                 -400.576919   \n",
      "\n",
      "      secondary_cleaner.state.floatbank5_b_air  \\\n",
      "724                                  11.984102   \n",
      "3283                                  6.934666   \n",
      "4013                                  4.911704   \n",
      "\n",
      "      secondary_cleaner.state.floatbank5_b_level  \\\n",
      "724                                  -500.328192   \n",
      "3283                                 -499.843085   \n",
      "4013                                 -399.519026   \n",
      "\n",
      "      secondary_cleaner.state.floatbank6_a_air  \\\n",
      "724                                  26.963094   \n",
      "3283                                 24.994880   \n",
      "4013                                 23.003859   \n",
      "\n",
      "      secondary_cleaner.state.floatbank6_a_level  \n",
      "724                                  -501.002955  \n",
      "3283                                 -500.148907  \n",
      "4013                                 -500.384530  \n",
      "\n",
      "[3 rows x 87 columns]\n",
      "-------------------------------------------------------------------------------------------------------------\n",
      "**Вывод первых пяти строк датафрейма**\n",
      "                  date  final.output.concentrate_ag  \\\n",
      "0  2016-01-15 00:00:00                     6.055403   \n",
      "1  2016-01-15 01:00:00                     6.029369   \n",
      "2  2016-01-15 02:00:00                     6.055926   \n",
      "3  2016-01-15 03:00:00                     6.047977   \n",
      "4  2016-01-15 04:00:00                     6.148599   \n",
      "\n",
      "   final.output.concentrate_pb  final.output.concentrate_sol  \\\n",
      "0                     9.889648                      5.507324   \n",
      "1                     9.968944                      5.257781   \n",
      "2                    10.213995                      5.383759   \n",
      "3                     9.977019                      4.858634   \n",
      "4                    10.142511                      4.939416   \n",
      "\n",
      "   final.output.concentrate_au  final.output.recovery  final.output.tail_ag  \\\n",
      "0                    42.192020              70.541216             10.411962   \n",
      "1                    42.701629              69.266198             10.462676   \n",
      "2                    42.657501              68.116445             10.507046   \n",
      "3                    42.689819              68.347543             10.422762   \n",
      "4                    42.774141              66.927016             10.360302   \n",
      "\n",
      "   final.output.tail_pb  final.output.tail_sol  final.output.tail_au  ...  \\\n",
      "0              0.895447              16.904297              2.143149  ...   \n",
      "1              0.927452              16.634514              2.224930  ...   \n",
      "2              0.953716              16.208849              2.257889  ...   \n",
      "3              0.883763              16.532835              2.146849  ...   \n",
      "4              0.792826              16.525686              2.055292  ...   \n",
      "\n",
      "   secondary_cleaner.state.floatbank4_a_air  \\\n",
      "0                                 14.016835   \n",
      "1                                 13.992281   \n",
      "2                                 14.015015   \n",
      "3                                 14.036510   \n",
      "4                                 14.027298   \n",
      "\n",
      "   secondary_cleaner.state.floatbank4_a_level  \\\n",
      "0                                 -502.488007   \n",
      "1                                 -505.503262   \n",
      "2                                 -502.520901   \n",
      "3                                 -500.857308   \n",
      "4                                 -499.838632   \n",
      "\n",
      "   secondary_cleaner.state.floatbank4_b_air  \\\n",
      "0                                 12.099931   \n",
      "1                                 11.950531   \n",
      "2                                 11.912783   \n",
      "3                                 11.999550   \n",
      "4                                 11.953070   \n",
      "\n",
      "   secondary_cleaner.state.floatbank4_b_level  \\\n",
      "0                                 -504.715942   \n",
      "1                                 -501.331529   \n",
      "2                                 -501.133383   \n",
      "3                                 -501.193686   \n",
      "4                                 -501.053894   \n",
      "\n",
      "   secondary_cleaner.state.floatbank5_a_air  \\\n",
      "0                                  9.925633   \n",
      "1                                 10.039245   \n",
      "2                                 10.070913   \n",
      "3                                  9.970366   \n",
      "4                                  9.925709   \n",
      "\n",
      "   secondary_cleaner.state.floatbank5_a_level  \\\n",
      "0                                 -498.310211   \n",
      "1                                 -500.169983   \n",
      "2                                 -500.129135   \n",
      "3                                 -499.201640   \n",
      "4                                 -501.686727   \n",
      "\n",
      "   secondary_cleaner.state.floatbank5_b_air  \\\n",
      "0                                  8.079666   \n",
      "1                                  7.984757   \n",
      "2                                  8.013877   \n",
      "3                                  7.977324   \n",
      "4                                  7.894242   \n",
      "\n",
      "   secondary_cleaner.state.floatbank5_b_level  \\\n",
      "0                                 -500.470978   \n",
      "1                                 -500.582168   \n",
      "2                                 -500.517572   \n",
      "3                                 -500.255908   \n",
      "4                                 -500.356035   \n",
      "\n",
      "   secondary_cleaner.state.floatbank6_a_air  \\\n",
      "0                                 14.151341   \n",
      "1                                 13.998353   \n",
      "2                                 14.028663   \n",
      "3                                 14.005551   \n",
      "4                                 13.996647   \n",
      "\n",
      "   secondary_cleaner.state.floatbank6_a_level  \n",
      "0                                 -605.841980  \n",
      "1                                 -599.787184  \n",
      "2                                 -601.427363  \n",
      "3                                 -599.996129  \n",
      "4                                 -601.496691  \n",
      "\n",
      "[5 rows x 87 columns]\n",
      "-------------------------------------------------------------------------------------------------------------\n",
      "**Вывод количесва дубликатов датафрейма**\n",
      "0\n",
      "-------------------------------------------------------------------------------------------------------------\n",
      "**Вывод количесва пропущеных значений датафрейма**\n",
      "date                                            0\n",
      "final.output.concentrate_ag                     1\n",
      "final.output.concentrate_pb                     1\n",
      "final.output.concentrate_sol                  211\n",
      "final.output.concentrate_au                     0\n",
      "                                             ... \n",
      "secondary_cleaner.state.floatbank5_a_level      1\n",
      "secondary_cleaner.state.floatbank5_b_air        1\n",
      "secondary_cleaner.state.floatbank5_b_level      1\n",
      "secondary_cleaner.state.floatbank6_a_air        2\n",
      "secondary_cleaner.state.floatbank6_a_level      1\n",
      "Length: 87, dtype: int64\n",
      "-------------------------------------------------------------------------------------------------------------\n",
      "None\n",
      "**Общая информация датафрейма**\n",
      "<class 'pandas.core.frame.DataFrame'>\n",
      "RangeIndex: 5290 entries, 0 to 5289\n",
      "Data columns (total 53 columns):\n",
      "date                                          5290 non-null object\n",
      "primary_cleaner.input.sulfate                 5286 non-null float64\n",
      "primary_cleaner.input.depressant              5285 non-null float64\n",
      "primary_cleaner.input.feed_size               5290 non-null float64\n",
      "primary_cleaner.input.xanthate                5286 non-null float64\n",
      "primary_cleaner.state.floatbank8_a_air        5290 non-null float64\n",
      "primary_cleaner.state.floatbank8_a_level      5290 non-null float64\n",
      "primary_cleaner.state.floatbank8_b_air        5290 non-null float64\n",
      "primary_cleaner.state.floatbank8_b_level      5290 non-null float64\n",
      "primary_cleaner.state.floatbank8_c_air        5290 non-null float64\n",
      "primary_cleaner.state.floatbank8_c_level      5290 non-null float64\n",
      "primary_cleaner.state.floatbank8_d_air        5290 non-null float64\n",
      "primary_cleaner.state.floatbank8_d_level      5290 non-null float64\n",
      "rougher.input.feed_ag                         5290 non-null float64\n",
      "rougher.input.feed_pb                         5290 non-null float64\n",
      "rougher.input.feed_rate                       5287 non-null float64\n",
      "rougher.input.feed_size                       5289 non-null float64\n",
      "rougher.input.feed_sol                        5269 non-null float64\n",
      "rougher.input.feed_au                         5290 non-null float64\n",
      "rougher.input.floatbank10_sulfate             5285 non-null float64\n",
      "rougher.input.floatbank10_xanthate            5290 non-null float64\n",
      "rougher.input.floatbank11_sulfate             5282 non-null float64\n",
      "rougher.input.floatbank11_xanthate            5265 non-null float64\n",
      "rougher.state.floatbank10_a_air               5290 non-null float64\n",
      "rougher.state.floatbank10_a_level             5290 non-null float64\n",
      "rougher.state.floatbank10_b_air               5290 non-null float64\n",
      "rougher.state.floatbank10_b_level             5290 non-null float64\n",
      "rougher.state.floatbank10_c_air               5290 non-null float64\n",
      "rougher.state.floatbank10_c_level             5290 non-null float64\n",
      "rougher.state.floatbank10_d_air               5290 non-null float64\n",
      "rougher.state.floatbank10_d_level             5290 non-null float64\n",
      "rougher.state.floatbank10_e_air               5290 non-null float64\n",
      "rougher.state.floatbank10_e_level             5290 non-null float64\n",
      "rougher.state.floatbank10_f_air               5290 non-null float64\n",
      "rougher.state.floatbank10_f_level             5290 non-null float64\n",
      "secondary_cleaner.state.floatbank2_a_air      5287 non-null float64\n",
      "secondary_cleaner.state.floatbank2_a_level    5290 non-null float64\n",
      "secondary_cleaner.state.floatbank2_b_air      5288 non-null float64\n",
      "secondary_cleaner.state.floatbank2_b_level    5290 non-null float64\n",
      "secondary_cleaner.state.floatbank3_a_air      5281 non-null float64\n",
      "secondary_cleaner.state.floatbank3_a_level    5290 non-null float64\n",
      "secondary_cleaner.state.floatbank3_b_air      5290 non-null float64\n",
      "secondary_cleaner.state.floatbank3_b_level    5290 non-null float64\n",
      "secondary_cleaner.state.floatbank4_a_air      5290 non-null float64\n",
      "secondary_cleaner.state.floatbank4_a_level    5290 non-null float64\n",
      "secondary_cleaner.state.floatbank4_b_air      5290 non-null float64\n",
      "secondary_cleaner.state.floatbank4_b_level    5290 non-null float64\n",
      "secondary_cleaner.state.floatbank5_a_air      5290 non-null float64\n",
      "secondary_cleaner.state.floatbank5_a_level    5290 non-null float64\n",
      "secondary_cleaner.state.floatbank5_b_air      5290 non-null float64\n",
      "secondary_cleaner.state.floatbank5_b_level    5290 non-null float64\n",
      "secondary_cleaner.state.floatbank6_a_air      5290 non-null float64\n",
      "secondary_cleaner.state.floatbank6_a_level    5290 non-null float64\n",
      "dtypes: float64(52), object(1)\n",
      "memory usage: 2.1+ MB\n",
      "None\n",
      "-------------------------------------------------------------------------------------------------------------\n",
      "**Просмотр статистических данных**\n",
      "       primary_cleaner.input.sulfate  primary_cleaner.input.depressant  \\\n",
      "count                    5286.000000                       5285.000000   \n",
      "mean                      174.839652                          8.683596   \n",
      "std                        43.027080                          3.072050   \n",
      "min                         2.566156                          0.003839   \n",
      "25%                       147.121401                          6.489555   \n",
      "50%                       177.828489                          8.052207   \n",
      "75%                       208.125438                         10.027764   \n",
      "max                       265.983123                         40.000000   \n",
      "\n",
      "       primary_cleaner.input.feed_size  primary_cleaner.input.xanthate  \\\n",
      "count                      5290.000000                     5286.000000   \n",
      "mean                          7.266339                        1.383803   \n",
      "std                           0.610219                        0.643474   \n",
      "min                           5.650000                        0.004984   \n",
      "25%                           6.890000                        0.907623   \n",
      "50%                           7.250000                        1.197610   \n",
      "75%                           7.600000                        1.797819   \n",
      "max                          15.500000                        4.102454   \n",
      "\n",
      "       primary_cleaner.state.floatbank8_a_air  \\\n",
      "count                            5.290000e+03   \n",
      "mean                             1.539494e+03   \n",
      "std                              1.167979e+02   \n",
      "min                              5.445860e-32   \n",
      "25%                              1.498936e+03   \n",
      "50%                              1.585129e+03   \n",
      "75%                              1.602077e+03   \n",
      "max                              2.103104e+03   \n",
      "\n",
      "       primary_cleaner.state.floatbank8_a_level  \\\n",
      "count                               5290.000000   \n",
      "mean                                -497.665883   \n",
      "std                                   19.952431   \n",
      "min                                 -795.316337   \n",
      "25%                                 -500.357298   \n",
      "50%                                 -499.969164   \n",
      "75%                                 -499.568951   \n",
      "max                                  -57.195404   \n",
      "\n",
      "       primary_cleaner.state.floatbank8_b_air  \\\n",
      "count                            5.290000e+03   \n",
      "mean                             1.545174e+03   \n",
      "std                              1.222246e+02   \n",
      "min                              6.647490e-32   \n",
      "25%                              1.498971e+03   \n",
      "50%                              1.595622e+03   \n",
      "75%                              1.602324e+03   \n",
      "max                              1.813084e+03   \n",
      "\n",
      "       primary_cleaner.state.floatbank8_b_level  \\\n",
      "count                               5290.000000   \n",
      "mean                                -500.273098   \n",
      "std                                   32.968307   \n",
      "min                                 -799.997015   \n",
      "25%                                 -500.703002   \n",
      "50%                                 -500.028514   \n",
      "75%                                 -499.293257   \n",
      "max                                 -142.527229   \n",
      "\n",
      "       primary_cleaner.state.floatbank8_c_air  \\\n",
      "count                            5.290000e+03   \n",
      "mean                             1.527272e+03   \n",
      "std                              1.225380e+02   \n",
      "min                              4.033736e-32   \n",
      "25%                              1.473230e+03   \n",
      "50%                              1.549595e+03   \n",
      "75%                              1.601144e+03   \n",
      "max                              1.715054e+03   \n",
      "\n",
      "       primary_cleaner.state.floatbank8_c_level  ...  \\\n",
      "count                               5290.000000  ...   \n",
      "mean                                -498.330680  ...   \n",
      "std                                   21.964876  ...   \n",
      "min                                 -799.960571  ...   \n",
      "25%                                 -501.018117  ...   \n",
      "50%                                 -500.017711  ...   \n",
      "75%                                 -498.994130  ...   \n",
      "max                                 -150.937035  ...   \n",
      "\n",
      "       secondary_cleaner.state.floatbank4_a_air  \\\n",
      "count                              5.290000e+03   \n",
      "mean                               1.632007e+01   \n",
      "std                                3.493583e+00   \n",
      "min                                1.079872e-16   \n",
      "25%                                1.403618e+01   \n",
      "50%                                1.700847e+01   \n",
      "75%                                1.803862e+01   \n",
      "max                                3.005180e+01   \n",
      "\n",
      "       secondary_cleaner.state.floatbank4_a_level  \\\n",
      "count                                 5290.000000   \n",
      "mean                                  -505.144570   \n",
      "std                                     31.427337   \n",
      "min                                   -799.798523   \n",
      "25%                                   -500.868258   \n",
      "50%                                   -500.115727   \n",
      "75%                                   -499.404224   \n",
      "max                                   -401.565212   \n",
      "\n",
      "       secondary_cleaner.state.floatbank4_b_air  \\\n",
      "count                              5.290000e+03   \n",
      "mean                               1.373544e+01   \n",
      "std                                3.430484e+00   \n",
      "min                                2.489718e-17   \n",
      "25%                                1.202862e+01   \n",
      "50%                                1.496486e+01   \n",
      "75%                                1.596213e+01   \n",
      "max                                3.126971e+01   \n",
      "\n",
      "       secondary_cleaner.state.floatbank4_b_level  \\\n",
      "count                                 5290.000000   \n",
      "mean                                  -463.349858   \n",
      "std                                     86.189107   \n",
      "min                                   -800.836914   \n",
      "25%                                   -500.323028   \n",
      "50%                                   -499.576513   \n",
      "75%                                   -400.933805   \n",
      "max                                     -6.506986   \n",
      "\n",
      "       secondary_cleaner.state.floatbank5_a_air  \\\n",
      "count                               5290.000000   \n",
      "mean                                  12.804186   \n",
      "std                                    3.026591   \n",
      "min                                    0.069227   \n",
      "25%                                   10.914838   \n",
      "50%                                   12.954182   \n",
      "75%                                   15.097528   \n",
      "max                                   25.258848   \n",
      "\n",
      "       secondary_cleaner.state.floatbank5_a_level  \\\n",
      "count                                 5290.000000   \n",
      "mean                                  -501.329122   \n",
      "std                                     17.951495   \n",
      "min                                   -797.323986   \n",
      "25%                                   -500.726841   \n",
      "50%                                   -499.990332   \n",
      "75%                                   -499.283191   \n",
      "max                                   -244.483566   \n",
      "\n",
      "       secondary_cleaner.state.floatbank5_b_air  \\\n",
      "count                               5290.000000   \n",
      "mean                                   9.881145   \n",
      "std                                    2.868205   \n",
      "min                                    0.528083   \n",
      "25%                                    8.036719   \n",
      "50%                                   10.004301   \n",
      "75%                                   11.997467   \n",
      "max                                   14.086866   \n",
      "\n",
      "       secondary_cleaner.state.floatbank5_b_level  \\\n",
      "count                                 5290.000000   \n",
      "mean                                  -495.663398   \n",
      "std                                     34.535007   \n",
      "min                                   -800.220337   \n",
      "25%                                   -500.194668   \n",
      "50%                                   -499.990535   \n",
      "75%                                   -499.719913   \n",
      "max                                   -137.740004   \n",
      "\n",
      "       secondary_cleaner.state.floatbank6_a_air  \\\n",
      "count                               5290.000000   \n",
      "mean                                  17.304935   \n",
      "std                                    4.536544   \n",
      "min                                   -0.079426   \n",
      "25%                                   13.997317   \n",
      "50%                                   16.014935   \n",
      "75%                                   21.020013   \n",
      "max                                   26.705889   \n",
      "\n",
      "       secondary_cleaner.state.floatbank6_a_level  \n",
      "count                                 5290.000000  \n",
      "mean                                  -501.793193  \n",
      "std                                     39.044215  \n",
      "min                                   -809.741464  \n",
      "25%                                   -500.690984  \n",
      "50%                                   -500.007126  \n",
      "75%                                   -499.373018  \n",
      "max                                   -123.307487  \n",
      "\n",
      "[8 rows x 52 columns]\n",
      "-------------------------------------------------------------------------------------------------------------\n",
      "**Вывод рандомных строк датафрейма**\n",
      "                     date  primary_cleaner.input.sulfate  \\\n",
      "4532  2017-11-27 14:59:59                     232.833580   \n",
      "3287  2017-10-03 09:59:59                     170.803220   \n",
      "1498  2016-11-13 12:59:59                     181.772668   \n",
      "\n",
      "      primary_cleaner.input.depressant  primary_cleaner.input.feed_size  \\\n",
      "4532                         11.530645                             7.96   \n",
      "3287                          6.545194                             6.63   \n",
      "1498                          8.004129                             7.47   \n",
      "\n",
      "      primary_cleaner.input.xanthate  primary_cleaner.state.floatbank8_a_air  \\\n",
      "4532                        2.043344                             1599.993240   \n",
      "3287                        1.808195                             1537.487075   \n",
      "1498                        1.133334                             1596.809062   \n",
      "\n",
      "      primary_cleaner.state.floatbank8_a_level  \\\n",
      "4532                               -495.168572   \n",
      "3287                               -500.132966   \n",
      "1498                               -500.185627   \n",
      "\n",
      "      primary_cleaner.state.floatbank8_b_air  \\\n",
      "4532                             1598.914766   \n",
      "3287                             1598.245349   \n",
      "1498                             1598.814616   \n",
      "\n",
      "      primary_cleaner.state.floatbank8_b_level  \\\n",
      "4532                               -516.659412   \n",
      "3287                               -506.293021   \n",
      "1498                               -499.794152   \n",
      "\n",
      "      primary_cleaner.state.floatbank8_c_air  ...  \\\n",
      "4532                             1602.360556  ...   \n",
      "3287                             1600.990337  ...   \n",
      "1498                             1598.688140  ...   \n",
      "\n",
      "      secondary_cleaner.state.floatbank4_a_air  \\\n",
      "4532                                 16.983034   \n",
      "3287                                 16.956657   \n",
      "1498                                 16.016680   \n",
      "\n",
      "      secondary_cleaner.state.floatbank4_a_level  \\\n",
      "4532                                 -500.393345   \n",
      "3287                                 -494.714576   \n",
      "1498                                 -501.649032   \n",
      "\n",
      "      secondary_cleaner.state.floatbank4_b_air  \\\n",
      "4532                                 15.044079   \n",
      "3287                                 15.001804   \n",
      "1498                                 13.911995   \n",
      "\n",
      "      secondary_cleaner.state.floatbank4_b_level  \\\n",
      "4532                                 -500.324423   \n",
      "3287                                 -399.010669   \n",
      "1498                                 -498.670601   \n",
      "\n",
      "      secondary_cleaner.state.floatbank5_a_air  \\\n",
      "4532                                 10.980963   \n",
      "3287                                 13.024062   \n",
      "1498                                 14.889177   \n",
      "\n",
      "      secondary_cleaner.state.floatbank5_a_level  \\\n",
      "4532                                 -498.285638   \n",
      "3287                                 -496.985681   \n",
      "1498                                 -500.258990   \n",
      "\n",
      "      secondary_cleaner.state.floatbank5_b_air  \\\n",
      "4532                                  9.036746   \n",
      "3287                                 11.009755   \n",
      "1498                                 14.019309   \n",
      "\n",
      "      secondary_cleaner.state.floatbank5_b_level  \\\n",
      "4532                                 -490.501273   \n",
      "3287                                 -499.744875   \n",
      "1498                                 -500.032358   \n",
      "\n",
      "      secondary_cleaner.state.floatbank6_a_air  \\\n",
      "4532                                 16.019041   \n",
      "3287                                 15.016059   \n",
      "1498                                 21.986359   \n",
      "\n",
      "      secondary_cleaner.state.floatbank6_a_level  \n",
      "4532                                 -501.378779  \n",
      "3287                                 -499.743219  \n",
      "1498                                 -499.975341  \n",
      "\n",
      "[3 rows x 53 columns]\n",
      "-------------------------------------------------------------------------------------------------------------\n",
      "**Вывод первых пяти строк датафрейма**\n",
      "                  date  primary_cleaner.input.sulfate  \\\n",
      "0  2016-09-01 00:59:59                     210.800909   \n",
      "1  2016-09-01 01:59:59                     215.392455   \n",
      "2  2016-09-01 02:59:59                     215.259946   \n",
      "3  2016-09-01 03:59:59                     215.336236   \n",
      "4  2016-09-01 04:59:59                     199.099327   \n",
      "\n",
      "   primary_cleaner.input.depressant  primary_cleaner.input.feed_size  \\\n",
      "0                         14.993118                         8.080000   \n",
      "1                         14.987471                         8.080000   \n",
      "2                         12.884934                         7.786667   \n",
      "3                         12.006805                         7.640000   \n",
      "4                         10.682530                         7.530000   \n",
      "\n",
      "   primary_cleaner.input.xanthate  primary_cleaner.state.floatbank8_a_air  \\\n",
      "0                        1.005021                             1398.981301   \n",
      "1                        0.990469                             1398.777912   \n",
      "2                        0.996043                             1398.493666   \n",
      "3                        0.863514                             1399.618111   \n",
      "4                        0.805575                             1401.268123   \n",
      "\n",
      "   primary_cleaner.state.floatbank8_a_level  \\\n",
      "0                               -500.225577   \n",
      "1                               -500.057435   \n",
      "2                               -500.868360   \n",
      "3                               -498.863574   \n",
      "4                               -500.808305   \n",
      "\n",
      "   primary_cleaner.state.floatbank8_b_air  \\\n",
      "0                             1399.144926   \n",
      "1                             1398.055362   \n",
      "2                             1398.860436   \n",
      "3                             1397.440120   \n",
      "4                             1398.128818   \n",
      "\n",
      "   primary_cleaner.state.floatbank8_b_level  \\\n",
      "0                               -499.919735   \n",
      "1                               -499.778182   \n",
      "2                               -499.764529   \n",
      "3                               -499.211024   \n",
      "4                               -499.504543   \n",
      "\n",
      "   primary_cleaner.state.floatbank8_c_air  ...  \\\n",
      "0                             1400.102998  ...   \n",
      "1                             1396.151033  ...   \n",
      "2                             1398.075709  ...   \n",
      "3                             1400.129303  ...   \n",
      "4                             1402.172226  ...   \n",
      "\n",
      "   secondary_cleaner.state.floatbank4_a_air  \\\n",
      "0                                 12.023554   \n",
      "1                                 12.058140   \n",
      "2                                 11.962366   \n",
      "3                                 12.033091   \n",
      "4                                 12.025367   \n",
      "\n",
      "   secondary_cleaner.state.floatbank4_a_level  \\\n",
      "0                                 -497.795834   \n",
      "1                                 -498.695773   \n",
      "2                                 -498.767484   \n",
      "3                                 -498.350935   \n",
      "4                                 -500.786497   \n",
      "\n",
      "   secondary_cleaner.state.floatbank4_b_air  \\\n",
      "0                                  8.016656   \n",
      "1                                  8.130979   \n",
      "2                                  8.096893   \n",
      "3                                  8.074946   \n",
      "4                                  8.054678   \n",
      "\n",
      "   secondary_cleaner.state.floatbank4_b_level  \\\n",
      "0                                 -501.289139   \n",
      "1                                 -499.634209   \n",
      "2                                 -500.827423   \n",
      "3                                 -499.474407   \n",
      "4                                 -500.397500   \n",
      "\n",
      "   secondary_cleaner.state.floatbank5_a_air  \\\n",
      "0                                  7.946562   \n",
      "1                                  7.958270   \n",
      "2                                  8.071056   \n",
      "3                                  7.897085   \n",
      "4                                  8.107890   \n",
      "\n",
      "   secondary_cleaner.state.floatbank5_a_level  \\\n",
      "0                                 -432.317850   \n",
      "1                                 -525.839648   \n",
      "2                                 -500.801673   \n",
      "3                                 -500.868509   \n",
      "4                                 -509.526725   \n",
      "\n",
      "   secondary_cleaner.state.floatbank5_b_air  \\\n",
      "0                                  4.872511   \n",
      "1                                  4.878850   \n",
      "2                                  4.905125   \n",
      "3                                  4.931400   \n",
      "4                                  4.957674   \n",
      "\n",
      "   secondary_cleaner.state.floatbank5_b_level  \\\n",
      "0                                 -500.037437   \n",
      "1                                 -500.162375   \n",
      "2                                 -499.828510   \n",
      "3                                 -499.963623   \n",
      "4                                 -500.360026   \n",
      "\n",
      "   secondary_cleaner.state.floatbank6_a_air  \\\n",
      "0                                 26.705889   \n",
      "1                                 25.019940   \n",
      "2                                 24.994862   \n",
      "3                                 24.948919   \n",
      "4                                 25.003331   \n",
      "\n",
      "   secondary_cleaner.state.floatbank6_a_level  \n",
      "0                                 -499.709414  \n",
      "1                                 -499.819438  \n",
      "2                                 -500.622559  \n",
      "3                                 -498.709987  \n",
      "4                                 -500.856333  \n",
      "\n",
      "[5 rows x 53 columns]\n",
      "-------------------------------------------------------------------------------------------------------------\n",
      "**Вывод количесва дубликатов датафрейма**\n",
      "0\n",
      "-------------------------------------------------------------------------------------------------------------\n",
      "**Вывод количесва пропущеных значений датафрейма**\n",
      "date                                           0\n",
      "primary_cleaner.input.sulfate                  4\n",
      "primary_cleaner.input.depressant               5\n",
      "primary_cleaner.input.feed_size                0\n",
      "primary_cleaner.input.xanthate                 4\n",
      "primary_cleaner.state.floatbank8_a_air         0\n",
      "primary_cleaner.state.floatbank8_a_level       0\n",
      "primary_cleaner.state.floatbank8_b_air         0\n",
      "primary_cleaner.state.floatbank8_b_level       0\n",
      "primary_cleaner.state.floatbank8_c_air         0\n",
      "primary_cleaner.state.floatbank8_c_level       0\n",
      "primary_cleaner.state.floatbank8_d_air         0\n",
      "primary_cleaner.state.floatbank8_d_level       0\n",
      "rougher.input.feed_ag                          0\n",
      "rougher.input.feed_pb                          0\n",
      "rougher.input.feed_rate                        3\n",
      "rougher.input.feed_size                        1\n",
      "rougher.input.feed_sol                        21\n",
      "rougher.input.feed_au                          0\n",
      "rougher.input.floatbank10_sulfate              5\n",
      "rougher.input.floatbank10_xanthate             0\n",
      "rougher.input.floatbank11_sulfate              8\n",
      "rougher.input.floatbank11_xanthate            25\n",
      "rougher.state.floatbank10_a_air                0\n",
      "rougher.state.floatbank10_a_level              0\n",
      "rougher.state.floatbank10_b_air                0\n",
      "rougher.state.floatbank10_b_level              0\n",
      "rougher.state.floatbank10_c_air                0\n",
      "rougher.state.floatbank10_c_level              0\n",
      "rougher.state.floatbank10_d_air                0\n",
      "rougher.state.floatbank10_d_level              0\n",
      "rougher.state.floatbank10_e_air                0\n",
      "rougher.state.floatbank10_e_level              0\n",
      "rougher.state.floatbank10_f_air                0\n",
      "rougher.state.floatbank10_f_level              0\n",
      "secondary_cleaner.state.floatbank2_a_air       3\n",
      "secondary_cleaner.state.floatbank2_a_level     0\n",
      "secondary_cleaner.state.floatbank2_b_air       2\n",
      "secondary_cleaner.state.floatbank2_b_level     0\n",
      "secondary_cleaner.state.floatbank3_a_air       9\n",
      "secondary_cleaner.state.floatbank3_a_level     0\n",
      "secondary_cleaner.state.floatbank3_b_air       0\n",
      "secondary_cleaner.state.floatbank3_b_level     0\n",
      "secondary_cleaner.state.floatbank4_a_air       0\n",
      "secondary_cleaner.state.floatbank4_a_level     0\n",
      "secondary_cleaner.state.floatbank4_b_air       0\n",
      "secondary_cleaner.state.floatbank4_b_level     0\n",
      "secondary_cleaner.state.floatbank5_a_air       0\n",
      "secondary_cleaner.state.floatbank5_a_level     0\n",
      "secondary_cleaner.state.floatbank5_b_air       0\n",
      "secondary_cleaner.state.floatbank5_b_level     0\n",
      "secondary_cleaner.state.floatbank6_a_air       0\n",
      "secondary_cleaner.state.floatbank6_a_level     0\n",
      "dtype: int64\n",
      "-------------------------------------------------------------------------------------------------------------\n",
      "None\n",
      "**Общая информация датафрейма**\n",
      "<class 'pandas.core.frame.DataFrame'>\n",
      "RangeIndex: 19439 entries, 0 to 19438\n",
      "Data columns (total 87 columns):\n",
      "date                                                  19439 non-null object\n",
      "final.output.concentrate_ag                           19438 non-null float64\n",
      "final.output.concentrate_pb                           19438 non-null float64\n",
      "final.output.concentrate_sol                          19228 non-null float64\n",
      "final.output.concentrate_au                           19439 non-null float64\n",
      "final.output.recovery                                 19439 non-null float64\n",
      "final.output.tail_ag                                  19438 non-null float64\n",
      "final.output.tail_pb                                  19338 non-null float64\n",
      "final.output.tail_sol                                 19433 non-null float64\n",
      "final.output.tail_au                                  19439 non-null float64\n",
      "primary_cleaner.input.sulfate                         19415 non-null float64\n",
      "primary_cleaner.input.depressant                      19402 non-null float64\n",
      "primary_cleaner.input.feed_size                       19439 non-null float64\n",
      "primary_cleaner.input.xanthate                        19335 non-null float64\n",
      "primary_cleaner.output.concentrate_ag                 19439 non-null float64\n",
      "primary_cleaner.output.concentrate_pb                 19323 non-null float64\n",
      "primary_cleaner.output.concentrate_sol                19069 non-null float64\n",
      "primary_cleaner.output.concentrate_au                 19439 non-null float64\n",
      "primary_cleaner.output.tail_ag                        19435 non-null float64\n",
      "primary_cleaner.output.tail_pb                        19418 non-null float64\n",
      "primary_cleaner.output.tail_sol                       19377 non-null float64\n",
      "primary_cleaner.output.tail_au                        19439 non-null float64\n",
      "primary_cleaner.state.floatbank8_a_air                19435 non-null float64\n",
      "primary_cleaner.state.floatbank8_a_level              19438 non-null float64\n",
      "primary_cleaner.state.floatbank8_b_air                19435 non-null float64\n",
      "primary_cleaner.state.floatbank8_b_level              19438 non-null float64\n",
      "primary_cleaner.state.floatbank8_c_air                19437 non-null float64\n",
      "primary_cleaner.state.floatbank8_c_level              19438 non-null float64\n",
      "primary_cleaner.state.floatbank8_d_air                19436 non-null float64\n",
      "primary_cleaner.state.floatbank8_d_level              19438 non-null float64\n",
      "rougher.calculation.sulfate_to_au_concentrate         19437 non-null float64\n",
      "rougher.calculation.floatbank10_sulfate_to_au_feed    19437 non-null float64\n",
      "rougher.calculation.floatbank11_sulfate_to_au_feed    19437 non-null float64\n",
      "rougher.calculation.au_pb_ratio                       19439 non-null float64\n",
      "rougher.input.feed_ag                                 19439 non-null float64\n",
      "rougher.input.feed_pb                                 19339 non-null float64\n",
      "rougher.input.feed_rate                               19428 non-null float64\n",
      "rougher.input.feed_size                               19294 non-null float64\n",
      "rougher.input.feed_sol                                19340 non-null float64\n",
      "rougher.input.feed_au                                 19439 non-null float64\n",
      "rougher.input.floatbank10_sulfate                     19405 non-null float64\n",
      "rougher.input.floatbank10_xanthate                    19431 non-null float64\n",
      "rougher.input.floatbank11_sulfate                     19395 non-null float64\n",
      "rougher.input.floatbank11_xanthate                    18986 non-null float64\n",
      "rougher.output.concentrate_ag                         19439 non-null float64\n",
      "rougher.output.concentrate_pb                         19439 non-null float64\n",
      "rougher.output.concentrate_sol                        19416 non-null float64\n",
      "rougher.output.concentrate_au                         19439 non-null float64\n",
      "rougher.output.recovery                               19439 non-null float64\n",
      "rougher.output.tail_ag                                19438 non-null float64\n",
      "rougher.output.tail_pb                                19439 non-null float64\n",
      "rougher.output.tail_sol                               19439 non-null float64\n",
      "rougher.output.tail_au                                19439 non-null float64\n",
      "rougher.state.floatbank10_a_air                       19438 non-null float64\n",
      "rougher.state.floatbank10_a_level                     19438 non-null float64\n",
      "rougher.state.floatbank10_b_air                       19438 non-null float64\n",
      "rougher.state.floatbank10_b_level                     19438 non-null float64\n",
      "rougher.state.floatbank10_c_air                       19438 non-null float64\n",
      "rougher.state.floatbank10_c_level                     19438 non-null float64\n",
      "rougher.state.floatbank10_d_air                       19439 non-null float64\n",
      "rougher.state.floatbank10_d_level                     19439 non-null float64\n",
      "rougher.state.floatbank10_e_air                       19003 non-null float64\n",
      "rougher.state.floatbank10_e_level                     19439 non-null float64\n",
      "rougher.state.floatbank10_f_air                       19439 non-null float64\n",
      "rougher.state.floatbank10_f_level                     19439 non-null float64\n",
      "secondary_cleaner.output.tail_ag                      19437 non-null float64\n",
      "secondary_cleaner.output.tail_pb                      19427 non-null float64\n",
      "secondary_cleaner.output.tail_sol                     17691 non-null float64\n",
      "secondary_cleaner.output.tail_au                      19439 non-null float64\n",
      "secondary_cleaner.state.floatbank2_a_air              19219 non-null float64\n",
      "secondary_cleaner.state.floatbank2_a_level            19438 non-null float64\n",
      "secondary_cleaner.state.floatbank2_b_air              19416 non-null float64\n",
      "secondary_cleaner.state.floatbank2_b_level            19438 non-null float64\n",
      "secondary_cleaner.state.floatbank3_a_air              19426 non-null float64\n",
      "secondary_cleaner.state.floatbank3_a_level            19438 non-null float64\n",
      "secondary_cleaner.state.floatbank3_b_air              19438 non-null float64\n",
      "secondary_cleaner.state.floatbank3_b_level            19438 non-null float64\n",
      "secondary_cleaner.state.floatbank4_a_air              19433 non-null float64\n",
      "secondary_cleaner.state.floatbank4_a_level            19438 non-null float64\n",
      "secondary_cleaner.state.floatbank4_b_air              19438 non-null float64\n",
      "secondary_cleaner.state.floatbank4_b_level            19438 non-null float64\n",
      "secondary_cleaner.state.floatbank5_a_air              19438 non-null float64\n",
      "secondary_cleaner.state.floatbank5_a_level            19438 non-null float64\n",
      "secondary_cleaner.state.floatbank5_b_air              19438 non-null float64\n",
      "secondary_cleaner.state.floatbank5_b_level            19438 non-null float64\n",
      "secondary_cleaner.state.floatbank6_a_air              19437 non-null float64\n",
      "secondary_cleaner.state.floatbank6_a_level            19438 non-null float64\n",
      "dtypes: float64(86), object(1)\n",
      "memory usage: 12.9+ MB\n",
      "None\n",
      "-------------------------------------------------------------------------------------------------------------\n",
      "**Просмотр статистических данных**\n",
      "       final.output.concentrate_ag  final.output.concentrate_pb  \\\n",
      "count                 19438.000000                 19438.000000   \n",
      "mean                      5.168470                     9.978895   \n",
      "std                       1.372348                     1.669240   \n",
      "min                       0.000000                     0.000000   \n",
      "25%                       4.251240                     9.137262   \n",
      "50%                       5.066094                    10.102433   \n",
      "75%                       5.895527                    11.035769   \n",
      "max                      16.001945                    17.031899   \n",
      "\n",
      "       final.output.concentrate_sol  final.output.concentrate_au  \\\n",
      "count                  19228.000000                 19439.000000   \n",
      "mean                       9.501224                    44.076513   \n",
      "std                        2.787537                     5.129784   \n",
      "min                        0.000000                     0.000000   \n",
      "25%                        7.722820                    43.402215   \n",
      "50%                        9.218961                    45.011244   \n",
      "75%                       10.947813                    46.275313   \n",
      "max                       19.615720                    52.756638   \n",
      "\n",
      "       final.output.recovery  final.output.tail_ag  final.output.tail_pb  \\\n",
      "count           19439.000000          19438.000000          19338.000000   \n",
      "mean               67.050208              9.688589              2.705795   \n",
      "std                10.125840              2.328642              0.949077   \n",
      "min                 0.000000              0.000000              0.000000   \n",
      "25%                63.299712              8.062878              2.040119   \n",
      "50%                68.172738              9.743623              2.748730   \n",
      "75%                72.686642             11.134294              3.333216   \n",
      "max               100.000000             19.552149              5.804178   \n",
      "\n",
      "       final.output.tail_sol  final.output.tail_au  \\\n",
      "count           19433.000000          19439.000000   \n",
      "mean               10.583728              3.042467   \n",
      "std                 2.868782              0.922808   \n",
      "min                 0.000000              0.000000   \n",
      "25%                 8.938947              2.461138   \n",
      "50%                10.622456              2.984909   \n",
      "75%                12.104271              3.571351   \n",
      "max                22.317730              8.245022   \n",
      "\n",
      "       primary_cleaner.input.sulfate  ...  \\\n",
      "count                   19415.000000  ...   \n",
      "mean                      144.624774  ...   \n",
      "std                        44.464071  ...   \n",
      "min                         0.003112  ...   \n",
      "25%                       114.107029  ...   \n",
      "50%                       143.232103  ...   \n",
      "75%                       175.075656  ...   \n",
      "max                       265.983123  ...   \n",
      "\n",
      "       secondary_cleaner.state.floatbank4_a_air  \\\n",
      "count                              19433.000000   \n",
      "mean                                  18.987674   \n",
      "std                                    5.411058   \n",
      "min                                    0.000000   \n",
      "25%                                   14.975734   \n",
      "50%                                   18.017481   \n",
      "75%                                   23.012470   \n",
      "max                                   30.115735   \n",
      "\n",
      "       secondary_cleaner.state.floatbank4_a_level  \\\n",
      "count                                19438.000000   \n",
      "mean                                  -485.894516   \n",
      "std                                     47.758570   \n",
      "min                                   -799.798523   \n",
      "25%                                   -500.704892   \n",
      "50%                                   -499.837793   \n",
      "75%                                   -498.249730   \n",
      "max                                   -245.239184   \n",
      "\n",
      "       secondary_cleaner.state.floatbank4_b_air  \\\n",
      "count                              19438.000000   \n",
      "mean                                  15.010366   \n",
      "std                                    4.890228   \n",
      "min                                    0.000000   \n",
      "25%                                   11.940294   \n",
      "50%                                   14.971014   \n",
      "75%                                   19.034162   \n",
      "max                                   31.269706   \n",
      "\n",
      "       secondary_cleaner.state.floatbank4_b_level  \\\n",
      "count                                19438.000000   \n",
      "mean                                  -461.078636   \n",
      "std                                     67.405524   \n",
      "min                                   -800.836914   \n",
      "25%                                   -500.187742   \n",
      "50%                                   -499.459786   \n",
      "75%                                   -400.118106   \n",
      "max                                     -6.506986   \n",
      "\n",
      "       secondary_cleaner.state.floatbank5_a_air  \\\n",
      "count                              19438.000000   \n",
      "mean                                  15.694452   \n",
      "std                                    5.510974   \n",
      "min                                   -0.372054   \n",
      "25%                                   10.988606   \n",
      "50%                                   15.000036   \n",
      "75%                                   18.026190   \n",
      "max                                   43.709931   \n",
      "\n",
      "       secondary_cleaner.state.floatbank5_a_level  \\\n",
      "count                                19438.000000   \n",
      "mean                                  -488.684065   \n",
      "std                                     34.533396   \n",
      "min                                   -797.323986   \n",
      "25%                                   -500.458467   \n",
      "50%                                   -499.802605   \n",
      "75%                                   -498.384187   \n",
      "max                                   -244.483566   \n",
      "\n",
      "       secondary_cleaner.state.floatbank5_b_air  \\\n",
      "count                              19438.000000   \n",
      "mean                                  12.198224   \n",
      "std                                    5.333024   \n",
      "min                                    0.528083   \n",
      "25%                                    8.971105   \n",
      "50%                                   11.019433   \n",
      "75%                                   14.019088   \n",
      "max                                   27.926001   \n",
      "\n",
      "       secondary_cleaner.state.floatbank5_b_level  \\\n",
      "count                                19438.000000   \n",
      "mean                                  -487.149827   \n",
      "std                                     38.347312   \n",
      "min                                   -800.220337   \n",
      "25%                                   -500.129462   \n",
      "50%                                   -499.935317   \n",
      "75%                                   -499.436708   \n",
      "max                                   -137.740004   \n",
      "\n",
      "       secondary_cleaner.state.floatbank6_a_air  \\\n",
      "count                              19437.000000   \n",
      "mean                                  18.959024   \n",
      "std                                    5.550498   \n",
      "min                                   -0.079426   \n",
      "25%                                   14.983037   \n",
      "50%                                   19.960541   \n",
      "75%                                   24.003170   \n",
      "max                                   32.188906   \n",
      "\n",
      "       secondary_cleaner.state.floatbank6_a_level  \n",
      "count                                19438.000000  \n",
      "mean                                  -505.436305  \n",
      "std                                     37.689057  \n",
      "min                                   -809.741464  \n",
      "25%                                   -500.728067  \n",
      "50%                                   -500.048400  \n",
      "75%                                   -499.495378  \n",
      "max                                   -104.427459  \n",
      "\n",
      "[8 rows x 86 columns]\n",
      "-------------------------------------------------------------------------------------------------------------\n",
      "**Вывод рандомных строк датафрейма**\n",
      "                      date  final.output.concentrate_ag  \\\n",
      "15822  2018-02-22 01:59:59                     5.729898   \n",
      "17528  2018-05-13 13:59:59                     6.312416   \n",
      "17857  2018-05-30 09:59:59                     6.140933   \n",
      "\n",
      "       final.output.concentrate_pb  final.output.concentrate_sol  \\\n",
      "15822                     9.945438                      8.181372   \n",
      "17528                     9.886279                     10.296389   \n",
      "17857                     7.509665                      7.352099   \n",
      "\n",
      "       final.output.concentrate_au  final.output.recovery  \\\n",
      "15822                    44.696044              74.459565   \n",
      "17528                    42.406914              72.470950   \n",
      "17857                    43.128263              43.054511   \n",
      "\n",
      "       final.output.tail_ag  final.output.tail_pb  final.output.tail_sol  \\\n",
      "15822              9.463689              1.753037              11.149951   \n",
      "17528             11.324007              3.320348              10.933283   \n",
      "17857              9.191306              1.795998               9.587097   \n",
      "\n",
      "       final.output.tail_au  ...  secondary_cleaner.state.floatbank4_a_air  \\\n",
      "15822              2.398090  ...                                 20.017442   \n",
      "17528              3.082503  ...                                 29.972296   \n",
      "17857              4.840005  ...                                 29.990514   \n",
      "\n",
      "       secondary_cleaner.state.floatbank4_a_level  \\\n",
      "15822                                 -500.002012   \n",
      "17528                                 -502.401173   \n",
      "17857                                 -496.068718   \n",
      "\n",
      "       secondary_cleaner.state.floatbank4_b_air  \\\n",
      "15822                                 14.884609   \n",
      "17528                                 20.056418   \n",
      "17857                                 21.990528   \n",
      "\n",
      "       secondary_cleaner.state.floatbank4_b_level  \\\n",
      "15822                                 -500.205685   \n",
      "17528                                 -500.709518   \n",
      "17857                                 -491.040972   \n",
      "\n",
      "       secondary_cleaner.state.floatbank5_a_air  \\\n",
      "15822                                 10.926655   \n",
      "17528                                 24.958868   \n",
      "17857                                 24.995288   \n",
      "\n",
      "       secondary_cleaner.state.floatbank5_a_level  \\\n",
      "15822                                 -500.192388   \n",
      "17528                                 -500.837499   \n",
      "17857                                 -499.414762   \n",
      "\n",
      "       secondary_cleaner.state.floatbank5_b_air  \\\n",
      "15822                                  9.010837   \n",
      "17528                                 23.000649   \n",
      "17857                                 11.210724   \n",
      "\n",
      "       secondary_cleaner.state.floatbank5_b_level  \\\n",
      "15822                                 -500.329104   \n",
      "17528                                 -500.239200   \n",
      "17857                                 -499.912813   \n",
      "\n",
      "       secondary_cleaner.state.floatbank6_a_air  \\\n",
      "15822                                 10.992694   \n",
      "17528                                 24.993920   \n",
      "17857                                 25.011897   \n",
      "\n",
      "       secondary_cleaner.state.floatbank6_a_level  \n",
      "15822                                 -499.558739  \n",
      "17528                                 -499.947976  \n",
      "17857                                 -501.197227  \n",
      "\n",
      "[3 rows x 87 columns]\n",
      "-------------------------------------------------------------------------------------------------------------\n",
      "**Вывод первых пяти строк датафрейма**\n",
      "                  date  final.output.concentrate_ag  \\\n",
      "0  2016-01-15 00:00:00                     6.055403   \n",
      "1  2016-01-15 01:00:00                     6.029369   \n",
      "2  2016-01-15 02:00:00                     6.055926   \n",
      "3  2016-01-15 03:00:00                     6.047977   \n",
      "4  2016-01-15 04:00:00                     6.148599   \n",
      "\n",
      "   final.output.concentrate_pb  final.output.concentrate_sol  \\\n",
      "0                     9.889648                      5.507324   \n",
      "1                     9.968944                      5.257781   \n",
      "2                    10.213995                      5.383759   \n",
      "3                     9.977019                      4.858634   \n",
      "4                    10.142511                      4.939416   \n",
      "\n",
      "   final.output.concentrate_au  final.output.recovery  final.output.tail_ag  \\\n",
      "0                    42.192020              70.541216             10.411962   \n",
      "1                    42.701629              69.266198             10.462676   \n",
      "2                    42.657501              68.116445             10.507046   \n",
      "3                    42.689819              68.347543             10.422762   \n",
      "4                    42.774141              66.927016             10.360302   \n",
      "\n",
      "   final.output.tail_pb  final.output.tail_sol  final.output.tail_au  ...  \\\n",
      "0              0.895447              16.904297              2.143149  ...   \n",
      "1              0.927452              16.634514              2.224930  ...   \n",
      "2              0.953716              16.208849              2.257889  ...   \n",
      "3              0.883763              16.532835              2.146849  ...   \n",
      "4              0.792826              16.525686              2.055292  ...   \n",
      "\n",
      "   secondary_cleaner.state.floatbank4_a_air  \\\n",
      "0                                 14.016835   \n",
      "1                                 13.992281   \n",
      "2                                 14.015015   \n",
      "3                                 14.036510   \n",
      "4                                 14.027298   \n",
      "\n",
      "   secondary_cleaner.state.floatbank4_a_level  \\\n",
      "0                                 -502.488007   \n",
      "1                                 -505.503262   \n",
      "2                                 -502.520901   \n",
      "3                                 -500.857308   \n",
      "4                                 -499.838632   \n",
      "\n",
      "   secondary_cleaner.state.floatbank4_b_air  \\\n",
      "0                                 12.099931   \n",
      "1                                 11.950531   \n",
      "2                                 11.912783   \n",
      "3                                 11.999550   \n",
      "4                                 11.953070   \n",
      "\n",
      "   secondary_cleaner.state.floatbank4_b_level  \\\n",
      "0                                 -504.715942   \n",
      "1                                 -501.331529   \n",
      "2                                 -501.133383   \n",
      "3                                 -501.193686   \n",
      "4                                 -501.053894   \n",
      "\n",
      "   secondary_cleaner.state.floatbank5_a_air  \\\n",
      "0                                  9.925633   \n",
      "1                                 10.039245   \n",
      "2                                 10.070913   \n",
      "3                                  9.970366   \n",
      "4                                  9.925709   \n",
      "\n",
      "   secondary_cleaner.state.floatbank5_a_level  \\\n",
      "0                                 -498.310211   \n",
      "1                                 -500.169983   \n",
      "2                                 -500.129135   \n",
      "3                                 -499.201640   \n",
      "4                                 -501.686727   \n",
      "\n",
      "   secondary_cleaner.state.floatbank5_b_air  \\\n",
      "0                                  8.079666   \n",
      "1                                  7.984757   \n",
      "2                                  8.013877   \n",
      "3                                  7.977324   \n",
      "4                                  7.894242   \n",
      "\n",
      "   secondary_cleaner.state.floatbank5_b_level  \\\n",
      "0                                 -500.470978   \n",
      "1                                 -500.582168   \n",
      "2                                 -500.517572   \n",
      "3                                 -500.255908   \n",
      "4                                 -500.356035   \n",
      "\n",
      "   secondary_cleaner.state.floatbank6_a_air  \\\n",
      "0                                 14.151341   \n",
      "1                                 13.998353   \n",
      "2                                 14.028663   \n",
      "3                                 14.005551   \n",
      "4                                 13.996647   \n",
      "\n",
      "   secondary_cleaner.state.floatbank6_a_level  \n",
      "0                                 -605.841980  \n",
      "1                                 -599.787184  \n",
      "2                                 -601.427363  \n",
      "3                                 -599.996129  \n",
      "4                                 -601.496691  \n",
      "\n",
      "[5 rows x 87 columns]\n",
      "-------------------------------------------------------------------------------------------------------------\n",
      "**Вывод количесва дубликатов датафрейма**\n",
      "0\n",
      "-------------------------------------------------------------------------------------------------------------\n",
      "**Вывод количесва пропущеных значений датафрейма**\n",
      "date                                            0\n",
      "final.output.concentrate_ag                     1\n",
      "final.output.concentrate_pb                     1\n",
      "final.output.concentrate_sol                  211\n",
      "final.output.concentrate_au                     0\n",
      "                                             ... \n",
      "secondary_cleaner.state.floatbank5_a_level      1\n",
      "secondary_cleaner.state.floatbank5_b_air        1\n",
      "secondary_cleaner.state.floatbank5_b_level      1\n",
      "secondary_cleaner.state.floatbank6_a_air        2\n",
      "secondary_cleaner.state.floatbank6_a_level      1\n",
      "Length: 87, dtype: int64\n",
      "-------------------------------------------------------------------------------------------------------------\n",
      "None\n"
     ]
    }
   ],
   "source": [
    "def fun_date(data):\n",
    "    print('**Общая информация датафрейма**')\n",
    "    print(data.info())\n",
    "    print('-------------------------------------------------------------------------------------------------------------')\n",
    "    print('**Просмотр статистических данных**')\n",
    "    print(data.describe())\n",
    "    print('-------------------------------------------------------------------------------------------------------------')\n",
    "    print('**Вывод рандомных строк датафрейма**')\n",
    "    print(data.sample(n=3, random_state=1))\n",
    "    print('-------------------------------------------------------------------------------------------------------------')\n",
    "    print('**Вывод первых пяти строк датафрейма**')\n",
    "    print(data.head())\n",
    "    print('-------------------------------------------------------------------------------------------------------------')\n",
    "    print('**Вывод количесва дубликатов датафрейма**')\n",
    "    print(data.duplicated().sum())\n",
    "    print('-------------------------------------------------------------------------------------------------------------')\n",
    "    print('**Вывод количесва пропущеных значений датафрейма**')\n",
    "    print(data.isnull().sum())\n",
    "    print('-------------------------------------------------------------------------------------------------------------')\n",
    "print(fun_date(data_train))\n",
    "print(fun_date(data_test))\n",
    "print(fun_date(data_full))"
   ]
  },
  {
   "cell_type": "code",
   "execution_count": 7,
   "metadata": {},
   "outputs": [],
   "source": [
    "#Переводим столбец с датой в нужный верменной формат \n",
    "data_train['date'] = pd.to_datetime(data_train['date'], format='%Y-%m-%dT%H:%M:%S')\n",
    "data_test['date'] = pd.to_datetime(data_test['date'], format='%Y-%m-%dT%H:%M:%S')\n",
    "data_full['date'] = pd.to_datetime(data_full['date'], format='%Y-%m-%dT%H:%M:%S')"
   ]
  },
  {
   "cell_type": "code",
   "execution_count": 8,
   "metadata": {},
   "outputs": [
    {
     "name": "stdout",
     "output_type": "stream",
     "text": [
      "Average memory usage for float columns: 0.11 MB\n",
      "Average memory usage for int columns: 0.00 MB\n",
      "Average memory usage for object columns: 0.00 MB\n",
      "None\n",
      "\n",
      "Average memory usage for float columns: 0.04 MB\n",
      "Average memory usage for int columns: 0.00 MB\n",
      "Average memory usage for object columns: 0.00 MB\n",
      "None\n",
      "\n",
      "Average memory usage for float columns: 0.15 MB\n",
      "Average memory usage for int columns: 0.00 MB\n",
      "Average memory usage for object columns: 0.00 MB\n",
      "None\n"
     ]
    }
   ],
   "source": [
    "#Смотрим количесво занимаемой памяти для каждого типа\n",
    "def memory(data):\n",
    "    for dtype in ['float','int','object']:\n",
    "        selected_dtype = data.select_dtypes(include=[dtype])\n",
    "        mean_usage_b = selected_dtype.memory_usage(deep=True).mean()\n",
    "        mean_usage_mb = mean_usage_b / 1024 ** 2\n",
    "        print(\"Average memory usage for {} columns: {:03.2f} MB\".format(dtype,mean_usage_mb))\n",
    "print(memory(data_train))\n",
    "print()\n",
    "print(memory(data_test))\n",
    "print()\n",
    "print(memory(data_full))"
   ]
  },
  {
   "cell_type": "markdown",
   "metadata": {},
   "source": [
    "<font color='blue'>Датафрейм \"Обучающая выборка\" и \"Исходные данные\" занимают на мой взглят много памяти и стоит её слегка подсократить </font>"
   ]
  },
  {
   "cell_type": "code",
   "execution_count": 9,
   "metadata": {},
   "outputs": [
    {
     "name": "stdout",
     "output_type": "stream",
     "text": [
      "9.28 MB\n",
      "4.64 MB\n",
      "\n",
      "12.75 MB\n",
      "6.38 MB\n"
     ]
    },
    {
     "data": {
      "text/html": [
       "<div>\n",
       "<style scoped>\n",
       "    .dataframe tbody tr th:only-of-type {\n",
       "        vertical-align: middle;\n",
       "    }\n",
       "\n",
       "    .dataframe tbody tr th {\n",
       "        vertical-align: top;\n",
       "    }\n",
       "\n",
       "    .dataframe thead th {\n",
       "        text-align: right;\n",
       "    }\n",
       "</style>\n",
       "<table border=\"1\" class=\"dataframe\">\n",
       "  <thead>\n",
       "    <tr style=\"text-align: right;\">\n",
       "      <th></th>\n",
       "      <th>before</th>\n",
       "      <th>after</th>\n",
       "    </tr>\n",
       "  </thead>\n",
       "  <tbody>\n",
       "    <tr>\n",
       "      <td>float32</td>\n",
       "      <td>NaN</td>\n",
       "      <td>86.0</td>\n",
       "    </tr>\n",
       "    <tr>\n",
       "      <td>float64</td>\n",
       "      <td>86.0</td>\n",
       "      <td>NaN</td>\n",
       "    </tr>\n",
       "  </tbody>\n",
       "</table>\n",
       "</div>"
      ],
      "text/plain": [
       "         before  after\n",
       "float32     NaN   86.0\n",
       "float64    86.0    NaN"
      ]
     },
     "execution_count": 9,
     "metadata": {},
     "output_type": "execute_result"
    }
   ],
   "source": [
    "#преобразуем float64 в float32\n",
    "def mem_usage(pandas_obj):\n",
    "    if isinstance(pandas_obj,pd.DataFrame):\n",
    "        usage_b = pandas_obj.memory_usage(deep=True).sum()\n",
    "    else: # исходим из предположения о том, что если это не DataFrame, то это Series\n",
    "        usage_b = pandas_obj.memory_usage(deep=True)\n",
    "    usage_mb = usage_b / 1024 ** 2 # преобразуем байты в мегабайты\n",
    "    return \"{:03.2f} MB\".format(usage_mb)\n",
    "\n",
    "data_float = data_train.select_dtypes(include=['float'])\n",
    "converted_float = data_float.apply(pd.to_numeric,downcast='float')\n",
    "\n",
    "print(mem_usage(data_float))\n",
    "print(mem_usage(converted_float))\n",
    "print()\n",
    "\n",
    "compare_floats = pd.concat([data_float.dtypes,converted_float.dtypes],axis=1)\n",
    "compare_floats.columns = ['before','after']\n",
    "compare_floats.apply(pd.Series.value_counts)\n",
    "\n",
    "def mem_usage(pandas_obj):\n",
    "    if isinstance(pandas_obj,pd.DataFrame):\n",
    "        usage_b = pandas_obj.memory_usage(deep=True).sum()\n",
    "    else: # исходим из предположения о том, что если это не DataFrame, то это Series\n",
    "        usage_b = pandas_obj.memory_usage(deep=True)\n",
    "    usage_mb = usage_b / 1024 ** 2 # преобразуем байты в мегабайты\n",
    "    return \"{:03.2f} MB\".format(usage_mb)\n",
    "\n",
    "data_float = data_full.select_dtypes(include=['float'])\n",
    "converted_float = data_float.apply(pd.to_numeric,downcast='float')\n",
    "\n",
    "print(mem_usage(data_float))\n",
    "print(mem_usage(converted_float))\n",
    "\n",
    "compare_floats = pd.concat([data_float.dtypes,converted_float.dtypes],axis=1)\n",
    "compare_floats.columns = ['before','after']\n",
    "compare_floats.apply(pd.Series.value_counts)"
   ]
  },
  {
   "cell_type": "code",
   "execution_count": 10,
   "metadata": {},
   "outputs": [
    {
     "name": "stdout",
     "output_type": "stream",
     "text": [
      "4.75 MB\n",
      "\n",
      "6.53 MB\n",
      "\n"
     ]
    }
   ],
   "source": [
    "data_train = data_train.copy()\n",
    "data_train[converted_float.columns] = converted_float\n",
    "print(mem_usage(data_train))\n",
    "print()\n",
    "data_full = data_full.copy()\n",
    "data_full[converted_float.columns] = converted_float\n",
    "print(mem_usage(data_full))\n",
    "print()"
   ]
  },
  {
   "cell_type": "code",
   "execution_count": 11,
   "metadata": {},
   "outputs": [],
   "source": [
    "#data_train.info(memory_usage='deep')"
   ]
  },
  {
   "cell_type": "code",
   "execution_count": 12,
   "metadata": {},
   "outputs": [],
   "source": [
    "#data_test.info(memory_usage='deep')"
   ]
  },
  {
   "cell_type": "code",
   "execution_count": 13,
   "metadata": {},
   "outputs": [],
   "source": [
    "#data_full.info(memory_usage='deep')"
   ]
  },
  {
   "cell_type": "code",
   "execution_count": 14,
   "metadata": {},
   "outputs": [],
   "source": [
    "data_train=data_train.fillna(value=None, method=\"ffill\") \n",
    "data_test=data_test.fillna(value=None, method=\"ffill\") \n",
    "data_full=data_full.fillna(value=None, method=\"ffill\") "
   ]
  },
  {
   "cell_type": "markdown",
   "metadata": {},
   "source": [
    "<font color='blue'>Удалось сократить память выбранных датафреймов на 50%</font>"
   ]
  },
  {
   "cell_type": "markdown",
   "metadata": {},
   "source": [
    "<font color='orange'>Насчет самих данных, не уверен стоит ли их переводить в целочисленные, как мне кажется, если вопрос идет о концетрации, то лучше видеть перед глазами более точные данные, нежели округленные</font>"
   ]
  },
  {
   "cell_type": "markdown",
   "metadata": {},
   "source": [
    "<font color='blue'>В тестовой выборке отсутвуют порядка 200+ входных значений. И это отчевидно, тк данные свежие и только поступили на вход, что будет по итогу пока не понятно,удалять бы я их не стал, поэтому лучше их заполним методом fill</font>"
   ]
  },
  {
   "cell_type": "markdown",
   "metadata": {},
   "source": [
    "<font color='blue'>Предобработка завершена - можно приступать к работе!</font>"
   ]
  },
  {
   "cell_type": "code",
   "execution_count": 15,
   "metadata": {},
   "outputs": [],
   "source": [
    "data_train_mae=data_train\n",
    "data_train_mae=data_train.dropna()"
   ]
  },
  {
   "cell_type": "code",
   "execution_count": 16,
   "metadata": {},
   "outputs": [
    {
     "name": "stdout",
     "output_type": "stream",
     "text": [
      "False    14149\n",
      "Name: rougher.output.concentrate_au, dtype: int64\n",
      "False    14149\n",
      "Name: rougher.input.feed_au, dtype: int64\n",
      "False    14149\n",
      "Name: rougher.output.tail_au, dtype: int64\n",
      "False    14149\n",
      "Name: rougher_recovery, dtype: int64\n",
      "3.9986717e-06\n"
     ]
    }
   ],
   "source": [
    "C=data_train_mae['rougher.output.concentrate_au']\n",
    "print(C.isna().value_counts())\n",
    "F=data_train_mae['rougher.input.feed_au']\n",
    "print(F.isna().value_counts())\n",
    "T=data_train_mae['rougher.output.tail_au']\n",
    "print(T.isna().value_counts())\n",
    "A=C*(F-T)\n",
    "B=F*(C-T)\n",
    "data_train_mae['rougher_recovery']=(A/B)*100\n",
    "print(data_train_mae['rougher_recovery'].isna().value_counts())\n",
    "print(mean_absolute_error(data_train_mae['rougher.output.recovery'], data_train_mae['rougher_recovery']))"
   ]
  },
  {
   "cell_type": "markdown",
   "metadata": {},
   "source": [
    "<font color='blue'>Полученная ошибка порядка 10^-6 не совсем критично как мне кажется.</font>"
   ]
  },
  {
   "cell_type": "markdown",
   "metadata": {},
   "source": [
    "## Анализ данных"
   ]
  },
  {
   "cell_type": "markdown",
   "metadata": {},
   "source": [
    "###  Посмотрите, как меняется концентрация металлов (Au, Ag, Pb) на различных этапах очистки. Опишите выводы."
   ]
  },
  {
   "cell_type": "code",
   "execution_count": 17,
   "metadata": {},
   "outputs": [
    {
     "name": "stdout",
     "output_type": "stream",
     "text": [
      "Флострация концетрации au: 19.772001\n",
      "Первичная очистка концетрации au: 32.1194\n",
      "Финальная концетрация au: 44.07651\n",
      "\n",
      "Флострация концетрации ag: 11.9947605\n",
      "Первичная очистка концетрации ag: 8.442408\n",
      "Финальная концетрация ag: 5.1683865\n",
      "\n",
      "Флострация концетрации pb: 7.606272\n",
      "Первичная очистка концетрации pb: 9.810317\n",
      "Финальная концетрация pb: 9.978822\n"
     ]
    }
   ],
   "source": [
    "print('Флострация концетрации au:', data_full['rougher.output.concentrate_au'].mean())\n",
    "print('Первичная очистка концетрации au:', data_full['primary_cleaner.output.concentrate_au'].mean())\n",
    "print('Финальная концетрация au:', data_full['final.output.concentrate_au'].mean())\n",
    "print()\n",
    "print('Флострация концетрации ag:', data_full['rougher.output.concentrate_ag'].mean())\n",
    "print('Первичная очистка концетрации ag:', data_full['primary_cleaner.output.concentrate_ag'].mean())\n",
    "print('Финальная концетрация ag:', data_full['final.output.concentrate_ag'].mean())\n",
    "print()\n",
    "print('Флострация концетрации pb:', data_full['rougher.output.concentrate_pb'].mean())\n",
    "print('Первичная очистка концетрации pb:', data_full['primary_cleaner.output.concentrate_pb'].mean())\n",
    "print('Финальная концетрация pb:', data_full['final.output.concentrate_pb'].mean())"
   ]
  },
  {
   "cell_type": "code",
   "execution_count": 18,
   "metadata": {},
   "outputs": [
    {
     "data": {
      "image/png": "[encoded data removed]",
      "text/plain": [
       "<Figure size 432x288 with 1 Axes>"
      ]
     },
     "metadata": {},
     "output_type": "display_data"
    },
    {
     "data": {
      "image/png": "[encoded data removed]",
      "text/plain": [
       "<Figure size 432x288 with 1 Axes>"
      ]
     },
     "metadata": {},
     "output_type": "display_data"
    },
    {
     "data": {
      "image/png": "[encoded data removed]",
      "text/plain": [
       "<Figure size 432x288 with 1 Axes>"
      ]
     },
     "metadata": {},
     "output_type": "display_data"
    }
   ],
   "source": [
    "# set seaborn darkgrid theme\n",
    "sns.set(style=\"darkgrid\")\n",
    "\n",
    "# density plot\n",
    "plt.title('Среднее распределение концетрации Au', fontweight='bold')\n",
    "fig = sns.kdeplot(data_full['rougher.output.concentrate_au'],color='r', legend=True,shade=True)\n",
    "fig = sns.kdeplot(data_full['primary_cleaner.output.concentrate_au'],color='g', legend=True,shade=True)\n",
    "fig = sns.kdeplot(data_full['final.output.concentrate_au'],color='b', legend=True,shade=True)\n",
    "plt.legend(['Флотация', 'Первичная очистка', \"На выходе\" ], loc=1)     \n",
    "plt.show()\n",
    "\n",
    "plt.title('Среднее распределение концетрации Ag', fontweight='bold')\n",
    "fig = sns.kdeplot(data_full['rougher.output.concentrate_ag'],color='r', legend=True,shade=True)\n",
    "fig = sns.kdeplot(data_full['primary_cleaner.output.concentrate_ag'],color='g', legend=True,shade=True)\n",
    "fig = sns.kdeplot(data_full['final.output.concentrate_ag'],color='b', legend=True,shade=True)\n",
    "plt.legend(['Флотация', 'Первичная очистка', \"На выходе\" ], loc=1)     \n",
    "plt.show()\n",
    "\n",
    "plt.title('Среднее распределение концетрации Pb', fontweight='bold')\n",
    "fig = sns.kdeplot(data_full['rougher.output.concentrate_pb'],color='r', legend=True,shade=True)\n",
    "fig = sns.kdeplot(data_full['primary_cleaner.output.concentrate_pb'],color='g', legend=True,shade=True)\n",
    "fig = sns.kdeplot(data_full['final.output.concentrate_pb'],color='b', legend=True,shade=True)\n",
    "plt.legend(['Флотация', 'Первичная очистка', \"На выходе\" ], loc=1)     \n",
    "plt.show()"
   ]
  },
  {
   "cell_type": "markdown",
   "metadata": {},
   "source": [
    "<font color='blue'>Самые хорошие показатели у свинца - на него требуется меньше затрат усилий\n",
    "\n",
    "На каждом из графиков видны аномальные значения в нуле. Вероятно это отвальные хвосты каждого элемента. Также на графике концетрации Au можно заметить нормальное распределение велечин, а на графиках Ag и Pb бимодальное распределение, что дает двоичный результат - видимо поэтому значение у Au много больше, чем у остальных.</font>"
   ]
  },
  {
   "cell_type": "markdown",
   "metadata": {},
   "source": [
    "###  Сравните распределения размеров гранул сырья на обучающей и тестовой выборках. Если распределения сильно отличаются друг от друга, оценка модели будет неправильной."
   ]
  },
  {
   "cell_type": "code",
   "execution_count": 19,
   "metadata": {},
   "outputs": [
    {
     "data": {
      "image/png": "[encoded data removed]",
      "text/plain": [
       "<Figure size 432x288 with 1 Axes>"
      ]
     },
     "metadata": {},
     "output_type": "display_data"
    }
   ],
   "source": [
    "plt.title('Распределение гранул сырья на обучающей выборке', fontweight='bold')\n",
    "fig = sns.kdeplot(data_train['rougher.input.feed_size'],color='r', legend=True,shade=True)\n",
    "fig = sns.kdeplot(data_test['rougher.input.feed_size'],color='g', legend=True,shade=True)\n",
    "plt.legend(['Флотация', 'Первичная очистка'], loc=1)     \n",
    "plt.xlim(0, 300)\n",
    "plt.show()\n"
   ]
  },
  {
   "cell_type": "code",
   "execution_count": 20,
   "metadata": {},
   "outputs": [
    {
     "name": "stdout",
     "output_type": "stream",
     "text": [
      "Среднее распределение гранул на обучающей выборке: 55.4825\n",
      "Среднее распределение гранул на тестовой выборке: 55.95275402889513\n"
     ]
    }
   ],
   "source": [
    "feed_size_avg_train = data_train['rougher.input.feed_size'].mean()\n",
    "print('Среднее распределение гранул на обучающей выборке:',feed_size_avg_train)\n",
    "feed_size_avg_test = data_test['rougher.input.feed_size'].mean()\n",
    "print('Среднее распределение гранул на тестовой выборке:',feed_size_avg_test)"
   ]
  },
  {
   "cell_type": "markdown",
   "metadata": {},
   "source": [
    "<font color='blue'>Распределения практически не отличаются друг от друга - оценка модели правильная</font>"
   ]
  },
  {
   "cell_type": "markdown",
   "metadata": {},
   "source": [
    "###  Исследуйте суммарную концентрацию всех веществ на разных стадиях: в сырье, в черновом и финальном концентратах."
   ]
  },
  {
   "cell_type": "code",
   "execution_count": 21,
   "metadata": {},
   "outputs": [],
   "source": [
    "data_train1=data_train\n",
    "data_train1=data_train1.dropna()\n",
    "data_train1['raw']=data_train['rougher.input.feed_au']+data_train['rougher.input.feed_ag']+data_train['rougher.input.feed_pb']#сырье\n",
    "data_train1['rough']=data_train['rougher.output.concentrate_au']+data_train['rougher.output.concentrate_au']+data_train['rougher.output.concentrate_au']#черновой\n",
    "data_train1['primary']=data_train['primary_cleaner.output.concentrate_au']+data_train['primary_cleaner.output.concentrate_ag']+data_train['primary_cleaner.output.concentrate_pb']#первичная\n",
    "data_train1['final']=data_train['final.output.concentrate_au']+data_train['final.output.concentrate_ag']+data_train['final.output.concentrate_pb']#финальная"
   ]
  },
  {
   "cell_type": "code",
   "execution_count": 22,
   "metadata": {},
   "outputs": [],
   "source": [
    "data_train1=data_train1.query('rough > 20 & raw>20 & final>20 & primary >20')"
   ]
  },
  {
   "cell_type": "code",
   "execution_count": 23,
   "metadata": {},
   "outputs": [
    {
     "data": {
      "image/png": "[encoded data removed]",
      "text/plain": [
       "<Figure size 1440x504 with 1 Axes>"
      ]
     },
     "metadata": {},
     "output_type": "display_data"
    }
   ],
   "source": [
    "fig = plt.subplots(figsize=(20, 7))\n",
    "fig = sns.distplot(a=data_train1['raw'], hist=True, kde=True, rug=False , color=\"r\")\n",
    "fig = sns.distplot(a=data_train1['rough'], hist=True, kde=True, rug=False , color=\"g\")\n",
    "fig = sns.distplot(a=data_train1['primary'], hist=True, kde=True, rug=False , color=\"b\")\n",
    "fig = sns.distplot(a=data_train1['final'], hist=True, kde=True, rug=False , color=\"y\")\n",
    "plt.legend(['raw', 'rough', 'primary', 'final'], loc=1)\n",
    "plt.show()"
   ]
  },
  {
   "cell_type": "markdown",
   "metadata": {},
   "source": [
    "<font color='blue'>Финального концетрата остается не так уже и много, по сравнению со входом\n",
    "\n",
    "Черновой, первичный, финальный концетрат имеет нормальное распределение - сказать про них особо и нечего, все ок)) А у сырьевого концетрата многомодальное распределение, что свидетельствует о неоднородности данных, возможно некоторые значения ошибочны, но я думаю это больше к вопросу о гипотезах. Также присутвуют аномальные значения в нуле, если мы рассматриваем концетрацию на несколькольких стадиях, то я бы не чистил эти данные, но это не точно))</font>"
   ]
  },
  {
   "cell_type": "markdown",
   "metadata": {},
   "source": [
    "## Модель"
   ]
  },
  {
   "cell_type": "markdown",
   "metadata": {},
   "source": [
    "### Напишите функцию для вычисления итоговой sMAPE"
   ]
  },
  {
   "cell_type": "code",
   "execution_count": 24,
   "metadata": {},
   "outputs": [],
   "source": [
    "def smape(a, f):\n",
    "    return 1/len(a) * np.sum(2 * np.abs(f-a) / (np.abs(a) + np.abs(f))*100)"
   ]
  },
  {
   "cell_type": "markdown",
   "metadata": {},
   "source": [
    "###  Обучите разные модели и оцените их качество кросс-валидацией. Выберите лучшую модель и проверьте её на тестовой выборке. Опишите выводы."
   ]
  },
  {
   "cell_type": "code",
   "execution_count": 25,
   "metadata": {},
   "outputs": [],
   "source": [
    "#эффективность обогащения чернового концентрата rougher.output.recovery;\n",
    "#эффективность обогащения финального концентрата final.output.recovery."
   ]
  },
  {
   "cell_type": "code",
   "execution_count": 26,
   "metadata": {},
   "outputs": [
    {
     "data": {
      "text/plain": [
       "(14149, 52)"
      ]
     },
     "execution_count": 26,
     "metadata": {},
     "output_type": "execute_result"
    }
   ],
   "source": [
    "train_target1=data_train['rougher.output.recovery']\n",
    "train_target2=data_train['final.output.recovery']\n",
    "train_features=data_train[data_test.columns].drop('date', axis=1)\n",
    "train_features.shape"
   ]
  },
  {
   "cell_type": "code",
   "execution_count": 27,
   "metadata": {},
   "outputs": [],
   "source": [
    "data_full_target=data_full[['date','rougher.output.recovery','final.output.recovery']]\n",
    "data_test_ready = data_test.merge(data_full_target,  on='date', how='left')\n",
    "data_test_ready=data_test_ready.dropna()"
   ]
  },
  {
   "cell_type": "code",
   "execution_count": 28,
   "metadata": {},
   "outputs": [
    {
     "name": "stdout",
     "output_type": "stream",
     "text": [
      "(5290, 52)\n"
     ]
    }
   ],
   "source": [
    "test_features=data_test_ready.drop(['date','rougher.output.recovery', 'final.output.recovery'], axis=1)\n",
    "print(test_features.shape)\n",
    "test_target1=data_test_ready['rougher.output.recovery']\n",
    "test_target2=data_test_ready['final.output.recovery']"
   ]
  },
  {
   "cell_type": "markdown",
   "metadata": {},
   "source": [
    "def DTR (train_features, train_target, test_features, test_target):\n",
    "    best_model = None \n",
    "    best_result = 100 \n",
    "    best_depth = 0 \n",
    "    smape1=0 \n",
    "    for depth in range (1, 21):\n",
    "        model = DecisionTreeRegressor(random_state=12345, max_depth=depth) \n",
    "        model.fit(train_features, train_target) \n",
    "        result=model.predict(test_features) \n",
    "        smape1=smape(test_target, result) \n",
    "        if smape1 < best_result:\n",
    "            best_model = model \n",
    "            best_result = smape1 \n",
    "            best_depth = depth\n",
    "    print(\"Точность наилучшей модели на тестовой выборке:\", best_result, \"Максимальная глубина:\", best_depth)\n",
    "\n",
    "DTR(train_features, train_target1, test_features, test_target1) \n",
    "DTR(train_features, train_target2, test_features, test_target2)\n",
    "\n",
    "def RFR (train_features, train_target, test_features, test_target): \n",
    "    best_model = None \n",
    "    best_result = 100 \n",
    "    best_depth = 0 \n",
    "    smape1=0 \n",
    "    best_est=0 \n",
    "    for est in range(10, 51, 10): \n",
    "        for depth in range (1, 11): \n",
    "            model = RandomForestRegressor(random_state=12345, n_estimators=est, max_depth=depth) \n",
    "            model.fit(train_features, train_target) \n",
    "            result=model.predict(test_features) \n",
    "            smape1=smape(test_target, result) \n",
    "            if smape1 < best_result: \n",
    "                best_model = model \n",
    "                best_result = smape1 \n",
    "                best_depth = depth \n",
    "                best_est = est\n",
    "    print(\"RMSE наилучшей модели на валидационной выборке:\", best_result, \n",
    "      \"Количество деревьев:\", best_est, \"Максимальная глубина:\", best_depth)\n",
    "\n",
    "RFR(train_features, train_target1, test_features, test_target1) \n",
    "RFR(train_features, train_target2, test_features, test_target2)\n"
   ]
  },
  {
   "cell_type": "markdown",
   "metadata": {},
   "source": [
    "<div class=\"alert alert-info\"> <b>Комментарий :</b>Разбил данные на фичи и таргеты, таргеты для тестовой выборки взял из общего набора данных\n",
    "</div>"
   ]
  },
  {
   "cell_type": "code",
   "execution_count": 29,
   "metadata": {},
   "outputs": [
    {
     "name": "stdout",
     "output_type": "stream",
     "text": [
      "Smape обогащения чернового концентрата: 9.21\n"
     ]
    }
   ],
   "source": [
    "model_lr =LinearRegression() \n",
    "model_lr.fit(train_features, train_target1)\n",
    "result=model_lr.predict(test_features)\n",
    "smape1=smape(test_target1, result) \n",
    "print('Smape обогащения чернового концентрата: {:.2f}'.format(smape1))\n"
   ]
  },
  {
   "cell_type": "code",
   "execution_count": 30,
   "metadata": {},
   "outputs": [
    {
     "name": "stdout",
     "output_type": "stream",
     "text": [
      "Smape обогащения финального концентрата: 9.31\n"
     ]
    }
   ],
   "source": [
    "model_lr1 =LinearRegression() \n",
    "model_lr1.fit(train_features, train_target2)\n",
    "result1=model_lr1.predict(test_features)\n",
    "smape1=smape(test_target2, result1) \n",
    "print('Smape обогащения финального концентрата: {:.2f}'.format(smape1))"
   ]
  },
  {
   "cell_type": "code",
   "execution_count": 31,
   "metadata": {},
   "outputs": [
    {
     "name": "stdout",
     "output_type": "stream",
     "text": [
      "Smape обогащения чернового концентрата: 9.77\n",
      "[0.9717534  0.95541806 0.93854929 0.31197894 0.90860159]\n"
     ]
    }
   ],
   "source": [
    "model_rougher=RandomForestRegressor(random_state=12345, n_estimators=40, max_depth=1)\n",
    "model_rougher.fit(train_features, train_target1) \n",
    "result=model_rougher.predict(test_features)\n",
    "smape_rougher=smape(test_target1, result)\n",
    "scores_rougher = cross_val_score(model_rougher, test_features, result, cv=5)\n",
    "final_score = scores_rougher.mean()\n",
    "print('Smape обогащения чернового концентрата: {:.2f}'.format(smape_rougher))\n",
    "print(scores_rougher)"
   ]
  },
  {
   "cell_type": "code",
   "execution_count": 32,
   "metadata": {},
   "outputs": [
    {
     "name": "stdout",
     "output_type": "stream",
     "text": [
      "9.31\n"
     ]
    }
   ],
   "source": [
    "model_final=LinearRegression(copy_X=True, normalize = True)\n",
    "model_final.fit(train_features, train_target2) \n",
    "result1=model_final.predict(test_features)\n",
    "smape_final=smape(test_target2, result1)\n",
    "scores_final = cross_val_score(model_final, test_features, result1, cv=5)\n",
    "final_score1 = scores_final.mean()\n",
    "print('{:.2f}'.format(smape_final))"
   ]
  },
  {
   "cell_type": "code",
   "execution_count": 33,
   "metadata": {},
   "outputs": [
    {
     "name": "stdout",
     "output_type": "stream",
     "text": [
      "Smape обогащения финального концентрата: 8.23\n",
      "0.6473478793909486\n"
     ]
    }
   ],
   "source": [
    "model_final1=RandomForestRegressor(random_state=12345, n_estimators=40, max_depth=7)\n",
    "model_final1.fit(train_features, train_target2) \n",
    "result=model_final1.predict(test_features)\n",
    "smape_final1=smape(test_target2, result)\n",
    "scores_final = cross_val_score(model_final1, test_features, result, cv=5)\n",
    "final_score1 = scores_final.mean()\n",
    "print('Smape обогащения финального концентрата: {:.2f}'.format(smape_final1))\n",
    "print(final_score1)"
   ]
  },
  {
   "cell_type": "markdown",
   "metadata": {},
   "source": [
    "<font color='blue'>Используем модель \"Случайный лес в регрессии\". Был рассмотрен гиперпараметр с глубиной дерева=7. Метрики брал по 5. По итогу эта модель проявила себя куда лучше, относительно линейной регрессии.\n",
    "    \n",
    "Лучше всего себя показал Случайный лес в регрессии - будем работать с ним </font>"
   ]
  },
  {
   "cell_type": "code",
   "execution_count": 34,
   "metadata": {},
   "outputs": [
    {
     "name": "stdout",
     "output_type": "stream",
     "text": [
      "Итоговое симметричное среднее абсолютное процентное отклонение: 8.61 %\n"
     ]
    }
   ],
   "source": [
    "total_smape=0.25*smape_rougher+0.75*smape_final1\n",
    "print('Итоговое симметричное среднее абсолютное процентное отклонение: {:.2f} %'.format(total_smape))"
   ]
  },
  {
   "cell_type": "markdown",
   "metadata": {},
   "source": [
    "<font color='blue'>Отклонение 8% не есть хорошо, но и не так уж и плохо</font>"
   ]
  },
  {
   "cell_type": "code",
   "execution_count": 35,
   "metadata": {},
   "outputs": [
    {
     "name": "stdout",
     "output_type": "stream",
     "text": [
      "Лучшее значение метрики: 11.98\n",
      "Лучшие гиперпараметры:  {'copy_X': True, 'fit_intercept': False, 'normalize': True}\n",
      "Лучшее значение метрики: 11.20\n",
      "Лучшие гиперпараметры:  {'copy_X': True, 'fit_intercept': False, 'normalize': True}\n"
     ]
    },
    {
     "data": {
      "text/plain": [
       "{'copy_X': True, 'fit_intercept': False, 'normalize': True}"
      ]
     },
     "execution_count": 35,
     "metadata": {},
     "output_type": "execute_result"
    }
   ],
   "source": [
    "from sklearn.metrics import make_scorer\n",
    "scores = make_scorer(smape, greater_is_better = False)\n",
    "def lr_gridsearchcv(features, target, scores):\n",
    "    model = LinearRegression()\n",
    "    param_grid = {\n",
    "        'copy_X':[True, False],\n",
    "        'fit_intercept' : [True, False],\n",
    "        'normalize':[True,False]\n",
    "    }\n",
    "    #param_grid = { 'n_estimators': range (40, 50, 5),\n",
    "    #          'max_depth': range (5,13, 2),\n",
    "    #          'min_samples_leaf': range (1,8),\n",
    "    #          'min_samples_split': range (2,10,2) }\n",
    "    \n",
    "    my_scorer = make_scorer(scores, greater_is_better=False)\n",
    "    CV = GridSearchCV(estimator = model, param_grid = param_grid, cv=5, scoring = my_scorer)\n",
    "    CV.fit(features, target)\n",
    "    print('Лучшее значение метрики: {:.2f}'.format(-CV.best_score_))\n",
    "    print('Лучшие гиперпараметры: ', CV.best_params_)\n",
    "    return CV.best_params_ \n",
    "\n",
    "lr_gridsearchcv(train_features, train_target1, smape)\n",
    "lr_gridsearchcv(train_features, train_target2, smape)"
   ]
  },
  {
   "cell_type": "markdown",
   "metadata": {},
   "source": [
    "from sklearn.metrics import make_scorer\n",
    "scores = make_scorer(smape, greater_is_better = False)\n",
    "def lr_gridsearchcv(features, target, scores):\n",
    "    model = RandomForestRegressor()\n",
    "    param_grid = { 'n_estimators': range (48, 50, 5),\n",
    "              'max_depth': range (11,13, 2),\n",
    "              'min_samples_leaf': range (1,4),\n",
    "              'min_samples_split': range (2,6,2) }\n",
    "    \n",
    "    my_scorer = make_scorer(scores, greater_is_better=False)\n",
    "    CV = GridSearchCV(estimator = model, param_grid = param_grid, cv=5, scoring = my_scorer)\n",
    "    CV.fit(features, target)\n",
    "    print('Лучшее значение метрики: {:.2f}'.format(-CV.best_score_))\n",
    "    print('Лучшие гиперпараметры: ', CV.best_params_)\n",
    "    return CV.best_params_ \n",
    "\n",
    "lr_gridsearchcv(train_features, train_target1, smape)\n",
    "lr_gridsearchcv(train_features, train_target2, smape)"
   ]
  },
  {
   "cell_type": "markdown",
   "metadata": {},
   "source": [
    "data_train['rougher.output.recovery'].fillna(\"missing\", inplace=True) \n",
    "X_train = data_train.drop('rougher.output.recovery', axis=1)\n",
    "y_train = data_train['rougher.output.recovery']\n",
    "clf = RandomForestRegressor()\n",
    "parametrs = { 'n_estimators': range (10, 51, 10),\n",
    "              'max_depth': range (1,13, 2),\n",
    "              'min_samples_leaf': range (1,8),\n",
    "              'min_samples_split': range (2,10,2) }\n",
    "\n",
    "grid = GridSearchCV(clf, parametrs, cv=5)\n",
    "grid.fit(X_train, y_train)\n",
    "\n",
    "\n",
    "print(grid.best_params_)\n"
   ]
  },
  {
   "cell_type": "markdown",
   "metadata": {},
   "source": [
    "<div class=\"alert alert-info\"> <b>Комментарий :</b> В своем старом варианте метод data_train['rougher.output.recovery'].fillna(\"missing\", inplace=True)  не сработал((\n",
    "    Сделал по другому гидсёрч, для линейной регрессии - все ок, а для леса уж больно долго ищет...хз мб зависит от количесва ядер, очень много литературы и ресурсов прошерсил, толкового в голову ничего не пришло, в общем с лесом как то не задалось ¯\\_(ツ)_/¯\n",
    "</div>"
   ]
  },
  {
   "cell_type": "markdown",
   "metadata": {},
   "source": [
    "## Вывод"
   ]
  },
  {
   "cell_type": "markdown",
   "metadata": {},
   "source": [
    "Из всей проделанной работы можно сказать, что самым стабильным явлется по технологическому процессу является элемент Au, но самым экономичным все же стал Pb;\n",
    "\n",
    "В ходе анализа были выявлены аномалии, а точнее значения в нуле, от которых по хорошему лучше избавляться.;\n",
    "\n",
    "Замечены следующие закономерности - концентрация золота на всех этапах обогащения растет, в сумме возрастает в 4 раза с 8 до 48 пунктов, концентрация свинца растет в 2,5 раза, концетрация серебра падает в 2 раза;\n",
    "\n",
    "В суммарной концетрации можно заметить, как концетрация на выходе выросла относительно первичной очистки, на несколько пунктов;\n",
    "\n",
    "Было протестированно две модели \"Линейная регрессия\" и \"Случайный лес в регрессии\", лучше всего себя проявил Случайный лес, Smape которого сотавило 8%, что впринципе неплохо.\n"
   ]
  },
  {
   "cell_type": "code",
   "execution_count": null,
   "metadata": {},
   "outputs": [],
   "source": []
  }
 ],
 "metadata": {
  "ExecuteTimeLog": [
   {
    "duration": 1547,
    "start_time": "2021-08-23T09:47:52.704Z"
   },
   {
    "duration": 414,
    "start_time": "2021-08-23T09:48:30.681Z"
   },
   {
    "duration": 433,
    "start_time": "2021-08-23T09:49:16.650Z"
   },
   {
    "duration": 469,
    "start_time": "2021-08-23T09:49:27.489Z"
   },
   {
    "duration": 376,
    "start_time": "2021-08-23T09:49:36.754Z"
   },
   {
    "duration": 496,
    "start_time": "2021-08-23T09:49:46.240Z"
   },
   {
    "duration": 1470,
    "start_time": "2021-08-23T09:50:50.467Z"
   },
   {
    "duration": 375,
    "start_time": "2021-08-23T09:50:51.941Z"
   },
   {
    "duration": 134,
    "start_time": "2021-08-23T09:50:52.318Z"
   },
   {
    "duration": 490,
    "start_time": "2021-08-23T09:50:52.456Z"
   },
   {
    "duration": 132,
    "start_time": "2021-08-23T09:51:06.274Z"
   },
   {
    "duration": 482,
    "start_time": "2021-08-23T09:51:10.090Z"
   },
   {
    "duration": 495,
    "start_time": "2021-08-23T09:51:49.378Z"
   },
   {
    "duration": 1591,
    "start_time": "2021-08-23T09:53:23.622Z"
   },
   {
    "duration": 364,
    "start_time": "2021-08-23T09:53:25.215Z"
   },
   {
    "duration": 121,
    "start_time": "2021-08-23T09:53:25.582Z"
   },
   {
    "duration": 462,
    "start_time": "2021-08-23T09:53:25.705Z"
   },
   {
    "duration": 1392,
    "start_time": "2021-08-23T09:53:26.170Z"
   },
   {
    "duration": 2042,
    "start_time": "2021-08-23T10:02:32.370Z"
   },
   {
    "duration": 406,
    "start_time": "2021-08-23T10:05:35.117Z"
   },
   {
    "duration": 1548,
    "start_time": "2021-08-23T10:06:00.238Z"
   },
   {
    "duration": 367,
    "start_time": "2021-08-23T10:06:01.789Z"
   },
   {
    "duration": 126,
    "start_time": "2021-08-23T10:06:02.165Z"
   },
   {
    "duration": 462,
    "start_time": "2021-08-23T10:06:02.294Z"
   },
   {
    "duration": 1414,
    "start_time": "2021-08-23T10:06:02.759Z"
   },
   {
    "duration": 500,
    "start_time": "2021-08-23T10:06:04.175Z"
   },
   {
    "duration": 265,
    "start_time": "2021-08-23T10:19:40.239Z"
   },
   {
    "duration": 1559,
    "start_time": "2021-08-23T10:20:09.567Z"
   },
   {
    "duration": 372,
    "start_time": "2021-08-23T10:20:11.129Z"
   },
   {
    "duration": 126,
    "start_time": "2021-08-23T10:20:11.504Z"
   },
   {
    "duration": 499,
    "start_time": "2021-08-23T10:20:11.632Z"
   },
   {
    "duration": 1420,
    "start_time": "2021-08-23T10:20:12.134Z"
   },
   {
    "duration": 422,
    "start_time": "2021-08-23T10:20:13.556Z"
   },
   {
    "duration": 21,
    "start_time": "2021-08-23T10:20:27.803Z"
   },
   {
    "duration": 9,
    "start_time": "2021-08-23T10:20:33.587Z"
   },
   {
    "duration": 32,
    "start_time": "2021-08-23T10:20:39.947Z"
   },
   {
    "duration": 270,
    "start_time": "2021-08-23T10:22:19.419Z"
   },
   {
    "duration": 77,
    "start_time": "2021-08-23T10:22:42.553Z"
   },
   {
    "duration": 90,
    "start_time": "2021-08-23T10:24:17.858Z"
   },
   {
    "duration": 60,
    "start_time": "2021-08-23T10:24:23.281Z"
   },
   {
    "duration": 195,
    "start_time": "2021-08-23T10:25:01.297Z"
   },
   {
    "duration": 190,
    "start_time": "2021-08-23T10:25:13.665Z"
   },
   {
    "duration": 192,
    "start_time": "2021-08-23T10:51:21.114Z"
   },
   {
    "duration": 510,
    "start_time": "2021-08-23T10:52:39.273Z"
   },
   {
    "duration": 1818,
    "start_time": "2021-08-23T10:53:04.679Z"
   },
   {
    "duration": 363,
    "start_time": "2021-08-23T10:53:06.500Z"
   },
   {
    "duration": 175,
    "start_time": "2021-08-23T10:53:06.866Z"
   },
   {
    "duration": 644,
    "start_time": "2021-08-23T10:53:07.045Z"
   },
   {
    "duration": 1648,
    "start_time": "2021-08-23T10:53:07.692Z"
   },
   {
    "duration": 44,
    "start_time": "2021-08-23T10:53:09.343Z"
   },
   {
    "duration": 239,
    "start_time": "2021-08-23T10:53:09.390Z"
   },
   {
    "duration": 644,
    "start_time": "2021-08-23T10:53:09.632Z"
   },
   {
    "duration": 7,
    "start_time": "2021-08-23T10:54:29.046Z"
   },
   {
    "duration": 6,
    "start_time": "2021-08-23T10:55:22.669Z"
   },
   {
    "duration": 10,
    "start_time": "2021-08-23T10:55:39.357Z"
   },
   {
    "duration": 1575,
    "start_time": "2021-08-23T10:56:00.040Z"
   },
   {
    "duration": 358,
    "start_time": "2021-08-23T10:56:01.619Z"
   },
   {
    "duration": 133,
    "start_time": "2021-08-23T10:56:01.984Z"
   },
   {
    "duration": 470,
    "start_time": "2021-08-23T10:56:02.119Z"
   },
   {
    "duration": 1413,
    "start_time": "2021-08-23T10:56:02.592Z"
   },
   {
    "duration": 21,
    "start_time": "2021-08-23T10:56:04.007Z"
   },
   {
    "duration": 216,
    "start_time": "2021-08-23T10:56:04.031Z"
   },
   {
    "duration": 10,
    "start_time": "2021-08-23T10:56:04.250Z"
   },
   {
    "duration": 10,
    "start_time": "2021-08-23T10:56:16.825Z"
   },
   {
    "duration": 400,
    "start_time": "2021-08-23T10:56:35.767Z"
   },
   {
    "duration": 257,
    "start_time": "2021-08-23T10:56:41.775Z"
   },
   {
    "duration": 254,
    "start_time": "2021-08-23T10:58:19.007Z"
   },
   {
    "duration": 23,
    "start_time": "2021-08-23T10:58:55.287Z"
   },
   {
    "duration": 1607,
    "start_time": "2021-08-23T11:00:34.317Z"
   },
   {
    "duration": 403,
    "start_time": "2021-08-23T11:00:35.927Z"
   },
   {
    "duration": 136,
    "start_time": "2021-08-23T11:00:36.333Z"
   },
   {
    "duration": 511,
    "start_time": "2021-08-23T11:00:36.472Z"
   },
   {
    "duration": 1463,
    "start_time": "2021-08-23T11:00:36.986Z"
   },
   {
    "duration": 30,
    "start_time": "2021-08-23T11:00:38.454Z"
   },
   {
    "duration": 234,
    "start_time": "2021-08-23T11:00:38.486Z"
   },
   {
    "duration": 192,
    "start_time": "2021-08-23T11:00:38.724Z"
   },
   {
    "duration": 182,
    "start_time": "2021-08-23T11:00:50.247Z"
   },
   {
    "duration": 567,
    "start_time": "2021-08-23T11:01:46.390Z"
   },
   {
    "duration": 214,
    "start_time": "2021-08-23T11:01:58.828Z"
   },
   {
    "duration": 123,
    "start_time": "2021-08-23T11:02:02.589Z"
   },
   {
    "duration": 17,
    "start_time": "2021-08-23T11:02:16.422Z"
   },
   {
    "duration": 20,
    "start_time": "2021-08-23T11:02:49.270Z"
   },
   {
    "duration": 22,
    "start_time": "2021-08-23T11:03:42.237Z"
   },
   {
    "duration": 1543,
    "start_time": "2021-08-23T11:04:02.973Z"
   },
   {
    "duration": 404,
    "start_time": "2021-08-23T11:04:04.518Z"
   },
   {
    "duration": 137,
    "start_time": "2021-08-23T11:04:04.926Z"
   },
   {
    "duration": 505,
    "start_time": "2021-08-23T11:04:05.067Z"
   },
   {
    "duration": 1472,
    "start_time": "2021-08-23T11:04:05.574Z"
   },
   {
    "duration": 32,
    "start_time": "2021-08-23T11:04:07.048Z"
   },
   {
    "duration": 215,
    "start_time": "2021-08-23T11:04:07.083Z"
   },
   {
    "duration": 195,
    "start_time": "2021-08-23T11:04:07.302Z"
   },
   {
    "duration": 306,
    "start_time": "2021-08-23T11:04:07.499Z"
   },
   {
    "duration": 27,
    "start_time": "2021-08-23T11:04:07.808Z"
   },
   {
    "duration": 43,
    "start_time": "2021-08-23T11:04:07.837Z"
   },
   {
    "duration": 21,
    "start_time": "2021-08-23T11:05:03.508Z"
   },
   {
    "duration": 564,
    "start_time": "2021-08-23T11:06:13.610Z"
   },
   {
    "duration": 285,
    "start_time": "2021-08-23T11:08:50.959Z"
   },
   {
    "duration": 392,
    "start_time": "2021-08-23T11:09:07.953Z"
   },
   {
    "duration": 11,
    "start_time": "2021-08-23T11:19:50.892Z"
   },
   {
    "duration": 13,
    "start_time": "2021-08-23T11:19:53.580Z"
   },
   {
    "duration": 10,
    "start_time": "2021-08-23T11:24:45.361Z"
   },
   {
    "duration": 8,
    "start_time": "2021-08-23T11:25:18.304Z"
   },
   {
    "duration": 12,
    "start_time": "2021-08-23T11:26:54.449Z"
   },
   {
    "duration": 15,
    "start_time": "2021-08-23T11:28:10.136Z"
   },
   {
    "duration": 15,
    "start_time": "2021-08-23T11:28:34.175Z"
   },
   {
    "duration": 20,
    "start_time": "2021-08-23T11:30:17.206Z"
   },
   {
    "duration": 16,
    "start_time": "2021-08-23T11:30:30.542Z"
   },
   {
    "duration": 15,
    "start_time": "2021-08-23T11:30:49.278Z"
   },
   {
    "duration": 6987,
    "start_time": "2021-08-23T11:32:11.734Z"
   },
   {
    "duration": 30,
    "start_time": "2021-08-23T11:32:50.158Z"
   },
   {
    "duration": 6,
    "start_time": "2021-08-23T11:33:51.756Z"
   },
   {
    "duration": 1635,
    "start_time": "2021-08-23T11:33:57.084Z"
   },
   {
    "duration": 4,
    "start_time": "2021-08-23T11:33:58.722Z"
   },
   {
    "duration": 483,
    "start_time": "2021-08-23T11:33:58.729Z"
   },
   {
    "duration": 148,
    "start_time": "2021-08-23T11:33:59.216Z"
   },
   {
    "duration": 567,
    "start_time": "2021-08-23T11:33:59.367Z"
   },
   {
    "duration": 1761,
    "start_time": "2021-08-23T11:33:59.937Z"
   },
   {
    "duration": 20,
    "start_time": "2021-08-23T11:34:01.700Z"
   },
   {
    "duration": 249,
    "start_time": "2021-08-23T11:34:01.723Z"
   },
   {
    "duration": 210,
    "start_time": "2021-08-23T11:34:01.977Z"
   },
   {
    "duration": 318,
    "start_time": "2021-08-23T11:34:02.189Z"
   },
   {
    "duration": 48,
    "start_time": "2021-08-23T11:34:02.510Z"
   },
   {
    "duration": 33,
    "start_time": "2021-08-23T11:34:02.561Z"
   },
   {
    "duration": 12,
    "start_time": "2021-08-23T11:34:02.597Z"
   },
   {
    "duration": 64,
    "start_time": "2021-08-23T11:34:02.611Z"
   },
   {
    "duration": 199,
    "start_time": "2021-08-23T11:37:56.073Z"
   },
   {
    "duration": 1632,
    "start_time": "2021-08-23T11:39:47.306Z"
   },
   {
    "duration": 4,
    "start_time": "2021-08-23T11:39:48.940Z"
   },
   {
    "duration": 429,
    "start_time": "2021-08-23T11:39:48.963Z"
   },
   {
    "duration": 163,
    "start_time": "2021-08-23T11:39:49.395Z"
   },
   {
    "duration": 527,
    "start_time": "2021-08-23T11:39:49.566Z"
   },
   {
    "duration": 1549,
    "start_time": "2021-08-23T11:39:50.096Z"
   },
   {
    "duration": 36,
    "start_time": "2021-08-23T11:39:51.648Z"
   },
   {
    "duration": 222,
    "start_time": "2021-08-23T11:39:51.689Z"
   },
   {
    "duration": 201,
    "start_time": "2021-08-23T11:39:51.914Z"
   },
   {
    "duration": 353,
    "start_time": "2021-08-23T11:39:52.118Z"
   },
   {
    "duration": 44,
    "start_time": "2021-08-23T11:39:52.474Z"
   },
   {
    "duration": 61,
    "start_time": "2021-08-23T11:39:52.521Z"
   },
   {
    "duration": 16,
    "start_time": "2021-08-23T11:39:52.585Z"
   },
   {
    "duration": 53,
    "start_time": "2021-08-23T11:39:52.604Z"
   },
   {
    "duration": 19,
    "start_time": "2021-08-23T11:42:31.304Z"
   },
   {
    "duration": 31,
    "start_time": "2021-08-23T11:44:27.143Z"
   },
   {
    "duration": 17,
    "start_time": "2021-08-23T14:21:45.397Z"
   },
   {
    "duration": 2137,
    "start_time": "2021-08-23T14:24:43.753Z"
   },
   {
    "duration": -3525,
    "start_time": "2021-08-23T14:24:49.419Z"
   },
   {
    "duration": -3525,
    "start_time": "2021-08-23T14:24:49.420Z"
   },
   {
    "duration": -3525,
    "start_time": "2021-08-23T14:24:49.421Z"
   },
   {
    "duration": -3524,
    "start_time": "2021-08-23T14:24:49.422Z"
   },
   {
    "duration": -3525,
    "start_time": "2021-08-23T14:24:49.424Z"
   },
   {
    "duration": -3528,
    "start_time": "2021-08-23T14:24:49.429Z"
   },
   {
    "duration": -3527,
    "start_time": "2021-08-23T14:24:49.430Z"
   },
   {
    "duration": -3527,
    "start_time": "2021-08-23T14:24:49.431Z"
   },
   {
    "duration": -3527,
    "start_time": "2021-08-23T14:24:49.432Z"
   },
   {
    "duration": -3526,
    "start_time": "2021-08-23T14:24:49.433Z"
   },
   {
    "duration": -3527,
    "start_time": "2021-08-23T14:24:49.435Z"
   },
   {
    "duration": -3528,
    "start_time": "2021-08-23T14:24:49.437Z"
   },
   {
    "duration": -3529,
    "start_time": "2021-08-23T14:24:49.440Z"
   },
   {
    "duration": -3530,
    "start_time": "2021-08-23T14:24:49.442Z"
   },
   {
    "duration": 1548,
    "start_time": "2021-08-23T14:26:09.561Z"
   },
   {
    "duration": 3,
    "start_time": "2021-08-23T14:26:11.112Z"
   },
   {
    "duration": 373,
    "start_time": "2021-08-23T14:26:11.118Z"
   },
   {
    "duration": 132,
    "start_time": "2021-08-23T14:26:11.494Z"
   },
   {
    "duration": 476,
    "start_time": "2021-08-23T14:26:11.629Z"
   },
   {
    "duration": 1464,
    "start_time": "2021-08-23T14:26:12.108Z"
   },
   {
    "duration": 25,
    "start_time": "2021-08-23T14:26:13.574Z"
   },
   {
    "duration": 217,
    "start_time": "2021-08-23T14:26:13.602Z"
   },
   {
    "duration": 195,
    "start_time": "2021-08-23T14:26:13.823Z"
   },
   {
    "duration": 293,
    "start_time": "2021-08-23T14:26:14.021Z"
   },
   {
    "duration": 39,
    "start_time": "2021-08-23T14:26:14.316Z"
   },
   {
    "duration": 30,
    "start_time": "2021-08-23T14:26:14.358Z"
   },
   {
    "duration": 11,
    "start_time": "2021-08-23T14:26:14.391Z"
   },
   {
    "duration": 63,
    "start_time": "2021-08-23T14:26:14.405Z"
   },
   {
    "duration": 15,
    "start_time": "2021-08-23T14:26:14.470Z"
   },
   {
    "duration": 15,
    "start_time": "2021-08-23T14:26:18.185Z"
   },
   {
    "duration": 1337,
    "start_time": "2021-08-23T14:27:11.080Z"
   },
   {
    "duration": 925,
    "start_time": "2021-08-23T14:29:30.306Z"
   },
   {
    "duration": 1089,
    "start_time": "2021-08-23T14:30:03.730Z"
   },
   {
    "duration": 421,
    "start_time": "2021-08-23T14:30:15.787Z"
   },
   {
    "duration": 436,
    "start_time": "2021-08-23T14:30:29.209Z"
   },
   {
    "duration": 152,
    "start_time": "2021-08-23T14:30:34.576Z"
   },
   {
    "duration": 416,
    "start_time": "2021-08-23T14:30:45.194Z"
   },
   {
    "duration": 428,
    "start_time": "2021-08-23T14:31:05.632Z"
   },
   {
    "duration": 454,
    "start_time": "2021-08-23T14:34:25.935Z"
   },
   {
    "duration": 562,
    "start_time": "2021-08-23T14:35:53.991Z"
   },
   {
    "duration": 818,
    "start_time": "2021-08-23T14:37:13.838Z"
   },
   {
    "duration": 790,
    "start_time": "2021-08-23T14:37:23.446Z"
   },
   {
    "duration": 783,
    "start_time": "2021-08-23T14:37:38.118Z"
   },
   {
    "duration": 141,
    "start_time": "2021-08-23T14:38:20.302Z"
   },
   {
    "duration": 488,
    "start_time": "2021-08-23T14:38:27.885Z"
   },
   {
    "duration": 499,
    "start_time": "2021-08-23T14:43:20.787Z"
   },
   {
    "duration": 752,
    "start_time": "2021-08-23T14:43:50.003Z"
   },
   {
    "duration": 578,
    "start_time": "2021-08-23T14:44:44.388Z"
   },
   {
    "duration": 520,
    "start_time": "2021-08-23T14:44:52.458Z"
   },
   {
    "duration": 1318,
    "start_time": "2021-08-23T14:45:15.010Z"
   },
   {
    "duration": 512,
    "start_time": "2021-08-23T14:45:29.866Z"
   },
   {
    "duration": 955,
    "start_time": "2021-08-23T14:47:32.425Z"
   },
   {
    "duration": 1017,
    "start_time": "2021-08-23T14:48:08.920Z"
   },
   {
    "duration": 495,
    "start_time": "2021-08-23T14:48:37.777Z"
   },
   {
    "duration": 795,
    "start_time": "2021-08-23T14:50:13.822Z"
   },
   {
    "duration": 1691,
    "start_time": "2021-08-23T14:50:21.035Z"
   },
   {
    "duration": 5,
    "start_time": "2021-08-23T14:50:22.729Z"
   },
   {
    "duration": 373,
    "start_time": "2021-08-23T14:50:22.756Z"
   },
   {
    "duration": 133,
    "start_time": "2021-08-23T14:50:23.132Z"
   },
   {
    "duration": 470,
    "start_time": "2021-08-23T14:50:23.268Z"
   },
   {
    "duration": 1540,
    "start_time": "2021-08-23T14:50:23.740Z"
   },
   {
    "duration": 20,
    "start_time": "2021-08-23T14:50:25.283Z"
   },
   {
    "duration": 218,
    "start_time": "2021-08-23T14:50:25.307Z"
   },
   {
    "duration": 194,
    "start_time": "2021-08-23T14:50:25.527Z"
   },
   {
    "duration": 289,
    "start_time": "2021-08-23T14:50:25.723Z"
   },
   {
    "duration": 40,
    "start_time": "2021-08-23T14:50:26.015Z"
   },
   {
    "duration": 30,
    "start_time": "2021-08-23T14:50:26.057Z"
   },
   {
    "duration": 18,
    "start_time": "2021-08-23T14:50:26.089Z"
   },
   {
    "duration": 48,
    "start_time": "2021-08-23T14:50:26.110Z"
   },
   {
    "duration": 24,
    "start_time": "2021-08-23T14:50:26.160Z"
   },
   {
    "duration": 597,
    "start_time": "2021-08-23T14:50:26.187Z"
   },
   {
    "duration": 11486,
    "start_time": "2021-08-23T14:50:35.183Z"
   },
   {
    "duration": 11911,
    "start_time": "2021-08-23T14:51:47.663Z"
   },
   {
    "duration": 1588,
    "start_time": "2021-08-23T14:52:25.540Z"
   },
   {
    "duration": 5,
    "start_time": "2021-08-23T14:52:27.131Z"
   },
   {
    "duration": 381,
    "start_time": "2021-08-23T14:52:27.141Z"
   },
   {
    "duration": 131,
    "start_time": "2021-08-23T14:52:27.525Z"
   },
   {
    "duration": 480,
    "start_time": "2021-08-23T14:52:27.659Z"
   },
   {
    "duration": 1462,
    "start_time": "2021-08-23T14:52:28.142Z"
   },
   {
    "duration": 21,
    "start_time": "2021-08-23T14:52:29.607Z"
   },
   {
    "duration": 214,
    "start_time": "2021-08-23T14:52:29.632Z"
   },
   {
    "duration": 178,
    "start_time": "2021-08-23T14:52:29.853Z"
   },
   {
    "duration": 307,
    "start_time": "2021-08-23T14:52:30.034Z"
   },
   {
    "duration": 35,
    "start_time": "2021-08-23T14:52:30.345Z"
   },
   {
    "duration": 31,
    "start_time": "2021-08-23T14:52:30.384Z"
   },
   {
    "duration": 45,
    "start_time": "2021-08-23T14:52:30.418Z"
   },
   {
    "duration": 41,
    "start_time": "2021-08-23T14:52:30.465Z"
   },
   {
    "duration": 17,
    "start_time": "2021-08-23T14:52:30.510Z"
   },
   {
    "duration": 524,
    "start_time": "2021-08-23T14:52:30.530Z"
   },
   {
    "duration": 1515,
    "start_time": "2021-08-23T14:53:46.380Z"
   },
   {
    "duration": 1424,
    "start_time": "2021-08-23T21:01:57.190Z"
   },
   {
    "duration": 1447,
    "start_time": "2021-08-23T21:05:14.739Z"
   },
   {
    "duration": 19,
    "start_time": "2021-08-23T21:06:44.171Z"
   },
   {
    "duration": 18,
    "start_time": "2021-08-23T21:06:54.161Z"
   },
   {
    "duration": 921,
    "start_time": "2021-08-23T21:10:54.270Z"
   },
   {
    "duration": 432,
    "start_time": "2021-08-23T21:11:22.686Z"
   },
   {
    "duration": 1092,
    "start_time": "2021-08-23T21:13:06.470Z"
   },
   {
    "duration": 820,
    "start_time": "2021-08-23T21:13:32.205Z"
   },
   {
    "duration": 857,
    "start_time": "2021-08-23T21:13:43.293Z"
   },
   {
    "duration": 829,
    "start_time": "2021-08-23T21:13:51.549Z"
   },
   {
    "duration": 421,
    "start_time": "2021-08-23T21:13:56.205Z"
   },
   {
    "duration": 771,
    "start_time": "2021-08-23T21:14:20.300Z"
   },
   {
    "duration": 439,
    "start_time": "2021-08-23T21:14:30.982Z"
   },
   {
    "duration": 445,
    "start_time": "2021-08-23T21:15:35.395Z"
   },
   {
    "duration": 442,
    "start_time": "2021-08-23T21:16:38.273Z"
   },
   {
    "duration": 1567,
    "start_time": "2021-08-23T21:28:28.984Z"
   },
   {
    "duration": 4,
    "start_time": "2021-08-23T21:28:30.556Z"
   },
   {
    "duration": 397,
    "start_time": "2021-08-23T21:28:30.565Z"
   },
   {
    "duration": 146,
    "start_time": "2021-08-23T21:28:30.966Z"
   },
   {
    "duration": 493,
    "start_time": "2021-08-23T21:28:31.114Z"
   },
   {
    "duration": 1394,
    "start_time": "2021-08-23T21:28:31.610Z"
   },
   {
    "duration": 21,
    "start_time": "2021-08-23T21:28:33.007Z"
   },
   {
    "duration": 217,
    "start_time": "2021-08-23T21:28:33.031Z"
   },
   {
    "duration": 179,
    "start_time": "2021-08-23T21:28:33.256Z"
   },
   {
    "duration": 253,
    "start_time": "2021-08-23T21:28:33.438Z"
   },
   {
    "duration": 27,
    "start_time": "2021-08-23T21:28:33.694Z"
   },
   {
    "duration": 3,
    "start_time": "2021-08-23T21:28:33.723Z"
   },
   {
    "duration": 26,
    "start_time": "2021-08-23T21:28:33.728Z"
   },
   {
    "duration": 12,
    "start_time": "2021-08-23T21:28:33.757Z"
   },
   {
    "duration": 31,
    "start_time": "2021-08-23T21:28:33.772Z"
   },
   {
    "duration": 15,
    "start_time": "2021-08-23T21:28:33.805Z"
   },
   {
    "duration": 1499,
    "start_time": "2021-08-23T21:28:33.855Z"
   },
   {
    "duration": 436,
    "start_time": "2021-08-23T21:28:35.357Z"
   },
   {
    "duration": 10033,
    "start_time": "2021-08-23T21:28:35.795Z"
   },
   {
    "duration": 4,
    "start_time": "2021-08-23T21:29:18.265Z"
   },
   {
    "duration": 7,
    "start_time": "2021-08-23T21:33:12.974Z"
   },
   {
    "duration": 8,
    "start_time": "2021-08-23T21:33:24.342Z"
   },
   {
    "duration": 870,
    "start_time": "2021-08-23T21:36:54.060Z"
   },
   {
    "duration": 1647,
    "start_time": "2021-08-23T21:37:11.457Z"
   },
   {
    "duration": 3,
    "start_time": "2021-08-23T21:37:13.107Z"
   },
   {
    "duration": 389,
    "start_time": "2021-08-23T21:37:13.115Z"
   },
   {
    "duration": 125,
    "start_time": "2021-08-23T21:37:13.508Z"
   },
   {
    "duration": 502,
    "start_time": "2021-08-23T21:37:13.636Z"
   },
   {
    "duration": 1423,
    "start_time": "2021-08-23T21:37:14.141Z"
   },
   {
    "duration": 21,
    "start_time": "2021-08-23T21:37:15.566Z"
   },
   {
    "duration": 214,
    "start_time": "2021-08-23T21:37:15.589Z"
   },
   {
    "duration": 191,
    "start_time": "2021-08-23T21:37:15.807Z"
   },
   {
    "duration": 286,
    "start_time": "2021-08-23T21:37:16.001Z"
   },
   {
    "duration": 28,
    "start_time": "2021-08-23T21:37:16.289Z"
   },
   {
    "duration": 3,
    "start_time": "2021-08-23T21:37:16.320Z"
   },
   {
    "duration": 16,
    "start_time": "2021-08-23T21:37:16.326Z"
   },
   {
    "duration": 24,
    "start_time": "2021-08-23T21:37:16.356Z"
   },
   {
    "duration": 26,
    "start_time": "2021-08-23T21:37:16.383Z"
   },
   {
    "duration": 16,
    "start_time": "2021-08-23T21:37:16.412Z"
   },
   {
    "duration": 1568,
    "start_time": "2021-08-23T21:37:16.430Z"
   },
   {
    "duration": 557,
    "start_time": "2021-08-23T21:37:18.001Z"
   },
   {
    "duration": 8,
    "start_time": "2021-08-23T21:37:18.561Z"
   },
   {
    "duration": 786,
    "start_time": "2021-08-23T21:37:18.572Z"
   },
   {
    "duration": 496,
    "start_time": "2021-08-23T21:37:33.362Z"
   },
   {
    "duration": 485,
    "start_time": "2021-08-23T21:37:54.975Z"
   },
   {
    "duration": 474,
    "start_time": "2021-08-23T21:38:05.399Z"
   },
   {
    "duration": 500,
    "start_time": "2021-08-23T21:38:15.039Z"
   },
   {
    "duration": 467,
    "start_time": "2021-08-23T21:38:31.814Z"
   },
   {
    "duration": 604,
    "start_time": "2021-08-23T21:38:39.135Z"
   },
   {
    "duration": 502,
    "start_time": "2021-08-23T21:39:04.479Z"
   },
   {
    "duration": 472,
    "start_time": "2021-08-23T21:39:40.175Z"
   },
   {
    "duration": 587,
    "start_time": "2021-08-23T21:40:41.206Z"
   },
   {
    "duration": 1858,
    "start_time": "2021-08-23T21:40:50.733Z"
   },
   {
    "duration": 3,
    "start_time": "2021-08-23T21:40:52.594Z"
   },
   {
    "duration": 401,
    "start_time": "2021-08-23T21:40:52.606Z"
   },
   {
    "duration": 136,
    "start_time": "2021-08-23T21:40:53.010Z"
   },
   {
    "duration": 505,
    "start_time": "2021-08-23T21:40:53.149Z"
   },
   {
    "duration": 1473,
    "start_time": "2021-08-23T21:40:53.657Z"
   },
   {
    "duration": 30,
    "start_time": "2021-08-23T21:40:55.133Z"
   },
   {
    "duration": 197,
    "start_time": "2021-08-23T21:40:55.167Z"
   },
   {
    "duration": 191,
    "start_time": "2021-08-23T21:40:55.366Z"
   },
   {
    "duration": 269,
    "start_time": "2021-08-23T21:40:55.559Z"
   },
   {
    "duration": 36,
    "start_time": "2021-08-23T21:40:55.831Z"
   },
   {
    "duration": 3,
    "start_time": "2021-08-23T21:40:55.869Z"
   },
   {
    "duration": 15,
    "start_time": "2021-08-23T21:40:55.874Z"
   },
   {
    "duration": 18,
    "start_time": "2021-08-23T21:40:55.891Z"
   },
   {
    "duration": 42,
    "start_time": "2021-08-23T21:40:55.912Z"
   },
   {
    "duration": 14,
    "start_time": "2021-08-23T21:40:55.956Z"
   },
   {
    "duration": 1564,
    "start_time": "2021-08-23T21:40:55.972Z"
   },
   {
    "duration": 491,
    "start_time": "2021-08-23T21:40:57.539Z"
   },
   {
    "duration": 8,
    "start_time": "2021-08-23T21:40:58.032Z"
   },
   {
    "duration": 499,
    "start_time": "2021-08-23T21:40:58.055Z"
   },
   {
    "duration": 480,
    "start_time": "2021-08-23T21:41:47.106Z"
   },
   {
    "duration": 498,
    "start_time": "2021-08-23T21:41:54.849Z"
   },
   {
    "duration": 508,
    "start_time": "2021-08-23T21:42:00.593Z"
   },
   {
    "duration": 475,
    "start_time": "2021-08-23T21:42:07.961Z"
   },
   {
    "duration": 1667,
    "start_time": "2021-08-23T21:42:31.505Z"
   },
   {
    "duration": 4,
    "start_time": "2021-08-23T21:42:33.174Z"
   },
   {
    "duration": 386,
    "start_time": "2021-08-23T21:42:33.181Z"
   },
   {
    "duration": 123,
    "start_time": "2021-08-23T21:42:33.570Z"
   },
   {
    "duration": 497,
    "start_time": "2021-08-23T21:42:33.695Z"
   },
   {
    "duration": 1416,
    "start_time": "2021-08-23T21:42:34.195Z"
   },
   {
    "duration": 21,
    "start_time": "2021-08-23T21:42:35.613Z"
   },
   {
    "duration": 211,
    "start_time": "2021-08-23T21:42:35.636Z"
   },
   {
    "duration": 182,
    "start_time": "2021-08-23T21:42:35.852Z"
   },
   {
    "duration": 266,
    "start_time": "2021-08-23T21:42:36.037Z"
   },
   {
    "duration": 29,
    "start_time": "2021-08-23T21:42:36.306Z"
   },
   {
    "duration": 18,
    "start_time": "2021-08-23T21:42:36.338Z"
   },
   {
    "duration": 21,
    "start_time": "2021-08-23T21:42:36.358Z"
   },
   {
    "duration": 27,
    "start_time": "2021-08-23T21:42:36.381Z"
   },
   {
    "duration": 52,
    "start_time": "2021-08-23T21:42:36.410Z"
   },
   {
    "duration": 15,
    "start_time": "2021-08-23T21:42:36.464Z"
   },
   {
    "duration": 1497,
    "start_time": "2021-08-23T21:42:36.482Z"
   },
   {
    "duration": 453,
    "start_time": "2021-08-23T21:42:37.982Z"
   },
   {
    "duration": 21,
    "start_time": "2021-08-23T21:42:38.438Z"
   },
   {
    "duration": 510,
    "start_time": "2021-08-23T21:42:38.462Z"
   },
   {
    "duration": 1608,
    "start_time": "2021-08-24T11:08:20.157Z"
   },
   {
    "duration": 3,
    "start_time": "2021-08-24T11:08:21.768Z"
   },
   {
    "duration": 379,
    "start_time": "2021-08-24T11:08:21.789Z"
   },
   {
    "duration": 128,
    "start_time": "2021-08-24T11:08:22.170Z"
   },
   {
    "duration": 486,
    "start_time": "2021-08-24T11:08:22.301Z"
   },
   {
    "duration": 1583,
    "start_time": "2021-08-24T11:08:22.789Z"
   },
   {
    "duration": 22,
    "start_time": "2021-08-24T11:08:24.384Z"
   },
   {
    "duration": 226,
    "start_time": "2021-08-24T11:08:24.410Z"
   },
   {
    "duration": 196,
    "start_time": "2021-08-24T11:08:24.639Z"
   },
   {
    "duration": 379,
    "start_time": "2021-08-24T11:08:24.838Z"
   },
   {
    "duration": 40,
    "start_time": "2021-08-24T11:08:25.220Z"
   },
   {
    "duration": 22,
    "start_time": "2021-08-24T11:08:25.263Z"
   },
   {
    "duration": 4,
    "start_time": "2021-08-24T11:08:25.289Z"
   },
   {
    "duration": 22,
    "start_time": "2021-08-24T11:08:25.295Z"
   },
   {
    "duration": 36,
    "start_time": "2021-08-24T11:08:25.320Z"
   },
   {
    "duration": 18,
    "start_time": "2021-08-24T11:08:25.387Z"
   },
   {
    "duration": 2319,
    "start_time": "2021-08-24T11:08:25.408Z"
   },
   {
    "duration": 478,
    "start_time": "2021-08-24T11:08:27.730Z"
   },
   {
    "duration": 7,
    "start_time": "2021-08-24T11:08:28.211Z"
   },
   {
    "duration": 521,
    "start_time": "2021-08-24T11:08:28.221Z"
   },
   {
    "duration": 8361,
    "start_time": "2021-08-24T11:19:05.544Z"
   },
   {
    "duration": 4,
    "start_time": "2021-08-24T11:25:59.922Z"
   },
   {
    "duration": 5,
    "start_time": "2021-08-24T11:26:02.099Z"
   },
   {
    "duration": 3,
    "start_time": "2021-08-24T12:49:44.046Z"
   },
   {
    "duration": 1029,
    "start_time": "2021-08-24T12:58:09.624Z"
   },
   {
    "duration": 351,
    "start_time": "2021-08-24T12:58:27.863Z"
   },
   {
    "duration": 959,
    "start_time": "2021-08-24T12:58:38.801Z"
   },
   {
    "duration": 1001,
    "start_time": "2021-08-24T12:58:52.888Z"
   },
   {
    "duration": 434,
    "start_time": "2021-08-31T14:22:49.589Z"
   },
   {
    "duration": 359,
    "start_time": "2021-08-31T14:25:56.402Z"
   },
   {
    "duration": 1585,
    "start_time": "2021-08-31T14:26:08.546Z"
   },
   {
    "duration": 4,
    "start_time": "2021-08-31T14:26:10.133Z"
   },
   {
    "duration": 414,
    "start_time": "2021-08-31T14:26:10.140Z"
   },
   {
    "duration": 129,
    "start_time": "2021-08-31T14:26:10.558Z"
   },
   {
    "duration": 453,
    "start_time": "2021-08-31T14:26:10.690Z"
   },
   {
    "duration": 1406,
    "start_time": "2021-08-31T14:26:11.145Z"
   },
   {
    "duration": 50,
    "start_time": "2021-08-31T14:26:12.554Z"
   },
   {
    "duration": 227,
    "start_time": "2021-08-31T14:26:12.608Z"
   },
   {
    "duration": 199,
    "start_time": "2021-08-31T14:26:12.838Z"
   },
   {
    "duration": 283,
    "start_time": "2021-08-31T14:26:13.040Z"
   },
   {
    "duration": 26,
    "start_time": "2021-08-31T14:26:13.325Z"
   },
   {
    "duration": 3,
    "start_time": "2021-08-31T14:26:13.353Z"
   },
   {
    "duration": 4,
    "start_time": "2021-08-31T14:26:13.384Z"
   },
   {
    "duration": 14,
    "start_time": "2021-08-31T14:26:13.402Z"
   },
   {
    "duration": 24,
    "start_time": "2021-08-31T14:26:13.418Z"
   },
   {
    "duration": 14,
    "start_time": "2021-08-31T14:26:13.444Z"
   },
   {
    "duration": 1718,
    "start_time": "2021-08-31T14:26:13.484Z"
   },
   {
    "duration": 502,
    "start_time": "2021-08-31T14:26:15.206Z"
   },
   {
    "duration": 10,
    "start_time": "2021-08-31T14:26:15.711Z"
   },
   {
    "duration": 543,
    "start_time": "2021-08-31T14:26:15.724Z"
   },
   {
    "duration": 12,
    "start_time": "2021-08-31T14:26:16.270Z"
   },
   {
    "duration": 3,
    "start_time": "2021-08-31T14:26:16.286Z"
   },
   {
    "duration": 8825,
    "start_time": "2021-08-31T14:26:16.295Z"
   },
   {
    "duration": 8580,
    "start_time": "2021-08-31T14:28:03.260Z"
   },
   {
    "duration": 8513,
    "start_time": "2021-08-31T14:28:13.367Z"
   },
   {
    "duration": 8546,
    "start_time": "2021-08-31T14:28:32.188Z"
   },
   {
    "duration": 14,
    "start_time": "2021-08-31T14:28:58.938Z"
   },
   {
    "duration": 11,
    "start_time": "2021-08-31T14:29:33.038Z"
   },
   {
    "duration": 577,
    "start_time": "2021-08-31T14:30:09.249Z"
   },
   {
    "duration": 28,
    "start_time": "2021-08-31T14:31:32.368Z"
   },
   {
    "duration": 7,
    "start_time": "2021-08-31T14:31:57.976Z"
   },
   {
    "duration": 8,
    "start_time": "2021-08-31T14:32:10.120Z"
   },
   {
    "duration": 375,
    "start_time": "2021-08-31T14:32:37.137Z"
   },
   {
    "duration": 375,
    "start_time": "2021-08-31T14:32:46.012Z"
   },
   {
    "duration": 1544,
    "start_time": "2021-08-31T14:33:01.634Z"
   },
   {
    "duration": 4,
    "start_time": "2021-08-31T14:33:03.183Z"
   },
   {
    "duration": 364,
    "start_time": "2021-08-31T14:33:03.190Z"
   },
   {
    "duration": 119,
    "start_time": "2021-08-31T14:33:03.557Z"
   },
   {
    "duration": 471,
    "start_time": "2021-08-31T14:33:03.678Z"
   },
   {
    "duration": 1368,
    "start_time": "2021-08-31T14:33:04.152Z"
   },
   {
    "duration": 22,
    "start_time": "2021-08-31T14:33:05.522Z"
   },
   {
    "duration": 211,
    "start_time": "2021-08-31T14:33:05.548Z"
   },
   {
    "duration": 178,
    "start_time": "2021-08-31T14:33:05.762Z"
   },
   {
    "duration": 276,
    "start_time": "2021-08-31T14:33:05.943Z"
   },
   {
    "duration": 26,
    "start_time": "2021-08-31T14:33:06.221Z"
   },
   {
    "duration": 3,
    "start_time": "2021-08-31T14:33:06.250Z"
   },
   {
    "duration": 7,
    "start_time": "2021-08-31T14:33:06.255Z"
   },
   {
    "duration": 13,
    "start_time": "2021-08-31T14:33:06.283Z"
   },
   {
    "duration": 30,
    "start_time": "2021-08-31T14:33:06.299Z"
   },
   {
    "duration": 56,
    "start_time": "2021-08-31T14:33:06.331Z"
   },
   {
    "duration": 1686,
    "start_time": "2021-08-31T14:33:06.408Z"
   },
   {
    "duration": 560,
    "start_time": "2021-08-31T14:33:08.097Z"
   },
   {
    "duration": 11,
    "start_time": "2021-08-31T14:33:08.660Z"
   },
   {
    "duration": 720,
    "start_time": "2021-08-31T14:33:08.684Z"
   },
   {
    "duration": 5,
    "start_time": "2021-08-31T14:33:09.406Z"
   },
   {
    "duration": 7,
    "start_time": "2021-08-31T14:33:09.413Z"
   },
   {
    "duration": 14,
    "start_time": "2021-08-31T14:33:09.425Z"
   },
   {
    "duration": 55,
    "start_time": "2021-08-31T14:33:09.441Z"
   },
   {
    "duration": 7,
    "start_time": "2021-08-31T14:33:09.498Z"
   },
   {
    "duration": 501,
    "start_time": "2021-08-31T14:33:09.507Z"
   },
   {
    "duration": 1805,
    "start_time": "2021-08-31T14:33:08.206Z"
   },
   {
    "duration": 4,
    "start_time": "2021-08-31T14:41:43.442Z"
   },
   {
    "duration": 1626,
    "start_time": "2021-08-31T14:42:39.166Z"
   },
   {
    "duration": 4,
    "start_time": "2021-08-31T14:42:40.795Z"
   },
   {
    "duration": 519,
    "start_time": "2021-08-31T14:42:40.807Z"
   },
   {
    "duration": 163,
    "start_time": "2021-08-31T14:42:41.329Z"
   },
   {
    "duration": 465,
    "start_time": "2021-08-31T14:42:41.495Z"
   },
   {
    "duration": 1643,
    "start_time": "2021-08-31T14:42:41.963Z"
   },
   {
    "duration": 33,
    "start_time": "2021-08-31T14:42:43.611Z"
   },
   {
    "duration": 341,
    "start_time": "2021-08-31T14:42:43.649Z"
   },
   {
    "duration": 179,
    "start_time": "2021-08-31T14:42:43.992Z"
   },
   {
    "duration": 261,
    "start_time": "2021-08-31T14:42:44.173Z"
   },
   {
    "duration": 27,
    "start_time": "2021-08-31T14:42:44.437Z"
   },
   {
    "duration": 17,
    "start_time": "2021-08-31T14:42:44.466Z"
   },
   {
    "duration": 4,
    "start_time": "2021-08-31T14:42:44.486Z"
   },
   {
    "duration": 30,
    "start_time": "2021-08-31T14:42:44.492Z"
   },
   {
    "duration": 16,
    "start_time": "2021-08-31T14:42:44.524Z"
   },
   {
    "duration": 60,
    "start_time": "2021-08-31T14:42:44.542Z"
   },
   {
    "duration": 17,
    "start_time": "2021-08-31T14:42:44.605Z"
   },
   {
    "duration": 1576,
    "start_time": "2021-08-31T14:42:44.625Z"
   },
   {
    "duration": 463,
    "start_time": "2021-08-31T14:42:46.203Z"
   },
   {
    "duration": 13,
    "start_time": "2021-08-31T14:42:46.669Z"
   },
   {
    "duration": 490,
    "start_time": "2021-08-31T14:42:46.685Z"
   },
   {
    "duration": 4,
    "start_time": "2021-08-31T14:42:47.183Z"
   },
   {
    "duration": 7,
    "start_time": "2021-08-31T14:42:47.190Z"
   },
   {
    "duration": 15,
    "start_time": "2021-08-31T14:42:47.199Z"
   },
   {
    "duration": 23,
    "start_time": "2021-08-31T14:42:47.216Z"
   },
   {
    "duration": 6,
    "start_time": "2021-08-31T14:42:47.242Z"
   },
   {
    "duration": 241,
    "start_time": "2021-08-31T14:42:47.251Z"
   },
   {
    "duration": 202,
    "start_time": "2021-08-31T14:42:47.584Z"
   },
   {
    "duration": 163,
    "start_time": "2021-08-31T15:13:02.027Z"
   },
   {
    "duration": 136,
    "start_time": "2021-08-31T15:13:06.861Z"
   },
   {
    "duration": 593,
    "start_time": "2021-08-31T15:14:19.806Z"
   },
   {
    "duration": 364,
    "start_time": "2021-08-31T15:17:38.384Z"
   },
   {
    "duration": 304,
    "start_time": "2021-08-31T15:17:52.252Z"
   },
   {
    "duration": 611,
    "start_time": "2021-08-31T15:18:11.783Z"
   },
   {
    "duration": 686,
    "start_time": "2021-08-31T15:18:22.301Z"
   },
   {
    "duration": 644,
    "start_time": "2021-08-31T15:18:38.339Z"
   },
   {
    "duration": 8592,
    "start_time": "2021-08-31T15:20:01.008Z"
   },
   {
    "duration": 8380,
    "start_time": "2021-08-31T15:20:34.896Z"
   },
   {
    "duration": 8435,
    "start_time": "2021-08-31T15:21:09.425Z"
   },
   {
    "duration": 8543,
    "start_time": "2021-08-31T15:21:33.989Z"
   },
   {
    "duration": 2895,
    "start_time": "2021-08-31T15:23:16.433Z"
   },
   {
    "duration": 1979,
    "start_time": "2021-08-31T15:23:27.111Z"
   },
   {
    "duration": 4,
    "start_time": "2021-08-31T15:23:29.093Z"
   },
   {
    "duration": 505,
    "start_time": "2021-08-31T15:23:29.099Z"
   },
   {
    "duration": 170,
    "start_time": "2021-08-31T15:23:29.607Z"
   },
   {
    "duration": 702,
    "start_time": "2021-08-31T15:23:29.783Z"
   },
   {
    "duration": 1467,
    "start_time": "2021-08-31T15:23:30.487Z"
   },
   {
    "duration": 33,
    "start_time": "2021-08-31T15:23:31.956Z"
   },
   {
    "duration": 290,
    "start_time": "2021-08-31T15:23:31.993Z"
   },
   {
    "duration": 513,
    "start_time": "2021-08-31T15:23:32.286Z"
   },
   {
    "duration": 420,
    "start_time": "2021-08-31T15:23:32.802Z"
   },
   {
    "duration": 28,
    "start_time": "2021-08-31T15:23:33.224Z"
   },
   {
    "duration": 3,
    "start_time": "2021-08-31T15:23:33.254Z"
   },
   {
    "duration": 3,
    "start_time": "2021-08-31T15:23:33.282Z"
   },
   {
    "duration": 32,
    "start_time": "2021-08-31T15:23:33.288Z"
   },
   {
    "duration": 14,
    "start_time": "2021-08-31T15:23:33.323Z"
   },
   {
    "duration": 61,
    "start_time": "2021-08-31T15:23:33.340Z"
   },
   {
    "duration": 19,
    "start_time": "2021-08-31T15:23:33.405Z"
   },
   {
    "duration": 2259,
    "start_time": "2021-08-31T15:23:33.428Z"
   },
   {
    "duration": 666,
    "start_time": "2021-08-31T15:23:35.690Z"
   },
   {
    "duration": 11,
    "start_time": "2021-08-31T15:23:36.359Z"
   },
   {
    "duration": 777,
    "start_time": "2021-08-31T15:23:36.373Z"
   },
   {
    "duration": 5,
    "start_time": "2021-08-31T15:23:37.154Z"
   },
   {
    "duration": 9,
    "start_time": "2021-08-31T15:23:37.165Z"
   },
   {
    "duration": 14,
    "start_time": "2021-08-31T15:23:37.177Z"
   },
   {
    "duration": 21,
    "start_time": "2021-08-31T15:23:37.193Z"
   },
   {
    "duration": 6,
    "start_time": "2021-08-31T15:23:37.217Z"
   },
   {
    "duration": 375,
    "start_time": "2021-08-31T15:23:37.226Z"
   },
   {
    "duration": 700,
    "start_time": "2021-08-31T15:23:37.603Z"
   },
   {
    "duration": 7134,
    "start_time": "2021-08-31T15:23:38.311Z"
   },
   {
    "duration": 4004,
    "start_time": "2021-08-31T15:23:45.448Z"
   },
   {
    "duration": 247,
    "start_time": "2021-08-31T15:24:22.343Z"
   },
   {
    "duration": 6157,
    "start_time": "2021-08-31T15:24:59.098Z"
   },
   {
    "duration": 1608,
    "start_time": "2021-08-31T15:25:07.404Z"
   },
   {
    "duration": 4,
    "start_time": "2021-08-31T15:25:09.015Z"
   },
   {
    "duration": 365,
    "start_time": "2021-08-31T15:25:09.022Z"
   },
   {
    "duration": 121,
    "start_time": "2021-08-31T15:25:09.389Z"
   },
   {
    "duration": 476,
    "start_time": "2021-08-31T15:25:09.512Z"
   },
   {
    "duration": 1780,
    "start_time": "2021-08-31T15:25:09.990Z"
   },
   {
    "duration": 32,
    "start_time": "2021-08-31T15:25:11.772Z"
   },
   {
    "duration": 222,
    "start_time": "2021-08-31T15:25:11.808Z"
   },
   {
    "duration": 214,
    "start_time": "2021-08-31T15:25:12.033Z"
   },
   {
    "duration": 288,
    "start_time": "2021-08-31T15:25:12.250Z"
   },
   {
    "duration": 48,
    "start_time": "2021-08-31T15:25:12.541Z"
   },
   {
    "duration": 4,
    "start_time": "2021-08-31T15:25:12.593Z"
   },
   {
    "duration": 7,
    "start_time": "2021-08-31T15:25:12.600Z"
   },
   {
    "duration": 24,
    "start_time": "2021-08-31T15:25:12.610Z"
   },
   {
    "duration": 48,
    "start_time": "2021-08-31T15:25:12.637Z"
   },
   {
    "duration": 32,
    "start_time": "2021-08-31T15:25:12.688Z"
   },
   {
    "duration": 20,
    "start_time": "2021-08-31T15:25:12.724Z"
   },
   {
    "duration": 1564,
    "start_time": "2021-08-31T15:25:12.747Z"
   },
   {
    "duration": 458,
    "start_time": "2021-08-31T15:25:14.315Z"
   },
   {
    "duration": 12,
    "start_time": "2021-08-31T15:25:14.776Z"
   },
   {
    "duration": 498,
    "start_time": "2021-08-31T15:25:14.791Z"
   },
   {
    "duration": 5,
    "start_time": "2021-08-31T15:25:15.292Z"
   },
   {
    "duration": 7,
    "start_time": "2021-08-31T15:25:15.301Z"
   },
   {
    "duration": 14,
    "start_time": "2021-08-31T15:25:15.311Z"
   },
   {
    "duration": 21,
    "start_time": "2021-08-31T15:25:15.327Z"
   },
   {
    "duration": 8,
    "start_time": "2021-08-31T15:25:15.382Z"
   },
   {
    "duration": 393,
    "start_time": "2021-08-31T15:25:15.392Z"
   },
   {
    "duration": 400,
    "start_time": "2021-08-31T15:25:15.789Z"
   },
   {
    "duration": 6075,
    "start_time": "2021-08-31T15:25:16.193Z"
   },
   {
    "duration": 1820,
    "start_time": "2021-08-31T15:25:22.271Z"
   },
   {
    "duration": 36599,
    "start_time": "2021-08-31T15:25:24.094Z"
   },
   {
    "duration": 36161,
    "start_time": "2021-08-31T15:26:41.391Z"
   },
   {
    "duration": 4,
    "start_time": "2021-08-31T15:27:17.555Z"
   },
   {
    "duration": 36151,
    "start_time": "2021-08-31T15:27:38.422Z"
   },
   {
    "duration": 4,
    "start_time": "2021-08-31T15:29:59.769Z"
   },
   {
    "duration": 118,
    "start_time": "2021-08-31T15:30:39.755Z"
   },
   {
    "duration": 18,
    "start_time": "2021-08-31T15:33:26.569Z"
   },
   {
    "duration": 18,
    "start_time": "2021-08-31T15:33:31.542Z"
   },
   {
    "duration": 117,
    "start_time": "2021-08-31T15:34:59.242Z"
   },
   {
    "duration": 1489,
    "start_time": "2021-08-31T15:35:35.404Z"
   },
   {
    "duration": 433,
    "start_time": "2021-08-31T15:35:58.673Z"
   },
   {
    "duration": 577,
    "start_time": "2021-08-31T15:37:19.015Z"
   },
   {
    "duration": 3,
    "start_time": "2021-08-31T15:40:05.826Z"
   },
   {
    "duration": 1572,
    "start_time": "2021-08-31T21:48:58.160Z"
   },
   {
    "duration": 3,
    "start_time": "2021-08-31T21:48:59.735Z"
   },
   {
    "duration": 392,
    "start_time": "2021-08-31T21:48:59.741Z"
   },
   {
    "duration": 125,
    "start_time": "2021-08-31T21:49:00.136Z"
   },
   {
    "duration": 493,
    "start_time": "2021-08-31T21:49:00.264Z"
   },
   {
    "duration": 1410,
    "start_time": "2021-08-31T21:49:00.761Z"
   },
   {
    "duration": 22,
    "start_time": "2021-08-31T21:49:02.173Z"
   },
   {
    "duration": 223,
    "start_time": "2021-08-31T21:49:02.198Z"
   },
   {
    "duration": 173,
    "start_time": "2021-08-31T21:49:02.424Z"
   },
   {
    "duration": 262,
    "start_time": "2021-08-31T21:49:02.600Z"
   },
   {
    "duration": 3,
    "start_time": "2021-08-31T21:49:02.864Z"
   },
   {
    "duration": 16,
    "start_time": "2021-08-31T21:49:02.869Z"
   },
   {
    "duration": 24,
    "start_time": "2021-08-31T21:49:02.887Z"
   },
   {
    "duration": 45,
    "start_time": "2021-08-31T21:49:02.913Z"
   },
   {
    "duration": 28,
    "start_time": "2021-08-31T21:49:02.960Z"
   },
   {
    "duration": 26,
    "start_time": "2021-08-31T21:49:02.991Z"
   },
   {
    "duration": 13,
    "start_time": "2021-08-31T21:49:03.020Z"
   },
   {
    "duration": 1482,
    "start_time": "2021-08-31T21:49:03.036Z"
   },
   {
    "duration": 444,
    "start_time": "2021-08-31T21:49:04.521Z"
   },
   {
    "duration": 7,
    "start_time": "2021-08-31T21:49:04.967Z"
   },
   {
    "duration": 533,
    "start_time": "2021-08-31T21:49:04.976Z"
   },
   {
    "duration": 4,
    "start_time": "2021-08-31T21:49:05.511Z"
   },
   {
    "duration": 37,
    "start_time": "2021-08-31T21:49:05.520Z"
   },
   {
    "duration": 25,
    "start_time": "2021-08-31T21:49:05.560Z"
   },
   {
    "duration": 43,
    "start_time": "2021-08-31T21:49:05.587Z"
   },
   {
    "duration": 15,
    "start_time": "2021-08-31T21:49:05.632Z"
   },
   {
    "duration": 219,
    "start_time": "2021-08-31T21:49:05.649Z"
   },
   {
    "duration": 294,
    "start_time": "2021-08-31T21:49:05.871Z"
   },
   {
    "duration": 5843,
    "start_time": "2021-08-31T21:49:06.169Z"
   },
   {
    "duration": 1552,
    "start_time": "2021-08-31T21:49:12.014Z"
   },
   {
    "duration": 34366,
    "start_time": "2021-08-31T21:49:13.569Z"
   },
   {
    "duration": 5,
    "start_time": "2021-08-31T21:49:47.937Z"
   },
   {
    "duration": 1725,
    "start_time": "2021-09-01T08:07:11.112Z"
   },
   {
    "duration": 4,
    "start_time": "2021-09-01T08:07:12.840Z"
   },
   {
    "duration": 388,
    "start_time": "2021-09-01T08:07:12.848Z"
   },
   {
    "duration": 123,
    "start_time": "2021-09-01T08:07:13.239Z"
   },
   {
    "duration": 461,
    "start_time": "2021-09-01T08:07:13.364Z"
   },
   {
    "duration": 1322,
    "start_time": "2021-09-01T08:07:13.828Z"
   },
   {
    "duration": 24,
    "start_time": "2021-09-01T08:07:15.153Z"
   },
   {
    "duration": 59,
    "start_time": "2021-09-01T08:07:15.181Z"
   },
   {
    "duration": 203,
    "start_time": "2021-09-01T08:07:15.263Z"
   },
   {
    "duration": 305,
    "start_time": "2021-09-01T08:07:15.469Z"
   },
   {
    "duration": 3,
    "start_time": "2021-09-01T08:07:15.776Z"
   },
   {
    "duration": 16,
    "start_time": "2021-09-01T08:07:15.782Z"
   },
   {
    "duration": 21,
    "start_time": "2021-09-01T08:07:15.800Z"
   },
   {
    "duration": 27,
    "start_time": "2021-09-01T08:07:15.823Z"
   },
   {
    "duration": 15,
    "start_time": "2021-09-01T08:07:15.853Z"
   },
   {
    "duration": 22,
    "start_time": "2021-09-01T08:07:15.870Z"
   },
   {
    "duration": 16,
    "start_time": "2021-09-01T08:07:15.894Z"
   },
   {
    "duration": 3687,
    "start_time": "2021-09-01T08:07:15.913Z"
   },
   {
    "duration": 700,
    "start_time": "2021-09-01T08:07:19.602Z"
   },
   {
    "duration": 8,
    "start_time": "2021-09-01T08:07:20.304Z"
   },
   {
    "duration": 1453,
    "start_time": "2021-09-01T08:07:20.314Z"
   },
   {
    "duration": 5,
    "start_time": "2021-09-01T08:07:21.769Z"
   },
   {
    "duration": 12,
    "start_time": "2021-09-01T08:07:21.779Z"
   },
   {
    "duration": 13,
    "start_time": "2021-09-01T08:07:21.794Z"
   },
   {
    "duration": 41,
    "start_time": "2021-09-01T08:07:21.810Z"
   },
   {
    "duration": 12,
    "start_time": "2021-09-01T08:07:21.854Z"
   },
   {
    "duration": 195,
    "start_time": "2021-09-01T08:07:21.868Z"
   },
   {
    "duration": 303,
    "start_time": "2021-09-01T08:07:22.067Z"
   },
   {
    "duration": 6024,
    "start_time": "2021-09-01T08:07:22.373Z"
   },
   {
    "duration": 1564,
    "start_time": "2021-09-01T08:07:28.400Z"
   },
   {
    "duration": 34553,
    "start_time": "2021-09-01T08:07:29.966Z"
   },
   {
    "duration": 5,
    "start_time": "2021-09-01T08:08:04.521Z"
   },
   {
    "duration": 1740,
    "start_time": "2021-09-01T09:46:37.665Z"
   },
   {
    "duration": 3,
    "start_time": "2021-09-01T09:46:39.408Z"
   },
   {
    "duration": 381,
    "start_time": "2021-09-01T09:46:39.417Z"
   },
   {
    "duration": 119,
    "start_time": "2021-09-01T09:46:39.800Z"
   },
   {
    "duration": 472,
    "start_time": "2021-09-01T09:46:39.921Z"
   },
   {
    "duration": 1402,
    "start_time": "2021-09-01T09:46:40.395Z"
   },
   {
    "duration": 23,
    "start_time": "2021-09-01T09:46:41.800Z"
   },
   {
    "duration": 98,
    "start_time": "2021-09-01T09:46:41.829Z"
   },
   {
    "duration": 218,
    "start_time": "2021-09-01T09:46:41.930Z"
   },
   {
    "duration": 302,
    "start_time": "2021-09-01T09:46:42.161Z"
   },
   {
    "duration": 7,
    "start_time": "2021-09-01T09:46:42.467Z"
   },
   {
    "duration": 22,
    "start_time": "2021-09-01T09:46:42.477Z"
   },
   {
    "duration": 28,
    "start_time": "2021-09-01T09:46:42.502Z"
   },
   {
    "duration": 49,
    "start_time": "2021-09-01T09:46:42.532Z"
   },
   {
    "duration": 12,
    "start_time": "2021-09-01T09:46:42.584Z"
   },
   {
    "duration": 30,
    "start_time": "2021-09-01T09:46:42.598Z"
   },
   {
    "duration": 26,
    "start_time": "2021-09-01T09:46:42.630Z"
   },
   {
    "duration": 3933,
    "start_time": "2021-09-01T09:46:42.658Z"
   },
   {
    "duration": 712,
    "start_time": "2021-09-01T09:46:46.593Z"
   },
   {
    "duration": 7,
    "start_time": "2021-09-01T09:46:47.307Z"
   },
   {
    "duration": 1221,
    "start_time": "2021-09-01T09:46:47.317Z"
   },
   {
    "duration": 4,
    "start_time": "2021-09-01T09:46:48.540Z"
   },
   {
    "duration": 17,
    "start_time": "2021-09-01T09:46:48.547Z"
   },
   {
    "duration": 18,
    "start_time": "2021-09-01T09:46:48.570Z"
   },
   {
    "duration": 25,
    "start_time": "2021-09-01T09:46:48.591Z"
   },
   {
    "duration": 7,
    "start_time": "2021-09-01T09:46:48.621Z"
   },
   {
    "duration": 449,
    "start_time": "2021-09-01T09:46:48.630Z"
   },
   {
    "duration": 496,
    "start_time": "2021-09-01T09:46:49.083Z"
   },
   {
    "duration": 5881,
    "start_time": "2021-09-01T09:46:49.581Z"
   },
   {
    "duration": 1803,
    "start_time": "2021-09-01T09:46:55.466Z"
   },
   {
    "duration": 36094,
    "start_time": "2021-09-01T09:46:57.273Z"
   },
   {
    "duration": 6,
    "start_time": "2021-09-01T09:47:33.370Z"
   },
   {
    "duration": 1678,
    "start_time": "2021-09-01T10:09:18.634Z"
   },
   {
    "duration": 4,
    "start_time": "2021-09-01T10:09:20.315Z"
   },
   {
    "duration": 381,
    "start_time": "2021-09-01T10:09:20.323Z"
   },
   {
    "duration": 121,
    "start_time": "2021-09-01T10:09:20.707Z"
   },
   {
    "duration": 508,
    "start_time": "2021-09-01T10:09:20.830Z"
   },
   {
    "duration": 1348,
    "start_time": "2021-09-01T10:09:21.341Z"
   },
   {
    "duration": 19,
    "start_time": "2021-09-01T10:09:22.691Z"
   },
   {
    "duration": 89,
    "start_time": "2021-09-01T10:09:22.715Z"
   },
   {
    "duration": 215,
    "start_time": "2021-09-01T10:09:22.807Z"
   },
   {
    "duration": 311,
    "start_time": "2021-09-01T10:09:23.025Z"
   },
   {
    "duration": 3,
    "start_time": "2021-09-01T10:09:23.338Z"
   },
   {
    "duration": 18,
    "start_time": "2021-09-01T10:09:23.343Z"
   },
   {
    "duration": 9,
    "start_time": "2021-09-01T10:09:23.364Z"
   },
   {
    "duration": 26,
    "start_time": "2021-09-01T10:09:23.377Z"
   },
   {
    "duration": 11,
    "start_time": "2021-09-01T10:09:23.406Z"
   },
   {
    "duration": 43,
    "start_time": "2021-09-01T10:09:23.419Z"
   },
   {
    "duration": 18,
    "start_time": "2021-09-01T10:09:23.467Z"
   },
   {
    "duration": 3477,
    "start_time": "2021-09-01T10:09:23.488Z"
   },
   {
    "duration": 763,
    "start_time": "2021-09-01T10:09:26.968Z"
   },
   {
    "duration": 7,
    "start_time": "2021-09-01T10:09:27.734Z"
   },
   {
    "duration": 1507,
    "start_time": "2021-09-01T10:09:27.744Z"
   },
   {
    "duration": 12,
    "start_time": "2021-09-01T10:09:29.253Z"
   },
   {
    "duration": 5,
    "start_time": "2021-09-01T10:09:29.272Z"
   },
   {
    "duration": 16,
    "start_time": "2021-09-01T10:09:29.280Z"
   },
   {
    "duration": 22,
    "start_time": "2021-09-01T10:09:29.298Z"
   },
   {
    "duration": 6,
    "start_time": "2021-09-01T10:09:29.322Z"
   },
   {
    "duration": 332,
    "start_time": "2021-09-01T10:09:29.331Z"
   },
   {
    "duration": 210,
    "start_time": "2021-09-01T10:09:29.667Z"
   },
   {
    "duration": 6039,
    "start_time": "2021-09-01T10:09:29.962Z"
   },
   {
    "duration": 1985,
    "start_time": "2021-09-01T10:09:36.003Z"
   },
   {
    "duration": 35735,
    "start_time": "2021-09-01T10:09:38.062Z"
   },
   {
    "duration": 4,
    "start_time": "2021-09-01T10:10:13.799Z"
   },
   {
    "duration": 344,
    "start_time": "2021-09-01T11:48:20.016Z"
   },
   {
    "duration": 1519,
    "start_time": "2021-09-01T11:48:28.587Z"
   },
   {
    "duration": 4,
    "start_time": "2021-09-01T11:48:30.111Z"
   },
   {
    "duration": 374,
    "start_time": "2021-09-01T11:48:30.117Z"
   },
   {
    "duration": 121,
    "start_time": "2021-09-01T11:48:30.494Z"
   },
   {
    "duration": 462,
    "start_time": "2021-09-01T11:48:30.617Z"
   },
   {
    "duration": 1425,
    "start_time": "2021-09-01T11:48:31.081Z"
   },
   {
    "duration": 20,
    "start_time": "2021-09-01T11:48:32.510Z"
   },
   {
    "duration": 198,
    "start_time": "2021-09-01T11:48:32.533Z"
   },
   {
    "duration": 183,
    "start_time": "2021-09-01T11:48:32.734Z"
   },
   {
    "duration": 259,
    "start_time": "2021-09-01T11:48:32.920Z"
   },
   {
    "duration": 3,
    "start_time": "2021-09-01T11:48:33.182Z"
   },
   {
    "duration": 10,
    "start_time": "2021-09-01T11:48:33.187Z"
   },
   {
    "duration": 34,
    "start_time": "2021-09-01T11:48:33.199Z"
   },
   {
    "duration": 37,
    "start_time": "2021-09-01T11:48:33.235Z"
   },
   {
    "duration": 19,
    "start_time": "2021-09-01T11:48:33.275Z"
   },
   {
    "duration": 39,
    "start_time": "2021-09-01T11:48:33.296Z"
   },
   {
    "duration": 22,
    "start_time": "2021-09-01T11:48:33.338Z"
   },
   {
    "duration": 1476,
    "start_time": "2021-09-01T11:48:33.362Z"
   },
   {
    "duration": 441,
    "start_time": "2021-09-01T11:48:34.841Z"
   },
   {
    "duration": 9,
    "start_time": "2021-09-01T11:48:35.284Z"
   },
   {
    "duration": 485,
    "start_time": "2021-09-01T11:48:35.295Z"
   },
   {
    "duration": 5,
    "start_time": "2021-09-01T11:48:35.784Z"
   },
   {
    "duration": 6,
    "start_time": "2021-09-01T11:48:35.792Z"
   },
   {
    "duration": 15,
    "start_time": "2021-09-01T11:48:35.801Z"
   },
   {
    "duration": 49,
    "start_time": "2021-09-01T11:48:35.819Z"
   },
   {
    "duration": 7,
    "start_time": "2021-09-01T11:48:35.870Z"
   },
   {
    "duration": 275,
    "start_time": "2021-09-01T11:48:35.879Z"
   },
   {
    "duration": 205,
    "start_time": "2021-09-01T11:48:36.158Z"
   },
   {
    "duration": 6396,
    "start_time": "2021-09-01T11:48:36.366Z"
   },
   {
    "duration": 1488,
    "start_time": "2021-09-01T11:48:42.765Z"
   },
   {
    "duration": 34521,
    "start_time": "2021-09-01T11:48:44.257Z"
   },
   {
    "duration": 4,
    "start_time": "2021-09-01T11:49:18.781Z"
   },
   {
    "duration": 3,
    "start_time": "2021-09-01T11:56:28.071Z"
   },
   {
    "duration": 425,
    "start_time": "2021-09-01T12:07:25.272Z"
   },
   {
    "duration": 969,
    "start_time": "2021-09-01T12:07:58.124Z"
   },
   {
    "duration": 422,
    "start_time": "2021-09-01T12:08:16.543Z"
   },
   {
    "duration": 388,
    "start_time": "2021-09-01T12:09:16.569Z"
   },
   {
    "duration": 977,
    "start_time": "2021-09-01T12:09:41.213Z"
   },
   {
    "duration": 1565,
    "start_time": "2021-09-01T12:09:57.841Z"
   },
   {
    "duration": 3,
    "start_time": "2021-09-01T12:09:59.409Z"
   },
   {
    "duration": 369,
    "start_time": "2021-09-01T12:09:59.416Z"
   },
   {
    "duration": 130,
    "start_time": "2021-09-01T12:09:59.788Z"
   },
   {
    "duration": 457,
    "start_time": "2021-09-01T12:09:59.920Z"
   },
   {
    "duration": 1422,
    "start_time": "2021-09-01T12:10:00.379Z"
   },
   {
    "duration": 20,
    "start_time": "2021-09-01T12:10:01.803Z"
   },
   {
    "duration": 249,
    "start_time": "2021-09-01T12:10:01.826Z"
   },
   {
    "duration": 177,
    "start_time": "2021-09-01T12:10:02.078Z"
   },
   {
    "duration": 264,
    "start_time": "2021-09-01T12:10:02.258Z"
   },
   {
    "duration": 4,
    "start_time": "2021-09-01T12:10:02.525Z"
   },
   {
    "duration": 23,
    "start_time": "2021-09-01T12:10:02.531Z"
   },
   {
    "duration": 8,
    "start_time": "2021-09-01T12:10:02.556Z"
   },
   {
    "duration": 33,
    "start_time": "2021-09-01T12:10:02.567Z"
   },
   {
    "duration": 10,
    "start_time": "2021-09-01T12:10:02.602Z"
   },
   {
    "duration": 43,
    "start_time": "2021-09-01T12:10:02.615Z"
   },
   {
    "duration": 16,
    "start_time": "2021-09-01T12:10:02.661Z"
   },
   {
    "duration": 3045,
    "start_time": "2021-09-01T12:10:02.679Z"
   },
   {
    "duration": 438,
    "start_time": "2021-09-01T12:10:05.727Z"
   },
   {
    "duration": 992,
    "start_time": "2021-09-01T12:10:06.168Z"
   },
   {
    "duration": 526,
    "start_time": "2021-09-01T12:10:06.637Z"
   },
   {
    "duration": 523,
    "start_time": "2021-09-01T12:10:06.642Z"
   },
   {
    "duration": 519,
    "start_time": "2021-09-01T12:10:06.648Z"
   },
   {
    "duration": 516,
    "start_time": "2021-09-01T12:10:06.653Z"
   },
   {
    "duration": 511,
    "start_time": "2021-09-01T12:10:06.660Z"
   },
   {
    "duration": 510,
    "start_time": "2021-09-01T12:10:06.664Z"
   },
   {
    "duration": 506,
    "start_time": "2021-09-01T12:10:06.670Z"
   },
   {
    "duration": 502,
    "start_time": "2021-09-01T12:10:06.676Z"
   },
   {
    "duration": 498,
    "start_time": "2021-09-01T12:10:06.682Z"
   },
   {
    "duration": 492,
    "start_time": "2021-09-01T12:10:06.690Z"
   },
   {
    "duration": 487,
    "start_time": "2021-09-01T12:10:06.697Z"
   },
   {
    "duration": 484,
    "start_time": "2021-09-01T12:10:06.702Z"
   },
   {
    "duration": 480,
    "start_time": "2021-09-01T12:10:06.708Z"
   },
   {
    "duration": 477,
    "start_time": "2021-09-01T12:10:06.713Z"
   },
   {
    "duration": 7,
    "start_time": "2021-09-01T12:11:55.335Z"
   },
   {
    "duration": 6,
    "start_time": "2021-09-01T12:14:24.781Z"
   },
   {
    "duration": 11,
    "start_time": "2021-09-01T12:15:12.132Z"
   },
   {
    "duration": 7,
    "start_time": "2021-09-01T12:15:33.467Z"
   },
   {
    "duration": 563,
    "start_time": "2021-09-01T12:16:23.479Z"
   },
   {
    "duration": 429,
    "start_time": "2021-09-01T12:16:36.069Z"
   },
   {
    "duration": 4,
    "start_time": "2021-09-01T12:16:40.999Z"
   },
   {
    "duration": 6,
    "start_time": "2021-09-01T12:17:01.096Z"
   },
   {
    "duration": 7,
    "start_time": "2021-09-01T12:17:38.829Z"
   },
   {
    "duration": 804,
    "start_time": "2021-09-01T12:18:02.874Z"
   },
   {
    "duration": 1478,
    "start_time": "2021-09-01T12:18:12.203Z"
   },
   {
    "duration": 3,
    "start_time": "2021-09-01T12:18:13.684Z"
   },
   {
    "duration": 376,
    "start_time": "2021-09-01T12:18:13.690Z"
   },
   {
    "duration": 116,
    "start_time": "2021-09-01T12:18:14.068Z"
   },
   {
    "duration": 442,
    "start_time": "2021-09-01T12:18:14.187Z"
   },
   {
    "duration": 1533,
    "start_time": "2021-09-01T12:18:14.632Z"
   },
   {
    "duration": 36,
    "start_time": "2021-09-01T12:18:16.168Z"
   },
   {
    "duration": 368,
    "start_time": "2021-09-01T12:18:16.210Z"
   },
   {
    "duration": 310,
    "start_time": "2021-09-01T12:18:16.582Z"
   },
   {
    "duration": 266,
    "start_time": "2021-09-01T12:18:16.895Z"
   },
   {
    "duration": 4,
    "start_time": "2021-09-01T12:18:17.164Z"
   },
   {
    "duration": 13,
    "start_time": "2021-09-01T12:18:17.171Z"
   },
   {
    "duration": 28,
    "start_time": "2021-09-01T12:18:17.187Z"
   },
   {
    "duration": 46,
    "start_time": "2021-09-01T12:18:17.217Z"
   },
   {
    "duration": 14,
    "start_time": "2021-09-01T12:18:17.265Z"
   },
   {
    "duration": 27,
    "start_time": "2021-09-01T12:18:17.281Z"
   },
   {
    "duration": 47,
    "start_time": "2021-09-01T12:18:17.311Z"
   },
   {
    "duration": 1564,
    "start_time": "2021-09-01T12:18:17.360Z"
   },
   {
    "duration": 472,
    "start_time": "2021-09-01T12:18:18.926Z"
   },
   {
    "duration": 7,
    "start_time": "2021-09-01T12:18:19.401Z"
   },
   {
    "duration": 1018,
    "start_time": "2021-09-01T12:18:19.411Z"
   },
   {
    "duration": 509,
    "start_time": "2021-09-01T12:18:19.923Z"
   },
   {
    "duration": 503,
    "start_time": "2021-09-01T12:18:19.931Z"
   },
   {
    "duration": 497,
    "start_time": "2021-09-01T12:18:19.938Z"
   },
   {
    "duration": 493,
    "start_time": "2021-09-01T12:18:19.943Z"
   },
   {
    "duration": 489,
    "start_time": "2021-09-01T12:18:19.949Z"
   },
   {
    "duration": 490,
    "start_time": "2021-09-01T12:18:19.964Z"
   },
   {
    "duration": 484,
    "start_time": "2021-09-01T12:18:19.971Z"
   },
   {
    "duration": 481,
    "start_time": "2021-09-01T12:18:19.976Z"
   },
   {
    "duration": 476,
    "start_time": "2021-09-01T12:18:19.982Z"
   },
   {
    "duration": 470,
    "start_time": "2021-09-01T12:18:19.989Z"
   },
   {
    "duration": 464,
    "start_time": "2021-09-01T12:18:19.996Z"
   },
   {
    "duration": 460,
    "start_time": "2021-09-01T12:18:20.001Z"
   },
   {
    "duration": 455,
    "start_time": "2021-09-01T12:18:20.008Z"
   },
   {
    "duration": 8,
    "start_time": "2021-09-01T12:19:03.902Z"
   },
   {
    "duration": 1556,
    "start_time": "2021-09-01T12:24:08.472Z"
   },
   {
    "duration": 4,
    "start_time": "2021-09-01T12:24:10.030Z"
   },
   {
    "duration": 362,
    "start_time": "2021-09-01T12:24:10.038Z"
   },
   {
    "duration": 124,
    "start_time": "2021-09-01T12:24:10.403Z"
   },
   {
    "duration": 450,
    "start_time": "2021-09-01T12:24:10.529Z"
   },
   {
    "duration": 1502,
    "start_time": "2021-09-01T12:24:10.981Z"
   },
   {
    "duration": 21,
    "start_time": "2021-09-01T12:24:12.485Z"
   },
   {
    "duration": 206,
    "start_time": "2021-09-01T12:24:12.509Z"
   },
   {
    "duration": 173,
    "start_time": "2021-09-01T12:24:12.719Z"
   },
   {
    "duration": 259,
    "start_time": "2021-09-01T12:24:12.895Z"
   },
   {
    "duration": 3,
    "start_time": "2021-09-01T12:24:13.157Z"
   },
   {
    "duration": 9,
    "start_time": "2021-09-01T12:24:13.162Z"
   },
   {
    "duration": 6,
    "start_time": "2021-09-01T12:24:13.174Z"
   },
   {
    "duration": 28,
    "start_time": "2021-09-01T12:24:13.182Z"
   },
   {
    "duration": 10,
    "start_time": "2021-09-01T12:24:13.213Z"
   },
   {
    "duration": 26,
    "start_time": "2021-09-01T12:24:13.254Z"
   },
   {
    "duration": 15,
    "start_time": "2021-09-01T12:24:13.283Z"
   },
   {
    "duration": 1500,
    "start_time": "2021-09-01T12:24:13.300Z"
   },
   {
    "duration": 454,
    "start_time": "2021-09-01T12:24:14.803Z"
   },
   {
    "duration": 7,
    "start_time": "2021-09-01T12:24:15.260Z"
   },
   {
    "duration": 32,
    "start_time": "2021-09-01T12:24:15.270Z"
   },
   {
    "duration": 473,
    "start_time": "2021-09-01T12:24:15.305Z"
   },
   {
    "duration": 4,
    "start_time": "2021-09-01T12:24:15.784Z"
   },
   {
    "duration": 27,
    "start_time": "2021-09-01T12:24:15.791Z"
   },
   {
    "duration": 30,
    "start_time": "2021-09-01T12:24:15.821Z"
   },
   {
    "duration": 72,
    "start_time": "2021-09-01T12:24:15.854Z"
   },
   {
    "duration": 30,
    "start_time": "2021-09-01T12:24:15.928Z"
   },
   {
    "duration": 295,
    "start_time": "2021-09-01T12:24:15.961Z"
   },
   {
    "duration": 302,
    "start_time": "2021-09-01T12:24:16.258Z"
   },
   {
    "duration": 5949,
    "start_time": "2021-09-01T12:24:16.563Z"
   },
   {
    "duration": 1342,
    "start_time": "2021-09-01T12:24:22.515Z"
   },
   {
    "duration": 34219,
    "start_time": "2021-09-01T12:24:23.860Z"
   },
   {
    "duration": 6,
    "start_time": "2021-09-01T12:24:58.081Z"
   },
   {
    "duration": 7,
    "start_time": "2021-09-01T13:13:45.089Z"
   },
   {
    "duration": 231,
    "start_time": "2021-09-01T13:16:03.128Z"
   },
   {
    "duration": 329,
    "start_time": "2021-09-01T13:16:39.357Z"
   },
   {
    "duration": 161,
    "start_time": "2021-09-01T13:17:03.590Z"
   },
   {
    "duration": 348,
    "start_time": "2021-09-01T13:17:20.113Z"
   },
   {
    "duration": 182,
    "start_time": "2021-09-01T13:20:13.881Z"
   },
   {
    "duration": 74,
    "start_time": "2021-09-01T13:20:33.389Z"
   },
   {
    "duration": 117,
    "start_time": "2021-09-01T13:20:42.437Z"
   },
   {
    "duration": 6363,
    "start_time": "2021-09-01T13:23:25.559Z"
   },
   {
    "duration": 6422,
    "start_time": "2021-09-01T13:24:03.743Z"
   },
   {
    "duration": 165,
    "start_time": "2021-09-01T13:24:13.449Z"
   },
   {
    "duration": 2231,
    "start_time": "2021-09-01T13:24:24.330Z"
   },
   {
    "duration": 1946,
    "start_time": "2021-09-01T13:25:19.612Z"
   },
   {
    "duration": 37586,
    "start_time": "2021-09-01T13:25:23.281Z"
   },
   {
    "duration": 39241,
    "start_time": "2021-09-01T13:26:16.631Z"
   },
   {
    "duration": 1838,
    "start_time": "2021-09-01T13:29:05.755Z"
   },
   {
    "duration": 4,
    "start_time": "2021-09-01T13:29:07.595Z"
   },
   {
    "duration": 420,
    "start_time": "2021-09-01T13:29:07.602Z"
   },
   {
    "duration": 146,
    "start_time": "2021-09-01T13:29:08.024Z"
   },
   {
    "duration": 530,
    "start_time": "2021-09-01T13:29:08.173Z"
   },
   {
    "duration": 1792,
    "start_time": "2021-09-01T13:29:08.705Z"
   },
   {
    "duration": 54,
    "start_time": "2021-09-01T13:29:10.500Z"
   },
   {
    "duration": 322,
    "start_time": "2021-09-01T13:29:10.558Z"
   },
   {
    "duration": 238,
    "start_time": "2021-09-01T13:29:10.884Z"
   },
   {
    "duration": 312,
    "start_time": "2021-09-01T13:29:11.124Z"
   },
   {
    "duration": 3,
    "start_time": "2021-09-01T13:29:11.439Z"
   },
   {
    "duration": 17,
    "start_time": "2021-09-01T13:29:11.444Z"
   },
   {
    "duration": 8,
    "start_time": "2021-09-01T13:29:11.465Z"
   },
   {
    "duration": 42,
    "start_time": "2021-09-01T13:29:11.475Z"
   },
   {
    "duration": 12,
    "start_time": "2021-09-01T13:29:11.519Z"
   },
   {
    "duration": 46,
    "start_time": "2021-09-01T13:29:11.534Z"
   },
   {
    "duration": 18,
    "start_time": "2021-09-01T13:29:11.583Z"
   },
   {
    "duration": 1676,
    "start_time": "2021-09-01T13:29:11.604Z"
   },
   {
    "duration": 484,
    "start_time": "2021-09-01T13:29:13.282Z"
   },
   {
    "duration": 9,
    "start_time": "2021-09-01T13:29:13.769Z"
   },
   {
    "duration": 15,
    "start_time": "2021-09-01T13:29:13.781Z"
   },
   {
    "duration": 543,
    "start_time": "2021-09-01T13:29:13.799Z"
   },
   {
    "duration": 8,
    "start_time": "2021-09-01T13:29:14.347Z"
   },
   {
    "duration": 35,
    "start_time": "2021-09-01T13:29:14.358Z"
   },
   {
    "duration": 27,
    "start_time": "2021-09-01T13:29:14.395Z"
   },
   {
    "duration": 54,
    "start_time": "2021-09-01T13:29:14.424Z"
   },
   {
    "duration": 8,
    "start_time": "2021-09-01T13:29:14.481Z"
   },
   {
    "duration": 372,
    "start_time": "2021-09-01T13:29:14.492Z"
   },
   {
    "duration": 304,
    "start_time": "2021-09-01T13:29:14.867Z"
   },
   {
    "duration": 6346,
    "start_time": "2021-09-01T13:29:15.257Z"
   },
   {
    "duration": 1759,
    "start_time": "2021-09-01T13:29:21.605Z"
   },
   {
    "duration": 38430,
    "start_time": "2021-09-01T13:29:23.372Z"
   },
   {
    "duration": 5,
    "start_time": "2021-09-01T13:30:01.804Z"
   },
   {
    "duration": 1702,
    "start_time": "2021-09-01T13:30:34.118Z"
   },
   {
    "duration": 4,
    "start_time": "2021-09-01T13:30:35.822Z"
   },
   {
    "duration": 422,
    "start_time": "2021-09-01T13:30:35.830Z"
   },
   {
    "duration": 135,
    "start_time": "2021-09-01T13:30:36.255Z"
   },
   {
    "duration": 527,
    "start_time": "2021-09-01T13:30:36.393Z"
   },
   {
    "duration": 1569,
    "start_time": "2021-09-01T13:30:36.923Z"
   },
   {
    "duration": 25,
    "start_time": "2021-09-01T13:30:38.495Z"
   },
   {
    "duration": 242,
    "start_time": "2021-09-01T13:30:38.525Z"
   },
   {
    "duration": 198,
    "start_time": "2021-09-01T13:30:38.771Z"
   },
   {
    "duration": 296,
    "start_time": "2021-09-01T13:30:38.972Z"
   },
   {
    "duration": 4,
    "start_time": "2021-09-01T13:30:39.270Z"
   },
   {
    "duration": 12,
    "start_time": "2021-09-01T13:30:39.277Z"
   },
   {
    "duration": 9,
    "start_time": "2021-09-01T13:30:39.292Z"
   },
   {
    "duration": 51,
    "start_time": "2021-09-01T13:30:39.303Z"
   },
   {
    "duration": 17,
    "start_time": "2021-09-01T13:30:39.357Z"
   },
   {
    "duration": 38,
    "start_time": "2021-09-01T13:30:39.377Z"
   },
   {
    "duration": 41,
    "start_time": "2021-09-01T13:30:39.419Z"
   },
   {
    "duration": 1688,
    "start_time": "2021-09-01T13:30:39.467Z"
   },
   {
    "duration": 467,
    "start_time": "2021-09-01T13:30:41.157Z"
   },
   {
    "duration": 7,
    "start_time": "2021-09-01T13:30:41.626Z"
   },
   {
    "duration": 14,
    "start_time": "2021-09-01T13:30:41.655Z"
   },
   {
    "duration": 568,
    "start_time": "2021-09-01T13:30:41.673Z"
   },
   {
    "duration": 8,
    "start_time": "2021-09-01T13:30:42.248Z"
   },
   {
    "duration": 9,
    "start_time": "2021-09-01T13:30:42.260Z"
   },
   {
    "duration": 32,
    "start_time": "2021-09-01T13:30:42.271Z"
   },
   {
    "duration": 24,
    "start_time": "2021-09-01T13:30:42.306Z"
   },
   {
    "duration": 7,
    "start_time": "2021-09-01T13:30:42.332Z"
   },
   {
    "duration": 313,
    "start_time": "2021-09-01T13:30:42.341Z"
   },
   {
    "duration": 609,
    "start_time": "2021-09-01T13:30:42.658Z"
   },
   {
    "duration": 6356,
    "start_time": "2021-09-01T13:30:43.269Z"
   },
   {
    "duration": 2428,
    "start_time": "2021-09-01T13:30:49.627Z"
   },
   {
    "duration": 36609,
    "start_time": "2021-09-01T13:30:52.060Z"
   },
   {
    "duration": 5,
    "start_time": "2021-09-01T13:31:28.671Z"
   },
   {
    "duration": 6197,
    "start_time": "2021-09-01T13:45:00.670Z"
   },
   {
    "duration": 37323,
    "start_time": "2021-09-01T13:45:12.964Z"
   },
   {
    "duration": 37074,
    "start_time": "2021-09-01T13:46:07.884Z"
   },
   {
    "duration": 7,
    "start_time": "2021-09-01T14:03:58.900Z"
   },
   {
    "duration": 7,
    "start_time": "2021-09-01T14:04:15.051Z"
   },
   {
    "duration": 554,
    "start_time": "2021-09-01T14:05:24.115Z"
   },
   {
    "duration": 386,
    "start_time": "2021-09-01T14:05:32.025Z"
   },
   {
    "duration": 411,
    "start_time": "2021-09-01T14:05:42.798Z"
   },
   {
    "duration": 684,
    "start_time": "2021-09-01T14:06:22.166Z"
   },
   {
    "duration": 1550,
    "start_time": "2021-09-01T14:06:29.858Z"
   },
   {
    "duration": 5,
    "start_time": "2021-09-01T14:06:31.411Z"
   },
   {
    "duration": 374,
    "start_time": "2021-09-01T14:06:31.420Z"
   },
   {
    "duration": 127,
    "start_time": "2021-09-01T14:06:31.798Z"
   },
   {
    "duration": 468,
    "start_time": "2021-09-01T14:06:31.928Z"
   },
   {
    "duration": 1427,
    "start_time": "2021-09-01T14:06:32.400Z"
   },
   {
    "duration": 31,
    "start_time": "2021-09-01T14:06:33.829Z"
   },
   {
    "duration": 205,
    "start_time": "2021-09-01T14:06:33.864Z"
   },
   {
    "duration": 176,
    "start_time": "2021-09-01T14:06:34.072Z"
   },
   {
    "duration": 278,
    "start_time": "2021-09-01T14:06:34.255Z"
   },
   {
    "duration": 3,
    "start_time": "2021-09-01T14:06:34.536Z"
   },
   {
    "duration": 4,
    "start_time": "2021-09-01T14:06:34.553Z"
   },
   {
    "duration": 25,
    "start_time": "2021-09-01T14:06:34.560Z"
   },
   {
    "duration": 44,
    "start_time": "2021-09-01T14:06:34.588Z"
   },
   {
    "duration": 32,
    "start_time": "2021-09-01T14:06:34.634Z"
   },
   {
    "duration": 30,
    "start_time": "2021-09-01T14:06:34.668Z"
   },
   {
    "duration": 16,
    "start_time": "2021-09-01T14:06:34.701Z"
   },
   {
    "duration": 1545,
    "start_time": "2021-09-01T14:06:34.720Z"
   },
   {
    "duration": 435,
    "start_time": "2021-09-01T14:06:36.268Z"
   },
   {
    "duration": 7,
    "start_time": "2021-09-01T14:06:36.706Z"
   },
   {
    "duration": 29,
    "start_time": "2021-09-01T14:06:36.715Z"
   },
   {
    "duration": 482,
    "start_time": "2021-09-01T14:06:36.746Z"
   },
   {
    "duration": 4,
    "start_time": "2021-09-01T14:06:37.233Z"
   },
   {
    "duration": 3,
    "start_time": "2021-09-01T14:06:37.255Z"
   },
   {
    "duration": 21,
    "start_time": "2021-09-01T14:06:37.260Z"
   },
   {
    "duration": 33,
    "start_time": "2021-09-01T14:06:37.283Z"
   },
   {
    "duration": 7,
    "start_time": "2021-09-01T14:06:37.318Z"
   },
   {
    "duration": 234,
    "start_time": "2021-09-01T14:06:37.327Z"
   },
   {
    "duration": 399,
    "start_time": "2021-09-01T14:06:37.565Z"
   },
   {
    "duration": 5978,
    "start_time": "2021-09-01T14:06:37.966Z"
   },
   {
    "duration": 1415,
    "start_time": "2021-09-01T14:06:43.947Z"
   },
   {
    "duration": 35333,
    "start_time": "2021-09-01T14:06:45.364Z"
   },
   {
    "duration": 4,
    "start_time": "2021-09-01T14:07:20.700Z"
   },
   {
    "duration": 21,
    "start_time": "2021-09-01T14:07:20.706Z"
   },
   {
    "duration": 809,
    "start_time": "2021-09-01T14:07:20.730Z"
   },
   {
    "duration": 532,
    "start_time": "2021-09-01T14:14:17.078Z"
   },
   {
    "duration": 8,
    "start_time": "2021-09-01T14:20:30.677Z"
   },
   {
    "duration": 1599,
    "start_time": "2021-09-01T14:22:51.373Z"
   },
   {
    "duration": 4,
    "start_time": "2021-09-01T14:22:52.976Z"
   },
   {
    "duration": 570,
    "start_time": "2021-09-01T14:22:52.984Z"
   },
   {
    "duration": 183,
    "start_time": "2021-09-01T14:22:53.558Z"
   },
   {
    "duration": 500,
    "start_time": "2021-09-01T14:22:53.743Z"
   },
   {
    "duration": 1523,
    "start_time": "2021-09-01T14:22:54.246Z"
   },
   {
    "duration": 24,
    "start_time": "2021-09-01T14:22:55.771Z"
   },
   {
    "duration": 222,
    "start_time": "2021-09-01T14:22:55.799Z"
   },
   {
    "duration": 188,
    "start_time": "2021-09-01T14:22:56.024Z"
   },
   {
    "duration": 292,
    "start_time": "2021-09-01T14:22:56.215Z"
   },
   {
    "duration": 5,
    "start_time": "2021-09-01T14:22:56.510Z"
   },
   {
    "duration": 11,
    "start_time": "2021-09-01T14:22:56.517Z"
   },
   {
    "duration": 7,
    "start_time": "2021-09-01T14:22:56.531Z"
   },
   {
    "duration": 28,
    "start_time": "2021-09-01T14:22:56.555Z"
   },
   {
    "duration": 12,
    "start_time": "2021-09-01T14:22:56.585Z"
   },
   {
    "duration": 62,
    "start_time": "2021-09-01T14:22:56.599Z"
   },
   {
    "duration": 19,
    "start_time": "2021-09-01T14:22:56.665Z"
   },
   {
    "duration": 2316,
    "start_time": "2021-09-01T14:22:56.687Z"
   },
   {
    "duration": 693,
    "start_time": "2021-09-01T14:22:59.005Z"
   },
   {
    "duration": 9,
    "start_time": "2021-09-01T14:22:59.701Z"
   },
   {
    "duration": 32,
    "start_time": "2021-09-01T14:22:59.713Z"
   },
   {
    "duration": 525,
    "start_time": "2021-09-01T14:22:59.748Z"
   },
   {
    "duration": 5,
    "start_time": "2021-09-01T14:23:00.281Z"
   },
   {
    "duration": 16,
    "start_time": "2021-09-01T14:23:00.291Z"
   },
   {
    "duration": 35,
    "start_time": "2021-09-01T14:23:00.311Z"
   },
   {
    "duration": 50,
    "start_time": "2021-09-01T14:23:00.349Z"
   },
   {
    "duration": 21,
    "start_time": "2021-09-01T14:23:00.402Z"
   },
   {
    "duration": 188,
    "start_time": "2021-09-01T14:23:00.426Z"
   },
   {
    "duration": 697,
    "start_time": "2021-09-01T14:22:59.921Z"
   },
   {
    "duration": 693,
    "start_time": "2021-09-01T14:22:59.927Z"
   },
   {
    "duration": 685,
    "start_time": "2021-09-01T14:22:59.936Z"
   },
   {
    "duration": 681,
    "start_time": "2021-09-01T14:22:59.942Z"
   },
   {
    "duration": 677,
    "start_time": "2021-09-01T14:22:59.948Z"
   },
   {
    "duration": 672,
    "start_time": "2021-09-01T14:22:59.955Z"
   },
   {
    "duration": 668,
    "start_time": "2021-09-01T14:22:59.961Z"
   },
   {
    "duration": 663,
    "start_time": "2021-09-01T14:22:59.968Z"
   },
   {
    "duration": 554,
    "start_time": "2021-09-01T14:23:22.580Z"
   },
   {
    "duration": 1594,
    "start_time": "2021-09-01T14:23:58.154Z"
   },
   {
    "duration": 5,
    "start_time": "2021-09-01T14:23:59.751Z"
   },
   {
    "duration": 570,
    "start_time": "2021-09-01T14:23:59.759Z"
   },
   {
    "duration": 124,
    "start_time": "2021-09-01T14:24:00.332Z"
   },
   {
    "duration": 475,
    "start_time": "2021-09-01T14:24:00.459Z"
   },
   {
    "duration": 1426,
    "start_time": "2021-09-01T14:24:00.937Z"
   },
   {
    "duration": 21,
    "start_time": "2021-09-01T14:24:02.366Z"
   },
   {
    "duration": 363,
    "start_time": "2021-09-01T14:24:02.393Z"
   },
   {
    "duration": 197,
    "start_time": "2021-09-01T14:24:02.760Z"
   },
   {
    "duration": 306,
    "start_time": "2021-09-01T14:24:02.959Z"
   },
   {
    "duration": 3,
    "start_time": "2021-09-01T14:24:03.268Z"
   },
   {
    "duration": 24,
    "start_time": "2021-09-01T14:24:03.273Z"
   },
   {
    "duration": 34,
    "start_time": "2021-09-01T14:24:03.300Z"
   },
   {
    "duration": 50,
    "start_time": "2021-09-01T14:24:03.336Z"
   },
   {
    "duration": 40,
    "start_time": "2021-09-01T14:24:03.388Z"
   },
   {
    "duration": 48,
    "start_time": "2021-09-01T14:24:03.431Z"
   },
   {
    "duration": 29,
    "start_time": "2021-09-01T14:24:03.482Z"
   },
   {
    "duration": 1645,
    "start_time": "2021-09-01T14:24:03.514Z"
   },
   {
    "duration": 452,
    "start_time": "2021-09-01T14:24:05.162Z"
   },
   {
    "duration": 7,
    "start_time": "2021-09-01T14:24:05.616Z"
   },
   {
    "duration": 30,
    "start_time": "2021-09-01T14:24:05.626Z"
   },
   {
    "duration": 495,
    "start_time": "2021-09-01T14:24:05.659Z"
   },
   {
    "duration": 4,
    "start_time": "2021-09-01T14:24:06.159Z"
   },
   {
    "duration": 10,
    "start_time": "2021-09-01T14:24:06.167Z"
   },
   {
    "duration": 20,
    "start_time": "2021-09-01T14:24:06.179Z"
   },
   {
    "duration": 30,
    "start_time": "2021-09-01T14:24:06.202Z"
   },
   {
    "duration": 21,
    "start_time": "2021-09-01T14:24:06.235Z"
   },
   {
    "duration": 542,
    "start_time": "2021-09-01T14:24:06.259Z"
   },
   {
    "duration": 701,
    "start_time": "2021-09-01T14:24:06.103Z"
   },
   {
    "duration": 694,
    "start_time": "2021-09-01T14:24:06.111Z"
   },
   {
    "duration": 690,
    "start_time": "2021-09-01T14:24:06.117Z"
   },
   {
    "duration": 685,
    "start_time": "2021-09-01T14:24:06.123Z"
   },
   {
    "duration": 681,
    "start_time": "2021-09-01T14:24:06.129Z"
   },
   {
    "duration": 675,
    "start_time": "2021-09-01T14:24:06.136Z"
   },
   {
    "duration": 673,
    "start_time": "2021-09-01T14:24:06.141Z"
   },
   {
    "duration": 667,
    "start_time": "2021-09-01T14:24:06.148Z"
   },
   {
    "duration": 540,
    "start_time": "2021-09-01T14:34:59.142Z"
   },
   {
    "duration": 436,
    "start_time": "2021-09-01T14:35:30.587Z"
   },
   {
    "duration": 34296,
    "start_time": "2021-09-01T14:35:42.225Z"
   },
   {
    "duration": 34828,
    "start_time": "2021-09-01T14:37:23.725Z"
   },
   {
    "duration": 16902,
    "start_time": "2021-09-01T14:40:51.567Z"
   },
   {
    "duration": 1687,
    "start_time": "2021-09-01T14:46:25.625Z"
   },
   {
    "duration": 4,
    "start_time": "2021-09-01T14:46:27.315Z"
   },
   {
    "duration": 395,
    "start_time": "2021-09-01T14:46:27.323Z"
   },
   {
    "duration": 121,
    "start_time": "2021-09-01T14:46:27.720Z"
   },
   {
    "duration": 482,
    "start_time": "2021-09-01T14:46:27.843Z"
   },
   {
    "duration": 1443,
    "start_time": "2021-09-01T14:46:28.327Z"
   },
   {
    "duration": 23,
    "start_time": "2021-09-01T14:46:29.773Z"
   },
   {
    "duration": 224,
    "start_time": "2021-09-01T14:46:29.799Z"
   },
   {
    "duration": 194,
    "start_time": "2021-09-01T14:46:30.026Z"
   },
   {
    "duration": 279,
    "start_time": "2021-09-01T14:46:30.222Z"
   },
   {
    "duration": 3,
    "start_time": "2021-09-01T14:46:30.504Z"
   },
   {
    "duration": 25,
    "start_time": "2021-09-01T14:46:30.510Z"
   },
   {
    "duration": 23,
    "start_time": "2021-09-01T14:46:30.538Z"
   },
   {
    "duration": 44,
    "start_time": "2021-09-01T14:46:30.564Z"
   },
   {
    "duration": 18,
    "start_time": "2021-09-01T14:46:30.611Z"
   },
   {
    "duration": 40,
    "start_time": "2021-09-01T14:46:30.631Z"
   },
   {
    "duration": 39,
    "start_time": "2021-09-01T14:46:30.674Z"
   },
   {
    "duration": 1595,
    "start_time": "2021-09-01T14:46:30.715Z"
   },
   {
    "duration": 466,
    "start_time": "2021-09-01T14:46:32.312Z"
   },
   {
    "duration": 8,
    "start_time": "2021-09-01T14:46:32.780Z"
   },
   {
    "duration": 31,
    "start_time": "2021-09-01T14:46:32.790Z"
   },
   {
    "duration": 516,
    "start_time": "2021-09-01T14:46:32.823Z"
   },
   {
    "duration": 11,
    "start_time": "2021-09-01T14:46:33.343Z"
   },
   {
    "duration": 9,
    "start_time": "2021-09-01T14:46:33.358Z"
   },
   {
    "duration": 15,
    "start_time": "2021-09-01T14:46:33.370Z"
   },
   {
    "duration": 23,
    "start_time": "2021-09-01T14:46:33.387Z"
   },
   {
    "duration": 7,
    "start_time": "2021-09-01T14:46:33.412Z"
   },
   {
    "duration": 313059,
    "start_time": "2021-09-01T14:46:33.421Z"
   },
   {
    "duration": 697,
    "start_time": "2021-09-01T14:51:45.786Z"
   },
   {
    "duration": 679,
    "start_time": "2021-09-01T14:51:45.806Z"
   },
   {
    "duration": 667,
    "start_time": "2021-09-01T14:51:45.819Z"
   },
   {
    "duration": 662,
    "start_time": "2021-09-01T14:51:45.826Z"
   },
   {
    "duration": 654,
    "start_time": "2021-09-01T14:51:45.835Z"
   },
   {
    "duration": 648,
    "start_time": "2021-09-01T14:51:45.842Z"
   },
   {
    "duration": 642,
    "start_time": "2021-09-01T14:51:45.850Z"
   },
   {
    "duration": 636,
    "start_time": "2021-09-01T14:51:45.857Z"
   },
   {
    "duration": 1664,
    "start_time": "2021-09-01T14:54:18.054Z"
   },
   {
    "duration": 4,
    "start_time": "2021-09-01T14:54:19.720Z"
   },
   {
    "duration": 378,
    "start_time": "2021-09-01T14:54:19.727Z"
   },
   {
    "duration": 130,
    "start_time": "2021-09-01T14:54:20.108Z"
   },
   {
    "duration": 459,
    "start_time": "2021-09-01T14:54:20.241Z"
   },
   {
    "duration": 1615,
    "start_time": "2021-09-01T14:54:20.702Z"
   },
   {
    "duration": 45,
    "start_time": "2021-09-01T14:54:22.320Z"
   },
   {
    "duration": 214,
    "start_time": "2021-09-01T14:54:22.370Z"
   },
   {
    "duration": 190,
    "start_time": "2021-09-01T14:54:22.588Z"
   },
   {
    "duration": 285,
    "start_time": "2021-09-01T14:54:22.781Z"
   },
   {
    "duration": 4,
    "start_time": "2021-09-01T14:54:23.072Z"
   },
   {
    "duration": 11,
    "start_time": "2021-09-01T14:54:23.079Z"
   },
   {
    "duration": 8,
    "start_time": "2021-09-01T14:54:23.093Z"
   },
   {
    "duration": 53,
    "start_time": "2021-09-01T14:54:23.103Z"
   },
   {
    "duration": 14,
    "start_time": "2021-09-01T14:54:23.158Z"
   },
   {
    "duration": 25,
    "start_time": "2021-09-01T14:54:23.175Z"
   },
   {
    "duration": 14,
    "start_time": "2021-09-01T14:54:23.203Z"
   },
   {
    "duration": 1587,
    "start_time": "2021-09-01T14:54:23.219Z"
   },
   {
    "duration": 464,
    "start_time": "2021-09-01T14:54:24.810Z"
   },
   {
    "duration": 7,
    "start_time": "2021-09-01T14:54:25.276Z"
   },
   {
    "duration": 16,
    "start_time": "2021-09-01T14:54:25.292Z"
   },
   {
    "duration": 500,
    "start_time": "2021-09-01T14:54:25.311Z"
   },
   {
    "duration": 4,
    "start_time": "2021-09-01T14:54:25.816Z"
   },
   {
    "duration": 12,
    "start_time": "2021-09-01T14:54:25.823Z"
   },
   {
    "duration": 29,
    "start_time": "2021-09-01T14:54:25.838Z"
   },
   {
    "duration": 25,
    "start_time": "2021-09-01T14:54:25.870Z"
   },
   {
    "duration": 8,
    "start_time": "2021-09-01T14:54:25.898Z"
   },
   {
    "duration": 356,
    "start_time": "2021-09-01T14:54:25.910Z"
   },
   {
    "duration": 584,
    "start_time": "2021-09-01T14:54:26.269Z"
   },
   {
    "duration": 6240,
    "start_time": "2021-09-01T14:54:26.861Z"
   },
   {
    "duration": 2073,
    "start_time": "2021-09-01T14:54:33.104Z"
   },
   {
    "duration": 36959,
    "start_time": "2021-09-01T14:54:35.260Z"
   },
   {
    "duration": 4,
    "start_time": "2021-09-01T14:55:12.222Z"
   },
   {
    "duration": 685,
    "start_time": "2021-09-01T14:55:12.229Z"
   },
   {
    "duration": 6075,
    "start_time": "2021-09-01T14:55:41.487Z"
   },
   {
    "duration": 34403,
    "start_time": "2021-09-01T14:56:19.069Z"
   },
   {
    "duration": 1598,
    "start_time": "2021-09-01T14:57:06.295Z"
   },
   {
    "duration": 4,
    "start_time": "2021-09-01T14:57:07.896Z"
   },
   {
    "duration": 368,
    "start_time": "2021-09-01T14:57:07.903Z"
   },
   {
    "duration": 120,
    "start_time": "2021-09-01T14:57:08.274Z"
   },
   {
    "duration": 473,
    "start_time": "2021-09-01T14:57:08.396Z"
   },
   {
    "duration": 1494,
    "start_time": "2021-09-01T14:57:08.871Z"
   },
   {
    "duration": 31,
    "start_time": "2021-09-01T14:57:10.368Z"
   },
   {
    "duration": 229,
    "start_time": "2021-09-01T14:57:10.455Z"
   },
   {
    "duration": 207,
    "start_time": "2021-09-01T14:57:10.688Z"
   },
   {
    "duration": 267,
    "start_time": "2021-09-01T14:57:10.898Z"
   },
   {
    "duration": 4,
    "start_time": "2021-09-01T14:57:11.167Z"
   },
   {
    "duration": 6,
    "start_time": "2021-09-01T14:57:11.173Z"
   },
   {
    "duration": 5,
    "start_time": "2021-09-01T14:57:11.182Z"
   },
   {
    "duration": 30,
    "start_time": "2021-09-01T14:57:11.190Z"
   },
   {
    "duration": 39,
    "start_time": "2021-09-01T14:57:11.222Z"
   },
   {
    "duration": 22,
    "start_time": "2021-09-01T14:57:11.263Z"
   },
   {
    "duration": 15,
    "start_time": "2021-09-01T14:57:11.287Z"
   },
   {
    "duration": 1519,
    "start_time": "2021-09-01T14:57:11.305Z"
   },
   {
    "duration": 435,
    "start_time": "2021-09-01T14:57:12.827Z"
   },
   {
    "duration": 6,
    "start_time": "2021-09-01T14:57:13.265Z"
   },
   {
    "duration": 35,
    "start_time": "2021-09-01T14:57:13.273Z"
   },
   {
    "duration": 476,
    "start_time": "2021-09-01T14:57:13.311Z"
   },
   {
    "duration": 4,
    "start_time": "2021-09-01T14:57:13.792Z"
   },
   {
    "duration": 8,
    "start_time": "2021-09-01T14:57:13.798Z"
   },
   {
    "duration": 14,
    "start_time": "2021-09-01T14:57:13.808Z"
   },
   {
    "duration": 44,
    "start_time": "2021-09-01T14:57:13.825Z"
   },
   {
    "duration": 7,
    "start_time": "2021-09-01T14:57:13.871Z"
   },
   {
    "duration": 182,
    "start_time": "2021-09-01T14:57:13.880Z"
   },
   {
    "duration": 202,
    "start_time": "2021-09-01T14:57:14.156Z"
   },
   {
    "duration": 6053,
    "start_time": "2021-09-01T14:57:14.361Z"
   },
   {
    "duration": 1237,
    "start_time": "2021-09-01T14:57:20.416Z"
   },
   {
    "duration": 35116,
    "start_time": "2021-09-01T14:57:21.657Z"
   },
   {
    "duration": 5,
    "start_time": "2021-09-01T14:57:56.776Z"
   },
   {
    "duration": 713,
    "start_time": "2021-09-01T14:57:56.783Z"
   },
   {
    "duration": 5743,
    "start_time": "2021-09-01T14:58:50.565Z"
   },
   {
    "duration": 34898,
    "start_time": "2021-09-01T14:59:02.337Z"
   },
   {
    "duration": 508,
    "start_time": "2021-09-01T15:08:51.830Z"
   },
   {
    "duration": 499,
    "start_time": "2021-09-01T15:12:47.633Z"
   },
   {
    "duration": 389,
    "start_time": "2021-09-01T15:29:56.004Z"
   },
   {
    "duration": 2090,
    "start_time": "2021-09-01T15:30:24.725Z"
   },
   {
    "duration": 794,
    "start_time": "2021-09-01T15:30:26.026Z"
   },
   {
    "duration": 786,
    "start_time": "2021-09-01T15:30:26.035Z"
   },
   {
    "duration": 774,
    "start_time": "2021-09-01T15:30:26.049Z"
   },
   {
    "duration": 766,
    "start_time": "2021-09-01T15:30:26.058Z"
   },
   {
    "duration": 760,
    "start_time": "2021-09-01T15:30:26.066Z"
   },
   {
    "duration": 754,
    "start_time": "2021-09-01T15:30:26.073Z"
   },
   {
    "duration": 748,
    "start_time": "2021-09-01T15:30:26.081Z"
   },
   {
    "duration": 741,
    "start_time": "2021-09-01T15:30:26.089Z"
   },
   {
    "duration": 736,
    "start_time": "2021-09-01T15:30:26.096Z"
   },
   {
    "duration": 730,
    "start_time": "2021-09-01T15:30:26.103Z"
   },
   {
    "duration": 725,
    "start_time": "2021-09-01T15:30:26.110Z"
   },
   {
    "duration": 703,
    "start_time": "2021-09-01T15:30:26.133Z"
   },
   {
    "duration": 695,
    "start_time": "2021-09-01T15:30:26.142Z"
   },
   {
    "duration": 691,
    "start_time": "2021-09-01T15:30:26.148Z"
   },
   {
    "duration": 684,
    "start_time": "2021-09-01T15:30:26.156Z"
   },
   {
    "duration": 680,
    "start_time": "2021-09-01T15:30:26.162Z"
   },
   {
    "duration": 673,
    "start_time": "2021-09-01T15:30:26.170Z"
   },
   {
    "duration": 668,
    "start_time": "2021-09-01T15:30:26.176Z"
   },
   {
    "duration": 662,
    "start_time": "2021-09-01T15:30:26.183Z"
   },
   {
    "duration": 657,
    "start_time": "2021-09-01T15:30:26.190Z"
   },
   {
    "duration": 650,
    "start_time": "2021-09-01T15:30:26.198Z"
   },
   {
    "duration": 646,
    "start_time": "2021-09-01T15:30:26.204Z"
   },
   {
    "duration": 640,
    "start_time": "2021-09-01T15:30:26.211Z"
   },
   {
    "duration": 635,
    "start_time": "2021-09-01T15:30:26.217Z"
   },
   {
    "duration": 630,
    "start_time": "2021-09-01T15:30:26.224Z"
   },
   {
    "duration": 614,
    "start_time": "2021-09-01T15:30:26.241Z"
   },
   {
    "duration": 608,
    "start_time": "2021-09-01T15:30:26.248Z"
   },
   {
    "duration": 603,
    "start_time": "2021-09-01T15:30:26.255Z"
   },
   {
    "duration": 597,
    "start_time": "2021-09-01T15:30:26.262Z"
   },
   {
    "duration": 592,
    "start_time": "2021-09-01T15:30:26.268Z"
   },
   {
    "duration": 586,
    "start_time": "2021-09-01T15:30:26.275Z"
   },
   {
    "duration": 582,
    "start_time": "2021-09-01T15:30:26.281Z"
   },
   {
    "duration": 576,
    "start_time": "2021-09-01T15:30:26.288Z"
   },
   {
    "duration": 571,
    "start_time": "2021-09-01T15:30:26.294Z"
   },
   {
    "duration": 389,
    "start_time": "2021-09-01T15:34:03.404Z"
   },
   {
    "duration": 1634,
    "start_time": "2021-09-01T15:34:35.659Z"
   },
   {
    "duration": 3,
    "start_time": "2021-09-01T15:34:37.295Z"
   },
   {
    "duration": 374,
    "start_time": "2021-09-01T15:34:37.301Z"
   },
   {
    "duration": 119,
    "start_time": "2021-09-01T15:34:37.677Z"
   },
   {
    "duration": 470,
    "start_time": "2021-09-01T15:34:37.798Z"
   },
   {
    "duration": 1535,
    "start_time": "2021-09-01T15:34:38.270Z"
   },
   {
    "duration": 22,
    "start_time": "2021-09-01T15:34:39.808Z"
   },
   {
    "duration": 238,
    "start_time": "2021-09-01T15:34:39.833Z"
   },
   {
    "duration": 204,
    "start_time": "2021-09-01T15:34:40.076Z"
   },
   {
    "duration": 282,
    "start_time": "2021-09-01T15:34:40.283Z"
   },
   {
    "duration": 3,
    "start_time": "2021-09-01T15:34:40.568Z"
   },
   {
    "duration": 5,
    "start_time": "2021-09-01T15:34:40.574Z"
   },
   {
    "duration": 6,
    "start_time": "2021-09-01T15:34:40.582Z"
   },
   {
    "duration": 64,
    "start_time": "2021-09-01T15:34:40.590Z"
   },
   {
    "duration": 11,
    "start_time": "2021-09-01T15:34:40.658Z"
   },
   {
    "duration": 28,
    "start_time": "2021-09-01T15:34:40.672Z"
   },
   {
    "duration": 20,
    "start_time": "2021-09-01T15:34:40.702Z"
   },
   {
    "duration": 1815,
    "start_time": "2021-09-01T15:34:40.756Z"
   },
   {
    "duration": 519,
    "start_time": "2021-09-01T15:34:42.574Z"
   },
   {
    "duration": 8,
    "start_time": "2021-09-01T15:34:43.096Z"
   },
   {
    "duration": 13,
    "start_time": "2021-09-01T15:34:43.107Z"
   },
   {
    "duration": 613,
    "start_time": "2021-09-01T15:34:43.123Z"
   },
   {
    "duration": 13,
    "start_time": "2021-09-01T15:34:43.741Z"
   },
   {
    "duration": 4,
    "start_time": "2021-09-01T15:34:43.757Z"
   },
   {
    "duration": 17,
    "start_time": "2021-09-01T15:34:43.764Z"
   },
   {
    "duration": 26,
    "start_time": "2021-09-01T15:34:43.784Z"
   },
   {
    "duration": 8,
    "start_time": "2021-09-01T15:34:43.813Z"
   },
   {
    "duration": 203,
    "start_time": "2021-09-01T15:34:43.855Z"
   },
   {
    "duration": 314,
    "start_time": "2021-09-01T15:34:44.062Z"
   },
   {
    "duration": 6563,
    "start_time": "2021-09-01T15:34:44.456Z"
   },
   {
    "duration": 1833,
    "start_time": "2021-09-01T15:34:51.022Z"
   },
   {
    "duration": 37567,
    "start_time": "2021-09-01T15:34:52.857Z"
   },
   {
    "duration": 1176,
    "start_time": "2021-09-01T15:35:30.426Z"
   },
   {
    "duration": 821,
    "start_time": "2021-09-01T15:35:30.784Z"
   },
   {
    "duration": 809,
    "start_time": "2021-09-01T15:35:30.797Z"
   },
   {
    "duration": 392,
    "start_time": "2021-09-01T15:36:41.095Z"
   },
   {
    "duration": 1569,
    "start_time": "2021-09-01T15:40:11.228Z"
   },
   {
    "duration": 3,
    "start_time": "2021-09-01T15:40:12.800Z"
   },
   {
    "duration": 384,
    "start_time": "2021-09-01T15:40:12.807Z"
   },
   {
    "duration": 125,
    "start_time": "2021-09-01T15:40:13.195Z"
   },
   {
    "duration": 489,
    "start_time": "2021-09-01T15:40:13.323Z"
   },
   {
    "duration": 1501,
    "start_time": "2021-09-01T15:40:13.815Z"
   },
   {
    "duration": 36,
    "start_time": "2021-09-01T15:40:15.319Z"
   },
   {
    "duration": 216,
    "start_time": "2021-09-01T15:40:15.360Z"
   },
   {
    "duration": 181,
    "start_time": "2021-09-01T15:40:15.579Z"
   },
   {
    "duration": 277,
    "start_time": "2021-09-01T15:40:15.763Z"
   },
   {
    "duration": 3,
    "start_time": "2021-09-01T15:40:16.043Z"
   },
   {
    "duration": 3,
    "start_time": "2021-09-01T15:40:16.055Z"
   },
   {
    "duration": 7,
    "start_time": "2021-09-01T15:40:16.060Z"
   },
   {
    "duration": 30,
    "start_time": "2021-09-01T15:40:16.069Z"
   },
   {
    "duration": 11,
    "start_time": "2021-09-01T15:40:16.102Z"
   },
   {
    "duration": 59,
    "start_time": "2021-09-01T15:40:16.115Z"
   },
   {
    "duration": 16,
    "start_time": "2021-09-01T15:40:16.177Z"
   },
   {
    "duration": 1549,
    "start_time": "2021-09-01T15:40:16.195Z"
   },
   {
    "duration": 457,
    "start_time": "2021-09-01T15:40:17.747Z"
   },
   {
    "duration": 9,
    "start_time": "2021-09-01T15:40:18.207Z"
   },
   {
    "duration": 36,
    "start_time": "2021-09-01T15:40:18.219Z"
   },
   {
    "duration": 492,
    "start_time": "2021-09-01T15:40:18.257Z"
   },
   {
    "duration": 4,
    "start_time": "2021-09-01T15:40:18.759Z"
   },
   {
    "duration": 10,
    "start_time": "2021-09-01T15:40:18.766Z"
   },
   {
    "duration": 15,
    "start_time": "2021-09-01T15:40:18.779Z"
   },
   {
    "duration": 30,
    "start_time": "2021-09-01T15:40:18.797Z"
   },
   {
    "duration": 8,
    "start_time": "2021-09-01T15:40:18.855Z"
   },
   {
    "duration": 289,
    "start_time": "2021-09-01T15:40:18.867Z"
   },
   {
    "duration": 202,
    "start_time": "2021-09-01T15:40:19.159Z"
   },
   {
    "duration": 6186,
    "start_time": "2021-09-01T15:40:19.364Z"
   },
   {
    "duration": 1601,
    "start_time": "2021-09-01T15:40:25.555Z"
   },
   {
    "duration": 35779,
    "start_time": "2021-09-01T15:40:27.159Z"
   },
   {
    "duration": 14,
    "start_time": "2021-09-01T15:41:02.941Z"
   },
   {
    "duration": 688,
    "start_time": "2021-09-01T15:41:02.959Z"
   },
   {
    "duration": 1732,
    "start_time": "2021-09-02T14:06:41.954Z"
   },
   {
    "duration": 4,
    "start_time": "2021-09-02T14:06:43.689Z"
   },
   {
    "duration": 407,
    "start_time": "2021-09-02T14:06:43.695Z"
   },
   {
    "duration": 128,
    "start_time": "2021-09-02T14:06:44.105Z"
   },
   {
    "duration": 621,
    "start_time": "2021-09-02T14:06:44.236Z"
   },
   {
    "duration": 1480,
    "start_time": "2021-09-02T14:06:44.859Z"
   },
   {
    "duration": 21,
    "start_time": "2021-09-02T14:06:46.342Z"
   },
   {
    "duration": 219,
    "start_time": "2021-09-02T14:06:46.366Z"
   },
   {
    "duration": 192,
    "start_time": "2021-09-02T14:06:46.589Z"
   },
   {
    "duration": 297,
    "start_time": "2021-09-02T14:06:46.785Z"
   },
   {
    "duration": 4,
    "start_time": "2021-09-02T14:06:47.084Z"
   },
   {
    "duration": 7,
    "start_time": "2021-09-02T14:06:47.090Z"
   },
   {
    "duration": 24,
    "start_time": "2021-09-02T14:06:47.100Z"
   },
   {
    "duration": 37,
    "start_time": "2021-09-02T14:06:47.127Z"
   },
   {
    "duration": 14,
    "start_time": "2021-09-02T14:06:47.167Z"
   },
   {
    "duration": 51,
    "start_time": "2021-09-02T14:06:47.184Z"
   },
   {
    "duration": 14,
    "start_time": "2021-09-02T14:06:47.238Z"
   },
   {
    "duration": 1578,
    "start_time": "2021-09-02T14:06:47.254Z"
   },
   {
    "duration": 479,
    "start_time": "2021-09-02T14:06:48.834Z"
   },
   {
    "duration": 13,
    "start_time": "2021-09-02T14:06:49.315Z"
   },
   {
    "duration": 12,
    "start_time": "2021-09-02T14:06:49.332Z"
   },
   {
    "duration": 515,
    "start_time": "2021-09-02T14:06:49.347Z"
   },
   {
    "duration": 4,
    "start_time": "2021-09-02T14:06:49.865Z"
   },
   {
    "duration": 10,
    "start_time": "2021-09-02T14:06:49.871Z"
   },
   {
    "duration": 20,
    "start_time": "2021-09-02T14:06:49.884Z"
   },
   {
    "duration": 38,
    "start_time": "2021-09-02T14:06:49.906Z"
   },
   {
    "duration": 7,
    "start_time": "2021-09-02T14:06:49.949Z"
   },
   {
    "duration": 366,
    "start_time": "2021-09-02T14:06:49.958Z"
   },
   {
    "duration": 205,
    "start_time": "2021-09-02T14:06:50.327Z"
   },
   {
    "duration": 6389,
    "start_time": "2021-09-02T14:06:50.539Z"
   },
   {
    "duration": 2687,
    "start_time": "2021-09-02T14:06:56.931Z"
   },
   {
    "duration": 37889,
    "start_time": "2021-09-02T14:06:59.627Z"
   },
   {
    "duration": 7,
    "start_time": "2021-09-02T14:07:37.520Z"
   },
   {
    "duration": 1505,
    "start_time": "2021-09-02T14:07:37.529Z"
   },
   {
    "duration": 1188,
    "start_time": "2021-09-02T19:53:37.865Z"
   },
   {
    "duration": 3,
    "start_time": "2021-09-02T19:53:39.055Z"
   },
   {
    "duration": 294,
    "start_time": "2021-09-02T19:53:39.060Z"
   },
   {
    "duration": 93,
    "start_time": "2021-09-02T19:53:39.355Z"
   },
   {
    "duration": 369,
    "start_time": "2021-09-02T19:53:39.450Z"
   },
   {
    "duration": 843,
    "start_time": "2021-09-02T19:53:39.821Z"
   },
   {
    "duration": 20,
    "start_time": "2021-09-02T19:53:40.666Z"
   },
   {
    "duration": 113,
    "start_time": "2021-09-02T19:53:40.688Z"
   },
   {
    "duration": 103,
    "start_time": "2021-09-02T19:53:40.803Z"
   },
   {
    "duration": 220,
    "start_time": "2021-09-02T19:53:40.908Z"
   },
   {
    "duration": 2,
    "start_time": "2021-09-02T19:53:41.130Z"
   },
   {
    "duration": 5,
    "start_time": "2021-09-02T19:53:41.133Z"
   },
   {
    "duration": 4,
    "start_time": "2021-09-02T19:53:41.140Z"
   },
   {
    "duration": 21,
    "start_time": "2021-09-02T19:53:41.146Z"
   },
   {
    "duration": 20,
    "start_time": "2021-09-02T19:53:41.169Z"
   },
   {
    "duration": 14,
    "start_time": "2021-09-02T19:53:41.191Z"
   },
   {
    "duration": 11,
    "start_time": "2021-09-02T19:53:41.206Z"
   },
   {
    "duration": 1014,
    "start_time": "2021-09-02T19:53:41.218Z"
   },
   {
    "duration": 279,
    "start_time": "2021-09-02T19:53:42.234Z"
   },
   {
    "duration": 4,
    "start_time": "2021-09-02T19:53:42.515Z"
   },
   {
    "duration": 10,
    "start_time": "2021-09-02T19:53:42.521Z"
   },
   {
    "duration": 320,
    "start_time": "2021-09-02T19:53:42.533Z"
   },
   {
    "duration": 3,
    "start_time": "2021-09-02T19:53:42.857Z"
   },
   {
    "duration": 6,
    "start_time": "2021-09-02T19:53:42.862Z"
   },
   {
    "duration": 19,
    "start_time": "2021-09-02T19:53:42.869Z"
   },
   {
    "duration": 19,
    "start_time": "2021-09-02T19:53:42.889Z"
   },
   {
    "duration": 5,
    "start_time": "2021-09-02T19:53:42.910Z"
   },
   {
    "duration": 175,
    "start_time": "2021-09-02T19:53:42.916Z"
   },
   {
    "duration": 299,
    "start_time": "2021-09-02T19:53:43.094Z"
   },
   {
    "duration": 4537,
    "start_time": "2021-09-02T19:53:43.486Z"
   },
   {
    "duration": 1261,
    "start_time": "2021-09-02T19:53:48.025Z"
   },
   {
    "duration": 26508,
    "start_time": "2021-09-02T19:53:49.288Z"
   },
   {
    "duration": 4,
    "start_time": "2021-09-02T19:54:15.798Z"
   },
   {
    "duration": 532,
    "start_time": "2021-09-02T19:54:15.803Z"
   },
   {
    "duration": 6,
    "start_time": "2021-09-02T20:00:09.966Z"
   },
   {
    "duration": 189,
    "start_time": "2021-09-02T20:01:24.358Z"
   },
   {
    "duration": 215,
    "start_time": "2021-09-02T20:01:52.119Z"
   },
   {
    "duration": 5,
    "start_time": "2021-09-02T20:04:51.994Z"
   },
   {
    "duration": 8,
    "start_time": "2021-09-02T20:05:54.653Z"
   },
   {
    "duration": 192,
    "start_time": "2021-09-02T20:06:24.518Z"
   },
   {
    "duration": 12,
    "start_time": "2021-09-02T20:06:34.905Z"
   },
   {
    "duration": 28,
    "start_time": "2021-09-02T20:07:20.837Z"
   },
   {
    "duration": 20,
    "start_time": "2021-09-02T20:07:26.777Z"
   },
   {
    "duration": 22,
    "start_time": "2021-09-02T20:07:41.070Z"
   },
   {
    "duration": 444,
    "start_time": "2021-09-02T20:07:49.674Z"
   },
   {
    "duration": 1097,
    "start_time": "2021-09-02T20:08:09.047Z"
   },
   {
    "duration": 2,
    "start_time": "2021-09-02T20:08:10.147Z"
   },
   {
    "duration": 313,
    "start_time": "2021-09-02T20:08:10.151Z"
   },
   {
    "duration": 94,
    "start_time": "2021-09-02T20:08:10.466Z"
   },
   {
    "duration": 380,
    "start_time": "2021-09-02T20:08:10.561Z"
   },
   {
    "duration": 868,
    "start_time": "2021-09-02T20:08:10.943Z"
   },
   {
    "duration": 14,
    "start_time": "2021-09-02T20:08:11.812Z"
   },
   {
    "duration": 112,
    "start_time": "2021-09-02T20:08:11.828Z"
   },
   {
    "duration": 109,
    "start_time": "2021-09-02T20:08:11.942Z"
   },
   {
    "duration": 231,
    "start_time": "2021-09-02T20:08:12.054Z"
   },
   {
    "duration": 3,
    "start_time": "2021-09-02T20:08:12.286Z"
   },
   {
    "duration": 5,
    "start_time": "2021-09-02T20:08:12.291Z"
   },
   {
    "duration": 5,
    "start_time": "2021-09-02T20:08:12.297Z"
   },
   {
    "duration": 23,
    "start_time": "2021-09-02T20:08:12.304Z"
   },
   {
    "duration": 9,
    "start_time": "2021-09-02T20:08:12.329Z"
   },
   {
    "duration": 46,
    "start_time": "2021-09-02T20:08:12.340Z"
   },
   {
    "duration": 11,
    "start_time": "2021-09-02T20:08:12.388Z"
   },
   {
    "duration": 965,
    "start_time": "2021-09-02T20:08:12.401Z"
   },
   {
    "duration": 285,
    "start_time": "2021-09-02T20:08:13.368Z"
   },
   {
    "duration": 6,
    "start_time": "2021-09-02T20:08:13.655Z"
   },
   {
    "duration": 23,
    "start_time": "2021-09-02T20:08:13.662Z"
   },
   {
    "duration": 6,
    "start_time": "2021-09-02T20:08:13.687Z"
   },
   {
    "duration": 28,
    "start_time": "2021-09-02T20:08:13.696Z"
   },
   {
    "duration": 501,
    "start_time": "2021-09-02T20:08:13.726Z"
   },
   {
    "duration": -45,
    "start_time": "2021-09-02T20:08:14.274Z"
   },
   {
    "duration": -52,
    "start_time": "2021-09-02T20:08:14.282Z"
   },
   {
    "duration": -58,
    "start_time": "2021-09-02T20:08:14.289Z"
   },
   {
    "duration": -65,
    "start_time": "2021-09-02T20:08:14.297Z"
   },
   {
    "duration": -71,
    "start_time": "2021-09-02T20:08:14.304Z"
   },
   {
    "duration": -77,
    "start_time": "2021-09-02T20:08:14.311Z"
   },
   {
    "duration": -83,
    "start_time": "2021-09-02T20:08:14.318Z"
   },
   {
    "duration": -90,
    "start_time": "2021-09-02T20:08:14.326Z"
   },
   {
    "duration": -96,
    "start_time": "2021-09-02T20:08:14.333Z"
   },
   {
    "duration": -103,
    "start_time": "2021-09-02T20:08:14.341Z"
   },
   {
    "duration": -108,
    "start_time": "2021-09-02T20:08:14.347Z"
   },
   {
    "duration": -125,
    "start_time": "2021-09-02T20:08:14.365Z"
   },
   {
    "duration": -132,
    "start_time": "2021-09-02T20:08:14.373Z"
   },
   {
    "duration": 43,
    "start_time": "2021-09-02T20:09:48.969Z"
   },
   {
    "duration": 37,
    "start_time": "2021-09-02T20:09:57.273Z"
   },
   {
    "duration": 28,
    "start_time": "2021-09-02T20:10:12.030Z"
   },
   {
    "duration": 30,
    "start_time": "2021-09-02T20:10:36.299Z"
   },
   {
    "duration": 18,
    "start_time": "2021-09-02T20:10:49.968Z"
   },
   {
    "duration": 215,
    "start_time": "2021-09-02T20:11:30.246Z"
   },
   {
    "duration": 125,
    "start_time": "2021-09-02T20:11:42.301Z"
   },
   {
    "duration": 776,
    "start_time": "2021-09-02T20:12:06.670Z"
   },
   {
    "duration": 1143,
    "start_time": "2021-09-02T20:12:39.393Z"
   },
   {
    "duration": 3,
    "start_time": "2021-09-02T20:12:40.537Z"
   },
   {
    "duration": 295,
    "start_time": "2021-09-02T20:12:40.542Z"
   },
   {
    "duration": 91,
    "start_time": "2021-09-02T20:12:40.839Z"
   },
   {
    "duration": 382,
    "start_time": "2021-09-02T20:12:40.932Z"
   },
   {
    "duration": 838,
    "start_time": "2021-09-02T20:12:41.315Z"
   },
   {
    "duration": 14,
    "start_time": "2021-09-02T20:12:42.155Z"
   },
   {
    "duration": 114,
    "start_time": "2021-09-02T20:12:42.171Z"
   },
   {
    "duration": 97,
    "start_time": "2021-09-02T20:12:42.288Z"
   },
   {
    "duration": 220,
    "start_time": "2021-09-02T20:12:42.387Z"
   },
   {
    "duration": 2,
    "start_time": "2021-09-02T20:12:42.608Z"
   },
   {
    "duration": 9,
    "start_time": "2021-09-02T20:12:42.612Z"
   },
   {
    "duration": 6,
    "start_time": "2021-09-02T20:12:42.622Z"
   },
   {
    "duration": 70,
    "start_time": "2021-09-02T20:12:42.629Z"
   },
   {
    "duration": 8,
    "start_time": "2021-09-02T20:12:42.701Z"
   },
   {
    "duration": 13,
    "start_time": "2021-09-02T20:12:42.710Z"
   },
   {
    "duration": 63,
    "start_time": "2021-09-02T20:12:42.725Z"
   },
   {
    "duration": 1063,
    "start_time": "2021-09-02T20:12:42.790Z"
   },
   {
    "duration": 273,
    "start_time": "2021-09-02T20:12:43.855Z"
   },
   {
    "duration": 5,
    "start_time": "2021-09-02T20:12:44.129Z"
   },
   {
    "duration": 10,
    "start_time": "2021-09-02T20:12:44.135Z"
   },
   {
    "duration": 7,
    "start_time": "2021-09-02T20:12:44.146Z"
   },
   {
    "duration": 528,
    "start_time": "2021-09-02T20:12:44.156Z"
   },
   {
    "duration": 555,
    "start_time": "2021-09-02T20:12:44.686Z"
   },
   {
    "duration": -34,
    "start_time": "2021-09-02T20:12:45.277Z"
   },
   {
    "duration": -40,
    "start_time": "2021-09-02T20:12:45.284Z"
   },
   {
    "duration": -46,
    "start_time": "2021-09-02T20:12:45.291Z"
   },
   {
    "duration": -52,
    "start_time": "2021-09-02T20:12:45.298Z"
   },
   {
    "duration": -57,
    "start_time": "2021-09-02T20:12:45.304Z"
   },
   {
    "duration": -63,
    "start_time": "2021-09-02T20:12:45.311Z"
   },
   {
    "duration": -70,
    "start_time": "2021-09-02T20:12:45.318Z"
   },
   {
    "duration": -76,
    "start_time": "2021-09-02T20:12:45.325Z"
   },
   {
    "duration": -81,
    "start_time": "2021-09-02T20:12:45.331Z"
   },
   {
    "duration": -89,
    "start_time": "2021-09-02T20:12:45.340Z"
   },
   {
    "duration": -94,
    "start_time": "2021-09-02T20:12:45.346Z"
   },
   {
    "duration": -105,
    "start_time": "2021-09-02T20:12:45.358Z"
   },
   {
    "duration": -127,
    "start_time": "2021-09-02T20:12:45.381Z"
   },
   {
    "duration": 468,
    "start_time": "2021-09-02T20:13:26.471Z"
   },
   {
    "duration": 206,
    "start_time": "2021-09-02T20:16:31.270Z"
   },
   {
    "duration": 9,
    "start_time": "2021-09-02T20:17:13.371Z"
   },
   {
    "duration": 1194,
    "start_time": "2021-09-02T20:17:34.460Z"
   },
   {
    "duration": 2,
    "start_time": "2021-09-02T20:17:35.656Z"
   },
   {
    "duration": 329,
    "start_time": "2021-09-02T20:17:35.661Z"
   },
   {
    "duration": 99,
    "start_time": "2021-09-02T20:17:35.992Z"
   },
   {
    "duration": 398,
    "start_time": "2021-09-02T20:17:36.093Z"
   },
   {
    "duration": 873,
    "start_time": "2021-09-02T20:17:36.493Z"
   },
   {
    "duration": 24,
    "start_time": "2021-09-02T20:17:37.367Z"
   },
   {
    "duration": 108,
    "start_time": "2021-09-02T20:17:37.393Z"
   },
   {
    "duration": 108,
    "start_time": "2021-09-02T20:17:37.503Z"
   },
   {
    "duration": 230,
    "start_time": "2021-09-02T20:17:37.613Z"
   },
   {
    "duration": 2,
    "start_time": "2021-09-02T20:17:37.845Z"
   },
   {
    "duration": 6,
    "start_time": "2021-09-02T20:17:37.849Z"
   },
   {
    "duration": 6,
    "start_time": "2021-09-02T20:17:37.856Z"
   },
   {
    "duration": 38,
    "start_time": "2021-09-02T20:17:37.863Z"
   },
   {
    "duration": 10,
    "start_time": "2021-09-02T20:17:37.903Z"
   },
   {
    "duration": 16,
    "start_time": "2021-09-02T20:17:37.914Z"
   },
   {
    "duration": 11,
    "start_time": "2021-09-02T20:17:37.931Z"
   },
   {
    "duration": 1040,
    "start_time": "2021-09-02T20:17:37.944Z"
   },
   {
    "duration": 284,
    "start_time": "2021-09-02T20:17:38.986Z"
   },
   {
    "duration": 13,
    "start_time": "2021-09-02T20:17:39.272Z"
   },
   {
    "duration": 7,
    "start_time": "2021-09-02T20:17:39.287Z"
   },
   {
    "duration": 11,
    "start_time": "2021-09-02T20:17:39.295Z"
   },
   {
    "duration": 275,
    "start_time": "2021-09-02T20:17:39.310Z"
   },
   {
    "duration": -87,
    "start_time": "2021-09-02T20:17:39.675Z"
   },
   {
    "duration": -95,
    "start_time": "2021-09-02T20:17:39.685Z"
   },
   {
    "duration": -109,
    "start_time": "2021-09-02T20:17:39.700Z"
   },
   {
    "duration": -119,
    "start_time": "2021-09-02T20:17:39.711Z"
   },
   {
    "duration": -202,
    "start_time": "2021-09-02T20:17:39.796Z"
   },
   {
    "duration": -226,
    "start_time": "2021-09-02T20:17:39.821Z"
   },
   {
    "duration": -252,
    "start_time": "2021-09-02T20:17:39.848Z"
   },
   {
    "duration": -268,
    "start_time": "2021-09-02T20:17:39.866Z"
   },
   {
    "duration": -293,
    "start_time": "2021-09-02T20:17:39.892Z"
   },
   {
    "duration": -302,
    "start_time": "2021-09-02T20:17:39.903Z"
   },
   {
    "duration": -311,
    "start_time": "2021-09-02T20:17:39.913Z"
   },
   {
    "duration": -317,
    "start_time": "2021-09-02T20:17:39.920Z"
   },
   {
    "duration": -330,
    "start_time": "2021-09-02T20:17:39.935Z"
   },
   {
    "duration": -341,
    "start_time": "2021-09-02T20:17:39.947Z"
   },
   {
    "duration": 16,
    "start_time": "2021-09-02T20:18:23.306Z"
   },
   {
    "duration": 333,
    "start_time": "2021-09-02T20:18:25.553Z"
   },
   {
    "duration": 312,
    "start_time": "2021-09-02T20:18:37.200Z"
   },
   {
    "duration": 6,
    "start_time": "2021-09-02T20:19:02.006Z"
   },
   {
    "duration": 9,
    "start_time": "2021-09-02T20:20:32.274Z"
   },
   {
    "duration": 14,
    "start_time": "2021-09-02T20:20:49.985Z"
   },
   {
    "duration": 333,
    "start_time": "2021-09-02T20:21:04.989Z"
   },
   {
    "duration": 999,
    "start_time": "2021-09-02T20:21:50.005Z"
   },
   {
    "duration": 17,
    "start_time": "2021-09-02T20:28:14.359Z"
   },
   {
    "duration": 739,
    "start_time": "2021-09-02T20:29:43.729Z"
   },
   {
    "duration": 735,
    "start_time": "2021-09-02T20:31:09.455Z"
   },
   {
    "duration": 747,
    "start_time": "2021-09-02T20:31:20.412Z"
   },
   {
    "duration": 1204,
    "start_time": "2021-09-02T20:31:59.261Z"
   },
   {
    "duration": 2,
    "start_time": "2021-09-02T20:32:00.467Z"
   },
   {
    "duration": 318,
    "start_time": "2021-09-02T20:32:00.471Z"
   },
   {
    "duration": 101,
    "start_time": "2021-09-02T20:32:00.791Z"
   },
   {
    "duration": 398,
    "start_time": "2021-09-02T20:32:00.894Z"
   },
   {
    "duration": 895,
    "start_time": "2021-09-02T20:32:01.294Z"
   },
   {
    "duration": 14,
    "start_time": "2021-09-02T20:32:02.191Z"
   },
   {
    "duration": 114,
    "start_time": "2021-09-02T20:32:02.207Z"
   },
   {
    "duration": 105,
    "start_time": "2021-09-02T20:32:02.323Z"
   },
   {
    "duration": 209,
    "start_time": "2021-09-02T20:32:02.430Z"
   },
   {
    "duration": 2,
    "start_time": "2021-09-02T20:32:02.641Z"
   },
   {
    "duration": 20,
    "start_time": "2021-09-02T20:32:02.645Z"
   },
   {
    "duration": 18,
    "start_time": "2021-09-02T20:32:02.667Z"
   },
   {
    "duration": 41,
    "start_time": "2021-09-02T20:32:02.686Z"
   },
   {
    "duration": 32,
    "start_time": "2021-09-02T20:32:02.729Z"
   },
   {
    "duration": 14,
    "start_time": "2021-09-02T20:32:02.762Z"
   },
   {
    "duration": 12,
    "start_time": "2021-09-02T20:32:02.777Z"
   },
   {
    "duration": 947,
    "start_time": "2021-09-02T20:32:02.790Z"
   },
   {
    "duration": 271,
    "start_time": "2021-09-02T20:32:03.738Z"
   },
   {
    "duration": 5,
    "start_time": "2021-09-02T20:32:04.010Z"
   },
   {
    "duration": 46,
    "start_time": "2021-09-02T20:32:04.016Z"
   },
   {
    "duration": 785,
    "start_time": "2021-09-02T20:32:04.064Z"
   },
   {
    "duration": 3,
    "start_time": "2021-09-02T20:32:04.852Z"
   },
   {
    "duration": 22,
    "start_time": "2021-09-02T20:32:04.857Z"
   },
   {
    "duration": 23,
    "start_time": "2021-09-02T20:32:04.881Z"
   },
   {
    "duration": 39,
    "start_time": "2021-09-02T20:32:04.905Z"
   },
   {
    "duration": 25,
    "start_time": "2021-09-02T20:32:04.946Z"
   },
   {
    "duration": 212,
    "start_time": "2021-09-02T20:32:04.973Z"
   },
   {
    "duration": 299,
    "start_time": "2021-09-02T20:32:05.187Z"
   },
   {
    "duration": 4535,
    "start_time": "2021-09-02T20:32:05.488Z"
   },
   {
    "duration": 1266,
    "start_time": "2021-09-02T20:32:10.024Z"
   },
   {
    "duration": 26901,
    "start_time": "2021-09-02T20:32:11.292Z"
   },
   {
    "duration": 3,
    "start_time": "2021-09-02T20:32:38.195Z"
   },
   {
    "duration": 386,
    "start_time": "2021-09-02T20:32:38.199Z"
   },
   {
    "duration": -73,
    "start_time": "2021-09-02T20:32:38.660Z"
   },
   {
    "duration": 13,
    "start_time": "2021-09-02T20:33:37.396Z"
   },
   {
    "duration": 14,
    "start_time": "2021-09-02T20:33:38.363Z"
   },
   {
    "duration": 709,
    "start_time": "2021-09-02T20:33:43.340Z"
   },
   {
    "duration": 1127,
    "start_time": "2021-09-02T20:33:51.018Z"
   },
   {
    "duration": 3,
    "start_time": "2021-09-02T20:33:52.146Z"
   },
   {
    "duration": 295,
    "start_time": "2021-09-02T20:33:52.151Z"
   },
   {
    "duration": 92,
    "start_time": "2021-09-02T20:33:52.448Z"
   },
   {
    "duration": 368,
    "start_time": "2021-09-02T20:33:52.542Z"
   },
   {
    "duration": 835,
    "start_time": "2021-09-02T20:33:52.912Z"
   },
   {
    "duration": 14,
    "start_time": "2021-09-02T20:33:53.749Z"
   },
   {
    "duration": 121,
    "start_time": "2021-09-02T20:33:53.766Z"
   },
   {
    "duration": 100,
    "start_time": "2021-09-02T20:33:53.889Z"
   },
   {
    "duration": 214,
    "start_time": "2021-09-02T20:33:53.992Z"
   },
   {
    "duration": 3,
    "start_time": "2021-09-02T20:33:54.208Z"
   },
   {
    "duration": 8,
    "start_time": "2021-09-02T20:33:54.213Z"
   },
   {
    "duration": 5,
    "start_time": "2021-09-02T20:33:54.222Z"
   },
   {
    "duration": 21,
    "start_time": "2021-09-02T20:33:54.229Z"
   },
   {
    "duration": 8,
    "start_time": "2021-09-02T20:33:54.252Z"
   },
   {
    "duration": 32,
    "start_time": "2021-09-02T20:33:54.261Z"
   },
   {
    "duration": 11,
    "start_time": "2021-09-02T20:33:54.294Z"
   },
   {
    "duration": 995,
    "start_time": "2021-09-02T20:33:54.308Z"
   },
   {
    "duration": 281,
    "start_time": "2021-09-02T20:33:55.304Z"
   },
   {
    "duration": 4,
    "start_time": "2021-09-02T20:33:55.587Z"
   },
   {
    "duration": 20,
    "start_time": "2021-09-02T20:33:55.592Z"
   },
   {
    "duration": 12,
    "start_time": "2021-09-02T20:33:55.614Z"
   },
   {
    "duration": 756,
    "start_time": "2021-09-02T20:33:55.629Z"
   },
   {
    "duration": 2,
    "start_time": "2021-09-02T20:33:56.387Z"
   },
   {
    "duration": 22,
    "start_time": "2021-09-02T20:33:56.391Z"
   },
   {
    "duration": 22,
    "start_time": "2021-09-02T20:33:56.414Z"
   },
   {
    "duration": 21,
    "start_time": "2021-09-02T20:33:56.438Z"
   },
   {
    "duration": 8,
    "start_time": "2021-09-02T20:33:56.460Z"
   },
   {
    "duration": 217,
    "start_time": "2021-09-02T20:33:56.469Z"
   },
   {
    "duration": 205,
    "start_time": "2021-09-02T20:33:56.688Z"
   },
   {
    "duration": 4733,
    "start_time": "2021-09-02T20:33:56.986Z"
   },
   {
    "duration": 1565,
    "start_time": "2021-09-02T20:34:01.721Z"
   },
   {
    "duration": 1132,
    "start_time": "2021-09-02T20:34:31.105Z"
   },
   {
    "duration": 3,
    "start_time": "2021-09-02T20:34:32.238Z"
   },
   {
    "duration": 309,
    "start_time": "2021-09-02T20:34:32.243Z"
   },
   {
    "duration": 94,
    "start_time": "2021-09-02T20:34:32.554Z"
   },
   {
    "duration": 374,
    "start_time": "2021-09-02T20:34:32.650Z"
   },
   {
    "duration": 862,
    "start_time": "2021-09-02T20:34:33.026Z"
   },
   {
    "duration": 15,
    "start_time": "2021-09-02T20:34:33.890Z"
   },
   {
    "duration": 115,
    "start_time": "2021-09-02T20:34:33.908Z"
   },
   {
    "duration": 102,
    "start_time": "2021-09-02T20:34:34.025Z"
   },
   {
    "duration": 221,
    "start_time": "2021-09-02T20:34:34.129Z"
   },
   {
    "duration": 2,
    "start_time": "2021-09-02T20:34:34.352Z"
   },
   {
    "duration": 12,
    "start_time": "2021-09-02T20:34:34.356Z"
   },
   {
    "duration": 6,
    "start_time": "2021-09-02T20:34:34.369Z"
   },
   {
    "duration": 40,
    "start_time": "2021-09-02T20:34:34.376Z"
   },
   {
    "duration": 9,
    "start_time": "2021-09-02T20:34:34.418Z"
   },
   {
    "duration": 15,
    "start_time": "2021-09-02T20:34:34.429Z"
   },
   {
    "duration": 10,
    "start_time": "2021-09-02T20:34:34.446Z"
   },
   {
    "duration": 989,
    "start_time": "2021-09-02T20:34:34.458Z"
   },
   {
    "duration": 287,
    "start_time": "2021-09-02T20:34:35.449Z"
   },
   {
    "duration": 6,
    "start_time": "2021-09-02T20:34:35.737Z"
   },
   {
    "duration": 15,
    "start_time": "2021-09-02T20:34:35.745Z"
   },
   {
    "duration": 30,
    "start_time": "2021-09-02T20:34:35.762Z"
   },
   {
    "duration": 734,
    "start_time": "2021-09-02T20:34:35.795Z"
   },
   {
    "duration": 4,
    "start_time": "2021-09-02T20:34:36.531Z"
   },
   {
    "duration": 5,
    "start_time": "2021-09-02T20:34:36.537Z"
   },
   {
    "duration": 11,
    "start_time": "2021-09-02T20:34:36.543Z"
   },
   {
    "duration": 32,
    "start_time": "2021-09-02T20:34:36.555Z"
   },
   {
    "duration": 5,
    "start_time": "2021-09-02T20:34:36.588Z"
   },
   {
    "duration": 194,
    "start_time": "2021-09-02T20:34:36.595Z"
   },
   {
    "duration": 293,
    "start_time": "2021-09-02T20:34:36.791Z"
   },
   {
    "duration": 4728,
    "start_time": "2021-09-02T20:34:37.087Z"
   },
   {
    "duration": 974,
    "start_time": "2021-09-02T20:34:41.817Z"
   },
   {
    "duration": 26528,
    "start_time": "2021-09-02T20:34:42.793Z"
   },
   {
    "duration": 3,
    "start_time": "2021-09-02T20:35:09.323Z"
   },
   {
    "duration": 1622,
    "start_time": "2021-09-02T20:35:09.327Z"
   },
   {
    "duration": 3,
    "start_time": "2021-09-02T20:36:34.099Z"
   },
   {
    "duration": 3,
    "start_time": "2021-09-02T20:36:48.453Z"
   },
   {
    "duration": 3,
    "start_time": "2021-09-02T20:37:06.103Z"
   },
   {
    "duration": 315,
    "start_time": "2021-09-02T20:41:09.739Z"
   },
   {
    "duration": 1188,
    "start_time": "2021-09-02T20:41:25.741Z"
   },
   {
    "duration": 3,
    "start_time": "2021-09-02T20:41:26.931Z"
   },
   {
    "duration": 307,
    "start_time": "2021-09-02T20:41:26.936Z"
   },
   {
    "duration": 97,
    "start_time": "2021-09-02T20:41:27.246Z"
   },
   {
    "duration": 384,
    "start_time": "2021-09-02T20:41:27.344Z"
   },
   {
    "duration": 860,
    "start_time": "2021-09-02T20:41:27.730Z"
   },
   {
    "duration": 17,
    "start_time": "2021-09-02T20:41:28.592Z"
   },
   {
    "duration": 121,
    "start_time": "2021-09-02T20:41:28.610Z"
   },
   {
    "duration": 109,
    "start_time": "2021-09-02T20:41:28.734Z"
   },
   {
    "duration": 217,
    "start_time": "2021-09-02T20:41:28.846Z"
   },
   {
    "duration": 3,
    "start_time": "2021-09-02T20:41:29.065Z"
   },
   {
    "duration": 3,
    "start_time": "2021-09-02T20:41:29.084Z"
   },
   {
    "duration": 5,
    "start_time": "2021-09-02T20:41:29.088Z"
   },
   {
    "duration": 22,
    "start_time": "2021-09-02T20:41:29.094Z"
   },
   {
    "duration": 8,
    "start_time": "2021-09-02T20:41:29.117Z"
   },
   {
    "duration": 14,
    "start_time": "2021-09-02T20:41:29.126Z"
   },
   {
    "duration": 10,
    "start_time": "2021-09-02T20:41:29.142Z"
   },
   {
    "duration": 980,
    "start_time": "2021-09-02T20:41:29.153Z"
   },
   {
    "duration": 292,
    "start_time": "2021-09-02T20:41:30.135Z"
   },
   {
    "duration": 5,
    "start_time": "2021-09-02T20:41:30.429Z"
   },
   {
    "duration": 17,
    "start_time": "2021-09-02T20:41:30.435Z"
   },
   {
    "duration": 13,
    "start_time": "2021-09-02T20:41:30.454Z"
   },
   {
    "duration": 733,
    "start_time": "2021-09-02T20:41:30.484Z"
   },
   {
    "duration": 4,
    "start_time": "2021-09-02T20:41:31.219Z"
   },
   {
    "duration": 9,
    "start_time": "2021-09-02T20:41:31.225Z"
   },
   {
    "duration": 15,
    "start_time": "2021-09-02T20:41:31.236Z"
   },
   {
    "duration": 17,
    "start_time": "2021-09-02T20:41:31.254Z"
   },
   {
    "duration": 6,
    "start_time": "2021-09-02T20:41:31.285Z"
   },
   {
    "duration": 193,
    "start_time": "2021-09-02T20:41:31.293Z"
   },
   {
    "duration": 297,
    "start_time": "2021-09-02T20:41:31.488Z"
   },
   {
    "duration": 4644,
    "start_time": "2021-09-02T20:41:31.787Z"
   },
   {
    "duration": 1253,
    "start_time": "2021-09-02T20:41:36.432Z"
   },
   {
    "duration": 26282,
    "start_time": "2021-09-02T20:41:37.687Z"
   },
   {
    "duration": 4,
    "start_time": "2021-09-02T20:42:03.971Z"
   },
   {
    "duration": 396,
    "start_time": "2021-09-02T20:42:03.977Z"
   },
   {
    "duration": 291,
    "start_time": "2021-09-02T20:49:09.907Z"
   },
   {
    "duration": 188,
    "start_time": "2021-09-02T20:49:36.975Z"
   },
   {
    "duration": 17851,
    "start_time": "2021-09-02T20:49:55.434Z"
   },
   {
    "duration": 293,
    "start_time": "2021-09-02T20:53:57.036Z"
   },
   {
    "duration": 1573662,
    "start_time": "2021-09-02T21:09:40.440Z"
   },
   {
    "duration": 304505,
    "start_time": "2021-09-02T21:36:43.902Z"
   },
   {
    "duration": 18864,
    "start_time": "2021-09-02T21:42:21.626Z"
   },
   {
    "duration": 23611,
    "start_time": "2021-09-02T21:44:33.374Z"
   },
   {
    "duration": 20408,
    "start_time": "2021-09-02T21:49:16.879Z"
   },
   {
    "duration": 20651,
    "start_time": "2021-09-02T21:50:09.534Z"
   },
   {
    "duration": 311673,
    "start_time": "2021-09-02T21:51:03.822Z"
   },
   {
    "duration": 185,
    "start_time": "2021-09-02T21:57:44.954Z"
   },
   {
    "duration": 8,
    "start_time": "2021-09-02T21:58:32.312Z"
   },
   {
    "duration": 14,
    "start_time": "2021-09-02T21:59:51.887Z"
   },
   {
    "duration": 13,
    "start_time": "2021-09-02T22:00:05.666Z"
   },
   {
    "duration": 184,
    "start_time": "2021-09-02T22:00:08.397Z"
   },
   {
    "duration": 1132,
    "start_time": "2021-09-02T22:00:20.320Z"
   },
   {
    "duration": 3,
    "start_time": "2021-09-02T22:00:21.454Z"
   },
   {
    "duration": 305,
    "start_time": "2021-09-02T22:00:21.459Z"
   },
   {
    "duration": 96,
    "start_time": "2021-09-02T22:00:21.766Z"
   },
   {
    "duration": 380,
    "start_time": "2021-09-02T22:00:21.863Z"
   },
   {
    "duration": 887,
    "start_time": "2021-09-02T22:00:22.245Z"
   },
   {
    "duration": 14,
    "start_time": "2021-09-02T22:00:23.134Z"
   },
   {
    "duration": 118,
    "start_time": "2021-09-02T22:00:23.151Z"
   },
   {
    "duration": 120,
    "start_time": "2021-09-02T22:00:23.271Z"
   },
   {
    "duration": 222,
    "start_time": "2021-09-02T22:00:23.393Z"
   },
   {
    "duration": 2,
    "start_time": "2021-09-02T22:00:23.617Z"
   },
   {
    "duration": 5,
    "start_time": "2021-09-02T22:00:23.621Z"
   },
   {
    "duration": 5,
    "start_time": "2021-09-02T22:00:23.628Z"
   },
   {
    "duration": 24,
    "start_time": "2021-09-02T22:00:23.634Z"
   },
   {
    "duration": 26,
    "start_time": "2021-09-02T22:00:23.659Z"
   },
   {
    "duration": 17,
    "start_time": "2021-09-02T22:00:23.686Z"
   },
   {
    "duration": 12,
    "start_time": "2021-09-02T22:00:23.705Z"
   },
   {
    "duration": 1030,
    "start_time": "2021-09-02T22:00:23.719Z"
   },
   {
    "duration": 279,
    "start_time": "2021-09-02T22:00:24.751Z"
   },
   {
    "duration": 5,
    "start_time": "2021-09-02T22:00:25.032Z"
   },
   {
    "duration": 29,
    "start_time": "2021-09-02T22:00:25.038Z"
   },
   {
    "duration": 19,
    "start_time": "2021-09-02T22:00:25.069Z"
   },
   {
    "duration": 786,
    "start_time": "2021-09-02T22:00:25.091Z"
   },
   {
    "duration": 44,
    "start_time": "2021-09-02T22:00:25.837Z"
   },
   {
    "duration": 36,
    "start_time": "2021-09-02T22:00:25.846Z"
   },
   {
    "duration": 30,
    "start_time": "2021-09-02T22:00:25.854Z"
   },
   {
    "duration": 21,
    "start_time": "2021-09-02T22:00:25.864Z"
   },
   {
    "duration": 15,
    "start_time": "2021-09-02T22:00:25.872Z"
   },
   {
    "duration": 11,
    "start_time": "2021-09-02T22:00:25.878Z"
   },
   {
    "duration": 4,
    "start_time": "2021-09-02T22:00:25.886Z"
   },
   {
    "duration": -2,
    "start_time": "2021-09-02T22:00:25.894Z"
   },
   {
    "duration": -9,
    "start_time": "2021-09-02T22:00:25.902Z"
   },
   {
    "duration": -14,
    "start_time": "2021-09-02T22:00:25.909Z"
   },
   {
    "duration": -21,
    "start_time": "2021-09-02T22:00:25.917Z"
   },
   {
    "duration": -84,
    "start_time": "2021-09-02T22:00:25.982Z"
   },
   {
    "duration": -92,
    "start_time": "2021-09-02T22:00:25.991Z"
   },
   {
    "duration": -98,
    "start_time": "2021-09-02T22:00:25.999Z"
   },
   {
    "duration": 1134,
    "start_time": "2021-09-02T22:00:50.808Z"
   },
   {
    "duration": 2,
    "start_time": "2021-09-02T22:00:51.944Z"
   },
   {
    "duration": 295,
    "start_time": "2021-09-02T22:00:51.950Z"
   },
   {
    "duration": 93,
    "start_time": "2021-09-02T22:00:52.247Z"
   },
   {
    "duration": 372,
    "start_time": "2021-09-02T22:00:52.342Z"
   },
   {
    "duration": 824,
    "start_time": "2021-09-02T22:00:52.715Z"
   },
   {
    "duration": 14,
    "start_time": "2021-09-02T22:00:53.541Z"
   },
   {
    "duration": 104,
    "start_time": "2021-09-02T22:00:53.557Z"
   },
   {
    "duration": 101,
    "start_time": "2021-09-02T22:00:53.662Z"
   },
   {
    "duration": 212,
    "start_time": "2021-09-02T22:00:53.764Z"
   },
   {
    "duration": 7,
    "start_time": "2021-09-02T22:00:53.978Z"
   },
   {
    "duration": 6,
    "start_time": "2021-09-02T22:00:53.986Z"
   },
   {
    "duration": 5,
    "start_time": "2021-09-02T22:00:53.993Z"
   },
   {
    "duration": 22,
    "start_time": "2021-09-02T22:00:53.999Z"
   },
   {
    "duration": 7,
    "start_time": "2021-09-02T22:00:54.022Z"
   },
   {
    "duration": 13,
    "start_time": "2021-09-02T22:00:54.031Z"
   },
   {
    "duration": 9,
    "start_time": "2021-09-02T22:00:54.045Z"
   },
   {
    "duration": 967,
    "start_time": "2021-09-02T22:00:54.055Z"
   },
   {
    "duration": 282,
    "start_time": "2021-09-02T22:00:55.024Z"
   },
   {
    "duration": 5,
    "start_time": "2021-09-02T22:00:55.308Z"
   },
   {
    "duration": 18,
    "start_time": "2021-09-02T22:00:55.315Z"
   },
   {
    "duration": 13,
    "start_time": "2021-09-02T22:00:55.337Z"
   },
   {
    "duration": 736,
    "start_time": "2021-09-02T22:00:55.352Z"
   },
   {
    "duration": 4,
    "start_time": "2021-09-02T22:00:56.090Z"
   },
   {
    "duration": 5,
    "start_time": "2021-09-02T22:00:56.096Z"
   },
   {
    "duration": 10,
    "start_time": "2021-09-02T22:00:56.102Z"
   },
   {
    "duration": 15,
    "start_time": "2021-09-02T22:00:56.114Z"
   },
   {
    "duration": 5,
    "start_time": "2021-09-02T22:00:56.131Z"
   },
   {
    "duration": 152,
    "start_time": "2021-09-02T22:00:56.138Z"
   },
   {
    "duration": 293,
    "start_time": "2021-09-02T22:00:56.292Z"
   },
   {
    "duration": 4464,
    "start_time": "2021-09-02T22:00:56.587Z"
   },
   {
    "duration": 840,
    "start_time": "2021-09-02T22:01:01.053Z"
   },
   {
    "duration": 26563,
    "start_time": "2021-09-02T22:01:01.895Z"
   },
   {
    "duration": 3,
    "start_time": "2021-09-02T22:01:28.459Z"
   },
   {
    "duration": 19926,
    "start_time": "2021-09-02T22:01:28.464Z"
   },
   {
    "duration": 98,
    "start_time": "2021-09-02T22:01:48.395Z"
   },
   {
    "duration": 3,
    "start_time": "2021-09-02T22:01:48.494Z"
   },
   {
    "duration": 3,
    "start_time": "2021-09-02T22:01:51.187Z"
   },
   {
    "duration": 3,
    "start_time": "2021-09-02T22:02:06.634Z"
   },
   {
    "duration": 3,
    "start_time": "2021-09-02T22:02:16.933Z"
   },
   {
    "duration": 361,
    "start_time": "2021-09-02T22:02:20.277Z"
   },
   {
    "duration": 12,
    "start_time": "2021-09-02T22:02:51.366Z"
   },
   {
    "duration": 2,
    "start_time": "2021-09-02T22:02:52.134Z"
   },
   {
    "duration": 3,
    "start_time": "2021-09-02T22:02:52.816Z"
   },
   {
    "duration": 370,
    "start_time": "2021-09-02T22:02:54.184Z"
   },
   {
    "duration": 208,
    "start_time": "2021-09-02T22:03:30.937Z"
   },
   {
    "duration": 4,
    "start_time": "2021-09-02T22:03:39.439Z"
   },
   {
    "duration": 17,
    "start_time": "2021-09-02T22:03:40.955Z"
   },
   {
    "duration": 3,
    "start_time": "2021-09-02T22:03:41.648Z"
   },
   {
    "duration": 3,
    "start_time": "2021-09-02T22:03:42.249Z"
   },
   {
    "duration": 266,
    "start_time": "2021-09-02T22:03:43.148Z"
   },
   {
    "duration": 177,
    "start_time": "2021-09-02T22:16:20.333Z"
   },
   {
    "duration": 177,
    "start_time": "2021-09-02T22:16:29.885Z"
   },
   {
    "duration": 1091,
    "start_time": "2021-09-02T22:31:45.856Z"
   },
   {
    "duration": 2,
    "start_time": "2021-09-02T22:31:46.949Z"
   },
   {
    "duration": 309,
    "start_time": "2021-09-02T22:31:46.953Z"
   },
   {
    "duration": 93,
    "start_time": "2021-09-02T22:31:47.264Z"
   },
   {
    "duration": 386,
    "start_time": "2021-09-02T22:31:47.359Z"
   },
   {
    "duration": 871,
    "start_time": "2021-09-02T22:31:47.747Z"
   },
   {
    "duration": 15,
    "start_time": "2021-09-02T22:31:48.620Z"
   },
   {
    "duration": 115,
    "start_time": "2021-09-02T22:31:48.637Z"
   },
   {
    "duration": 105,
    "start_time": "2021-09-02T22:31:48.754Z"
   },
   {
    "duration": 213,
    "start_time": "2021-09-02T22:31:48.861Z"
   },
   {
    "duration": 2,
    "start_time": "2021-09-02T22:31:49.076Z"
   },
   {
    "duration": 2,
    "start_time": "2021-09-02T22:31:49.085Z"
   },
   {
    "duration": 7,
    "start_time": "2021-09-02T22:31:49.088Z"
   },
   {
    "duration": 24,
    "start_time": "2021-09-02T22:31:49.097Z"
   },
   {
    "duration": 8,
    "start_time": "2021-09-02T22:31:49.123Z"
   },
   {
    "duration": 15,
    "start_time": "2021-09-02T22:31:49.133Z"
   },
   {
    "duration": 10,
    "start_time": "2021-09-02T22:31:49.149Z"
   },
   {
    "duration": 972,
    "start_time": "2021-09-02T22:31:49.184Z"
   },
   {
    "duration": 276,
    "start_time": "2021-09-02T22:31:50.158Z"
   },
   {
    "duration": 5,
    "start_time": "2021-09-02T22:31:50.435Z"
   },
   {
    "duration": 18,
    "start_time": "2021-09-02T22:31:50.442Z"
   },
   {
    "duration": 27,
    "start_time": "2021-09-02T22:31:50.461Z"
   },
   {
    "duration": 727,
    "start_time": "2021-09-02T22:31:50.490Z"
   },
   {
    "duration": 2,
    "start_time": "2021-09-02T22:31:51.219Z"
   },
   {
    "duration": 5,
    "start_time": "2021-09-02T22:31:51.223Z"
   },
   {
    "duration": 10,
    "start_time": "2021-09-02T22:31:51.229Z"
   },
   {
    "duration": 17,
    "start_time": "2021-09-02T22:31:51.240Z"
   },
   {
    "duration": 5,
    "start_time": "2021-09-02T22:31:51.258Z"
   },
   {
    "duration": 221,
    "start_time": "2021-09-02T22:31:51.264Z"
   },
   {
    "duration": 198,
    "start_time": "2021-09-02T22:31:51.487Z"
   },
   {
    "duration": 4507,
    "start_time": "2021-09-02T22:31:51.688Z"
   },
   {
    "duration": 991,
    "start_time": "2021-09-02T22:31:56.197Z"
   },
   {
    "duration": 26654,
    "start_time": "2021-09-02T22:31:57.190Z"
   },
   {
    "duration": 3,
    "start_time": "2021-09-02T22:32:23.846Z"
   },
   {
    "duration": 18836,
    "start_time": "2021-09-02T22:32:23.851Z"
   },
   {
    "duration": 3111,
    "start_time": "2021-09-02T22:33:23.180Z"
   },
   {
    "duration": 53949,
    "start_time": "2021-09-02T22:33:27.838Z"
   },
   {
    "duration": 1090,
    "start_time": "2021-09-02T22:34:31.800Z"
   },
   {
    "duration": 26263,
    "start_time": "2021-09-02T22:34:32.895Z"
   },
   {
    "duration": 1087,
    "start_time": "2021-09-02T22:35:13.051Z"
   },
   {
    "duration": 3,
    "start_time": "2021-09-02T22:35:14.139Z"
   },
   {
    "duration": 310,
    "start_time": "2021-09-02T22:35:14.143Z"
   },
   {
    "duration": 100,
    "start_time": "2021-09-02T22:35:14.455Z"
   },
   {
    "duration": 387,
    "start_time": "2021-09-02T22:35:14.556Z"
   },
   {
    "duration": 867,
    "start_time": "2021-09-02T22:35:14.945Z"
   },
   {
    "duration": 16,
    "start_time": "2021-09-02T22:35:15.814Z"
   },
   {
    "duration": 112,
    "start_time": "2021-09-02T22:35:15.833Z"
   },
   {
    "duration": 105,
    "start_time": "2021-09-02T22:35:15.948Z"
   },
   {
    "duration": 213,
    "start_time": "2021-09-02T22:35:16.055Z"
   },
   {
    "duration": 2,
    "start_time": "2021-09-02T22:35:16.270Z"
   },
   {
    "duration": 11,
    "start_time": "2021-09-02T22:35:16.273Z"
   },
   {
    "duration": 2,
    "start_time": "2021-09-02T22:35:16.286Z"
   },
   {
    "duration": 23,
    "start_time": "2021-09-02T22:35:16.290Z"
   },
   {
    "duration": 8,
    "start_time": "2021-09-02T22:35:16.315Z"
   },
   {
    "duration": 14,
    "start_time": "2021-09-02T22:35:16.324Z"
   },
   {
    "duration": 9,
    "start_time": "2021-09-02T22:35:16.340Z"
   },
   {
    "duration": 990,
    "start_time": "2021-09-02T22:35:16.351Z"
   },
   {
    "duration": 280,
    "start_time": "2021-09-02T22:35:17.342Z"
   },
   {
    "duration": 4,
    "start_time": "2021-09-02T22:35:17.623Z"
   },
   {
    "duration": 16,
    "start_time": "2021-09-02T22:35:17.629Z"
   },
   {
    "duration": 13,
    "start_time": "2021-09-02T22:35:17.647Z"
   },
   {
    "duration": 761,
    "start_time": "2021-09-02T22:35:17.662Z"
   },
   {
    "duration": 2,
    "start_time": "2021-09-02T22:35:18.425Z"
   },
   {
    "duration": 5,
    "start_time": "2021-09-02T22:35:18.429Z"
   },
   {
    "duration": 11,
    "start_time": "2021-09-02T22:35:18.435Z"
   },
   {
    "duration": 14,
    "start_time": "2021-09-02T22:35:18.448Z"
   },
   {
    "duration": 4,
    "start_time": "2021-09-02T22:35:18.464Z"
   },
   {
    "duration": 204,
    "start_time": "2021-09-02T22:35:18.485Z"
   },
   {
    "duration": 301,
    "start_time": "2021-09-02T22:35:18.692Z"
   },
   {
    "duration": 4641,
    "start_time": "2021-09-02T22:35:18.995Z"
   },
   {
    "duration": 1148,
    "start_time": "2021-09-02T22:35:23.638Z"
   },
   {
    "duration": 26529,
    "start_time": "2021-09-02T22:35:24.789Z"
   },
   {
    "duration": 3,
    "start_time": "2021-09-02T22:35:51.319Z"
   },
   {
    "duration": 18567,
    "start_time": "2021-09-02T22:35:51.324Z"
   },
   {
    "duration": 1585,
    "start_time": "2021-09-03T15:50:40.188Z"
   },
   {
    "duration": 8,
    "start_time": "2021-09-03T15:50:41.776Z"
   },
   {
    "duration": 346,
    "start_time": "2021-09-03T15:50:41.786Z"
   },
   {
    "duration": 110,
    "start_time": "2021-09-03T15:50:42.135Z"
   },
   {
    "duration": 442,
    "start_time": "2021-09-03T15:50:42.247Z"
   },
   {
    "duration": 1302,
    "start_time": "2021-09-03T15:50:42.692Z"
   },
   {
    "duration": 21,
    "start_time": "2021-09-03T15:50:43.997Z"
   },
   {
    "duration": 77,
    "start_time": "2021-09-03T15:50:44.025Z"
   },
   {
    "duration": 187,
    "start_time": "2021-09-03T15:50:44.105Z"
   },
   {
    "duration": 279,
    "start_time": "2021-09-03T15:50:44.294Z"
   },
   {
    "duration": 3,
    "start_time": "2021-09-03T15:50:44.582Z"
   },
   {
    "duration": 7,
    "start_time": "2021-09-03T15:50:44.587Z"
   },
   {
    "duration": 6,
    "start_time": "2021-09-03T15:50:44.597Z"
   },
   {
    "duration": 25,
    "start_time": "2021-09-03T15:50:44.605Z"
   },
   {
    "duration": 11,
    "start_time": "2021-09-03T15:50:44.632Z"
   },
   {
    "duration": 44,
    "start_time": "2021-09-03T15:50:44.645Z"
   },
   {
    "duration": 19,
    "start_time": "2021-09-03T15:50:44.693Z"
   },
   {
    "duration": 3786,
    "start_time": "2021-09-03T15:50:44.714Z"
   },
   {
    "duration": 725,
    "start_time": "2021-09-03T15:50:48.502Z"
   },
   {
    "duration": 8,
    "start_time": "2021-09-03T15:50:49.230Z"
   },
   {
    "duration": 26,
    "start_time": "2021-09-03T15:50:49.240Z"
   },
   {
    "duration": 26,
    "start_time": "2021-09-03T15:50:49.282Z"
   },
   {
    "duration": 1140,
    "start_time": "2021-09-03T15:50:49.312Z"
   },
   {
    "duration": 4,
    "start_time": "2021-09-03T15:50:50.455Z"
   },
   {
    "duration": 8,
    "start_time": "2021-09-03T15:50:50.461Z"
   },
   {
    "duration": 15,
    "start_time": "2021-09-03T15:50:50.484Z"
   },
   {
    "duration": 22,
    "start_time": "2021-09-03T15:50:50.501Z"
   },
   {
    "duration": 6,
    "start_time": "2021-09-03T15:50:50.526Z"
   },
   {
    "duration": 250,
    "start_time": "2021-09-03T15:50:50.535Z"
   },
   {
    "duration": 399,
    "start_time": "2021-09-03T15:50:50.788Z"
   },
   {
    "duration": 5690,
    "start_time": "2021-09-03T15:50:51.192Z"
   },
   {
    "duration": 1302,
    "start_time": "2021-09-03T15:50:56.885Z"
   },
   {
    "duration": 33611,
    "start_time": "2021-09-03T15:50:58.191Z"
   },
   {
    "duration": 5,
    "start_time": "2021-09-03T15:51:31.804Z"
   },
   {
    "duration": 21171,
    "start_time": "2021-09-03T15:51:31.812Z"
   },
   {
    "duration": 1664,
    "start_time": "2021-09-03T17:56:37.713Z"
   },
   {
    "duration": 3,
    "start_time": "2021-09-03T17:56:39.380Z"
   },
   {
    "duration": 350,
    "start_time": "2021-09-03T17:56:39.387Z"
   },
   {
    "duration": 119,
    "start_time": "2021-09-03T17:56:39.739Z"
   },
   {
    "duration": 461,
    "start_time": "2021-09-03T17:56:39.861Z"
   },
   {
    "duration": 1268,
    "start_time": "2021-09-03T17:56:40.325Z"
   },
   {
    "duration": 19,
    "start_time": "2021-09-03T17:56:41.595Z"
   },
   {
    "duration": 79,
    "start_time": "2021-09-03T17:56:41.618Z"
   },
   {
    "duration": 204,
    "start_time": "2021-09-03T17:56:41.701Z"
   },
   {
    "duration": 288,
    "start_time": "2021-09-03T17:56:41.907Z"
   },
   {
    "duration": 4,
    "start_time": "2021-09-03T17:56:42.197Z"
   },
   {
    "duration": 16,
    "start_time": "2021-09-03T17:56:42.203Z"
   },
   {
    "duration": 8,
    "start_time": "2021-09-03T17:56:42.222Z"
   },
   {
    "duration": 33,
    "start_time": "2021-09-03T17:56:42.232Z"
   },
   {
    "duration": 22,
    "start_time": "2021-09-03T17:56:42.268Z"
   },
   {
    "duration": 19,
    "start_time": "2021-09-03T17:56:42.293Z"
   },
   {
    "duration": 16,
    "start_time": "2021-09-03T17:56:42.315Z"
   },
   {
    "duration": 3848,
    "start_time": "2021-09-03T17:56:42.334Z"
   },
   {
    "duration": 645,
    "start_time": "2021-09-03T17:56:46.185Z"
   },
   {
    "duration": 6,
    "start_time": "2021-09-03T17:56:46.833Z"
   },
   {
    "duration": 41,
    "start_time": "2021-09-03T17:56:46.842Z"
   },
   {
    "duration": 28,
    "start_time": "2021-09-03T17:56:46.885Z"
   },
   {
    "duration": 1137,
    "start_time": "2021-09-03T17:56:46.918Z"
   },
   {
    "duration": 4,
    "start_time": "2021-09-03T17:56:48.058Z"
   },
   {
    "duration": 18,
    "start_time": "2021-09-03T17:56:48.064Z"
   },
   {
    "duration": 12,
    "start_time": "2021-09-03T17:56:48.084Z"
   },
   {
    "duration": 23,
    "start_time": "2021-09-03T17:56:48.098Z"
   },
   {
    "duration": 7,
    "start_time": "2021-09-03T17:56:48.123Z"
   },
   {
    "duration": 352,
    "start_time": "2021-09-03T17:56:48.133Z"
   },
   {
    "duration": 337,
    "start_time": "2021-09-03T17:56:48.488Z"
   },
   {
    "duration": 8440,
    "start_time": "2021-09-03T17:56:48.828Z"
   },
   {
    "duration": 1613,
    "start_time": "2021-09-03T17:56:57.272Z"
   },
   {
    "duration": 36666,
    "start_time": "2021-09-03T17:56:58.888Z"
   },
   {
    "duration": 6,
    "start_time": "2021-09-03T17:57:35.557Z"
   },
   {
    "duration": 30131,
    "start_time": "2021-09-03T17:57:35.566Z"
   },
   {
    "duration": 1888,
    "start_time": "2021-09-03T19:39:25.362Z"
   },
   {
    "duration": 4,
    "start_time": "2021-09-03T19:39:27.253Z"
   },
   {
    "duration": 500,
    "start_time": "2021-09-03T19:39:27.260Z"
   },
   {
    "duration": 136,
    "start_time": "2021-09-03T19:39:27.763Z"
   },
   {
    "duration": 488,
    "start_time": "2021-09-03T19:39:27.902Z"
   },
   {
    "duration": 1570,
    "start_time": "2021-09-03T19:39:28.392Z"
   },
   {
    "duration": 21,
    "start_time": "2021-09-03T19:39:29.964Z"
   },
   {
    "duration": 212,
    "start_time": "2021-09-03T19:39:29.989Z"
   },
   {
    "duration": 213,
    "start_time": "2021-09-03T19:39:30.205Z"
   },
   {
    "duration": 304,
    "start_time": "2021-09-03T19:39:30.420Z"
   },
   {
    "duration": 3,
    "start_time": "2021-09-03T19:39:30.726Z"
   },
   {
    "duration": 22,
    "start_time": "2021-09-03T19:39:30.731Z"
   },
   {
    "duration": 12,
    "start_time": "2021-09-03T19:39:30.756Z"
   },
   {
    "duration": 33,
    "start_time": "2021-09-03T19:39:30.771Z"
   },
   {
    "duration": 17,
    "start_time": "2021-09-03T19:39:30.807Z"
   },
   {
    "duration": 42,
    "start_time": "2021-09-03T19:39:30.827Z"
   },
   {
    "duration": 17,
    "start_time": "2021-09-03T19:39:30.872Z"
   },
   {
    "duration": 1521,
    "start_time": "2021-09-03T19:39:30.892Z"
   },
   {
    "duration": 451,
    "start_time": "2021-09-03T19:39:32.416Z"
   },
   {
    "duration": 8,
    "start_time": "2021-09-03T19:39:32.871Z"
   },
   {
    "duration": 28,
    "start_time": "2021-09-03T19:39:32.881Z"
   },
   {
    "duration": 18,
    "start_time": "2021-09-03T19:39:32.911Z"
   },
   {
    "duration": 1223,
    "start_time": "2021-09-03T19:39:32.957Z"
   },
   {
    "duration": 4,
    "start_time": "2021-09-03T19:39:34.183Z"
   },
   {
    "duration": 6,
    "start_time": "2021-09-03T19:39:34.190Z"
   },
   {
    "duration": 14,
    "start_time": "2021-09-03T19:39:34.198Z"
   },
   {
    "duration": 54,
    "start_time": "2021-09-03T19:39:34.215Z"
   },
   {
    "duration": 6,
    "start_time": "2021-09-03T19:39:34.272Z"
   },
   {
    "duration": 285,
    "start_time": "2021-09-03T19:39:34.281Z"
   },
   {
    "duration": 289,
    "start_time": "2021-09-03T19:39:34.568Z"
   },
   {
    "duration": 6061,
    "start_time": "2021-09-03T19:39:34.860Z"
   },
   {
    "duration": 1538,
    "start_time": "2021-09-03T19:39:40.924Z"
   },
   {
    "duration": 35395,
    "start_time": "2021-09-03T19:39:42.466Z"
   },
   {
    "duration": 4,
    "start_time": "2021-09-03T19:40:17.864Z"
   },
   {
    "duration": 23599,
    "start_time": "2021-09-03T19:40:17.871Z"
   }
  ],
  "kernelspec": {
   "display_name": "Python 3",
   "language": "python",
   "name": "python3"
  },
  "language_info": {
   "codemirror_mode": {
    "name": "ipython",
    "version": 3
   },
   "file_extension": ".py",
   "mimetype": "text/x-python",
   "name": "python",
   "nbconvert_exporter": "python",
   "pygments_lexer": "ipython3",
   "version": "3.7.8"
  },
  "toc": {
   "base_numbering": 1,
   "nav_menu": {},
   "number_sections": true,
   "sideBar": true,
   "skip_h1_title": true,
   "title_cell": "Содержание",
   "title_sidebar": "Contents",
   "toc_cell": true,
   "toc_position": {
    "height": "calc(100% - 180px)",
    "left": "10px",
    "top": "150px",
    "width": "170.594px"
   },
   "toc_section_display": true,
   "toc_window_display": true
  }
 },
 "nbformat": 4,
 "nbformat_minor": 2
}
